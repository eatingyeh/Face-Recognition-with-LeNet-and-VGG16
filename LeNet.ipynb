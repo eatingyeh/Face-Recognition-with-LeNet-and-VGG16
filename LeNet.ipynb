{
 "cells": [
  {
   "cell_type": "code",
   "execution_count": 1,
   "id": "infectious-margin",
   "metadata": {},
   "outputs": [
    {
     "name": "stdout",
     "output_type": "stream",
     "text": [
      "\u001b[33mWARNING: Value for scheme.headers does not match. Please report this to <https://github.com/pypa/pip/issues/9617>\n",
      "distutils: /anaconda3/include/python3.6m/UNKNOWN\n",
      "sysconfig: /anaconda3/include/python3.6m\u001b[0m\n",
      "\u001b[33mWARNING: Additional context:\n",
      "user = False\n",
      "home = None\n",
      "root = None\n",
      "prefix = None\u001b[0m\n",
      "Requirement already satisfied: ipynb in /anaconda3/lib/python3.6/site-packages (0.5.1)\n",
      "\u001b[33mWARNING: Value for scheme.headers does not match. Please report this to <https://github.com/pypa/pip/issues/9617>\n",
      "distutils: /anaconda3/include/python3.6m/UNKNOWN\n",
      "sysconfig: /anaconda3/include/python3.6m\u001b[0m\n",
      "\u001b[33mWARNING: Additional context:\n",
      "user = False\n",
      "home = None\n",
      "root = None\n",
      "prefix = None\u001b[0m\n"
     ]
    }
   ],
   "source": [
    "!pip install ipynb"
   ]
  },
  {
   "cell_type": "code",
   "execution_count": 2,
   "id": "worldwide-theory",
   "metadata": {},
   "outputs": [
    {
     "name": "stdout",
     "output_type": "stream",
     "text": [
      "                                 Id                      Old_Id  \\\n",
      "0  ./People_after/Ennie/Ennie07.JPG  ./People/Ennie/Ennie07.JPG   \n",
      "1  ./People_after/Ennie/Ennie06.JPG  ./People/Ennie/Ennie06.JPG   \n",
      "2  ./People_after/Ennie/Ennie10.JPG  ./People/Ennie/Ennie10.JPG   \n",
      "3  ./People_after/Ennie/Ennie04.JPG  ./People/Ennie/Ennie04.JPG   \n",
      "4  ./People_after/Ennie/Ennie05.JPG  ./People/Ennie/Ennie05.JPG   \n",
      "\n",
      "      Folder_Name   Image_Name Person_Name  Labels  \n",
      "0  ./People/Ennie  Ennie07.JPG       Ennie       1  \n",
      "1  ./People/Ennie  Ennie06.JPG       Ennie       1  \n",
      "2  ./People/Ennie  Ennie10.JPG       Ennie       1  \n",
      "3  ./People/Ennie  Ennie04.JPG       Ennie       1  \n",
      "4  ./People/Ennie  Ennie05.JPG       Ennie       1   \n",
      "\n",
      "                                    Id                        Old_Id  \\\n",
      "45  ./People_after/Teresa/Teresa02.JPG  ./People/Teresa/Teresa02.JPG   \n",
      "46  ./People_after/Teresa/Teresa03.JPG  ./People/Teresa/Teresa03.JPG   \n",
      "47  ./People_after/Teresa/Teresa01.JPG  ./People/Teresa/Teresa01.JPG   \n",
      "48  ./People_after/Teresa/Teresa08.JPG  ./People/Teresa/Teresa08.JPG   \n",
      "49  ./People_after/Teresa/Teresa09.JPG  ./People/Teresa/Teresa09.JPG   \n",
      "\n",
      "        Folder_Name    Image_Name Person_Name  Labels  \n",
      "45  ./People/Teresa  Teresa02.JPG      Teresa       5  \n",
      "46  ./People/Teresa  Teresa03.JPG      Teresa       5  \n",
      "47  ./People/Teresa  Teresa01.JPG      Teresa       5  \n",
      "48  ./People/Teresa  Teresa08.JPG      Teresa       5  \n",
      "49  ./People/Teresa  Teresa09.JPG      Teresa       5  \n"
     ]
    },
    {
     "data": {
      "application/vnd.jupyter.widget-view+json": {
       "model_id": "1f7e8402dff74126aeaa6a79b665bed8",
       "version_major": 2,
       "version_minor": 0
      },
      "text/plain": [
       "HBox(children=(FloatProgress(value=0.0, max=50.0), HTML(value='')))"
      ]
     },
     "metadata": {},
     "output_type": "display_data"
    },
    {
     "name": "stdout",
     "output_type": "stream",
     "text": [
      "\n"
     ]
    }
   ],
   "source": [
    "# import dataframe which stores information of the dataset\n",
    "from ipynb.fs.full.ImageProcessing_LeNet import load_data"
   ]
  },
  {
   "cell_type": "code",
   "execution_count": 3,
   "id": "pending-trader",
   "metadata": {},
   "outputs": [],
   "source": [
    "#import used libraries\n",
    "import numpy as np\n",
    "import pandas as pd\n",
    "import seaborn as sns\n",
    "import matplotlib.pyplot as plt\n",
    "from sklearn.model_selection import train_test_split\n",
    "from keras.layers import Dropout, Dense, Activation, Flatten, Conv2D, MaxPooling2D\n",
    "from keras.layers.normalization import BatchNormalization\n",
    "from keras.models import Sequential, load_model\n",
    "from sklearn.metrics import accuracy_score, confusion_matrix\n",
    "from sklearn.preprocessing import OneHotEncoder\n",
    "import keras\n",
    "from keras.callbacks import ModelCheckpoint, EarlyStopping"
   ]
  },
  {
   "cell_type": "code",
   "execution_count": 4,
   "id": "serial-hands",
   "metadata": {},
   "outputs": [],
   "source": [
    "X, Y = load_data()"
   ]
  },
  {
   "cell_type": "markdown",
   "id": "peripheral-investing",
   "metadata": {},
   "source": [
    "## Model Defining"
   ]
  },
  {
   "cell_type": "code",
   "execution_count": 5,
   "id": "three-paradise",
   "metadata": {},
   "outputs": [],
   "source": [
    "class LeNet:\n",
    "    \"\"\"LeNet Architecture\"\"\"\n",
    "    def build():  \n",
    "        # initialize the model  \n",
    "        model = Sequential()  \n",
    "   \n",
    "        # first set of CONV => tanh => POOL  \n",
    "        model.add(Conv2D(16, (5, 5), activation='tanh', input_shape=(64, 64, 3)))  \n",
    "        model.add(MaxPooling2D(pool_size=(2, 2)))\n",
    "   \n",
    "        # second set of CONV => relu => POOL  \n",
    "        model.add(Conv2D(32, (5, 5)))  \n",
    "        model.add(Activation(\"tanh\"))  \n",
    "        model.add(MaxPooling2D(pool_size=(2, 2)))\n",
    "   \n",
    "        # first set of Flatten => relu layers  \n",
    "        model.add(Flatten())  \n",
    "        model.add(Dense(120))  \n",
    "        model.add(Activation(\"tanh\"))  \n",
    "        \n",
    "        # second set of Flatten => relu layers  \n",
    "        model.add(Flatten())  \n",
    "        model.add(Dense(84))  \n",
    "        model.add(Activation(\"tanh\"))\n",
    "    \n",
    "        # softmax classifier  \n",
    "        model.add(Dense(5, activation='softmax'))\n",
    "\n",
    "        # return the constructed network architecture  \n",
    "        return model"
   ]
  },
  {
   "cell_type": "code",
   "execution_count": 6,
   "id": "floral-title",
   "metadata": {},
   "outputs": [
    {
     "name": "stdout",
     "output_type": "stream",
     "text": [
      "Model: \"sequential\"\n",
      "_________________________________________________________________\n",
      "Layer (type)                 Output Shape              Param #   \n",
      "=================================================================\n",
      "conv2d (Conv2D)              (None, 60, 60, 16)        1216      \n",
      "_________________________________________________________________\n",
      "max_pooling2d (MaxPooling2D) (None, 30, 30, 16)        0         \n",
      "_________________________________________________________________\n",
      "conv2d_1 (Conv2D)            (None, 26, 26, 32)        12832     \n",
      "_________________________________________________________________\n",
      "activation (Activation)      (None, 26, 26, 32)        0         \n",
      "_________________________________________________________________\n",
      "max_pooling2d_1 (MaxPooling2 (None, 13, 13, 32)        0         \n",
      "_________________________________________________________________\n",
      "flatten (Flatten)            (None, 5408)              0         \n",
      "_________________________________________________________________\n",
      "dense (Dense)                (None, 120)               649080    \n",
      "_________________________________________________________________\n",
      "activation_1 (Activation)    (None, 120)               0         \n",
      "_________________________________________________________________\n",
      "flatten_1 (Flatten)          (None, 120)               0         \n",
      "_________________________________________________________________\n",
      "dense_1 (Dense)              (None, 84)                10164     \n",
      "_________________________________________________________________\n",
      "activation_2 (Activation)    (None, 84)                0         \n",
      "_________________________________________________________________\n",
      "dense_2 (Dense)              (None, 5)                 425       \n",
      "=================================================================\n",
      "Total params: 673,717\n",
      "Trainable params: 673,717\n",
      "Non-trainable params: 0\n",
      "_________________________________________________________________\n"
     ]
    }
   ],
   "source": [
    "model = LeNet.build()\n",
    "model.summary()"
   ]
  },
  {
   "cell_type": "code",
   "execution_count": 7,
   "id": "prescription-kansas",
   "metadata": {},
   "outputs": [],
   "source": [
    "early_stopping = EarlyStopping(monitor='val_loss', patience=5, restore_best_weights=True)"
   ]
  },
  {
   "cell_type": "markdown",
   "id": "invisible-piece",
   "metadata": {},
   "source": [
    "## Model Compiling with different optimizers"
   ]
  },
  {
   "cell_type": "markdown",
   "id": "headed-today",
   "metadata": {},
   "source": [
    "Stochastic Gradient Descent"
   ]
  },
  {
   "cell_type": "code",
   "execution_count": 8,
   "id": "lined-nerve",
   "metadata": {},
   "outputs": [],
   "source": [
    "LeNet_SGD = LeNet.build()"
   ]
  },
  {
   "cell_type": "code",
   "execution_count": 9,
   "id": "neutral-stake",
   "metadata": {},
   "outputs": [],
   "source": [
    "opt_SGD = keras.optimizers.SGD(lr=0.01)  \n",
    "LeNet_SGD.compile(loss=\"categorical_crossentropy\", optimizer=opt_SGD, metrics=[\"accuracy\"]) "
   ]
  },
  {
   "cell_type": "code",
   "execution_count": 10,
   "id": "occupied-staff",
   "metadata": {},
   "outputs": [],
   "source": [
    "LeNet_SGD_model_checkpoint = ModelCheckpoint('face_detect_LeNet_SGD.h5', verbose=1, save_best_only=True)"
   ]
  },
  {
   "cell_type": "markdown",
   "id": "threatened-teddy",
   "metadata": {},
   "source": [
    "Adam"
   ]
  },
  {
   "cell_type": "code",
   "execution_count": 11,
   "id": "forced-weight",
   "metadata": {},
   "outputs": [],
   "source": [
    "LeNet_Adam = LeNet.build()"
   ]
  },
  {
   "cell_type": "code",
   "execution_count": 12,
   "id": "alone-treasurer",
   "metadata": {},
   "outputs": [],
   "source": [
    "opt_Adam = keras.optimizers.Adam(lr=0.01)\n",
    "LeNet_Adam.compile(loss=\"categorical_crossentropy\", optimizer=opt_Adam, metrics=[\"accuracy\"]) "
   ]
  },
  {
   "cell_type": "code",
   "execution_count": 13,
   "id": "quarterly-company",
   "metadata": {},
   "outputs": [],
   "source": [
    "LeNet_Adam_model_checkpoint = ModelCheckpoint('face_detect_LeNet_Adam.h5', verbose=1, save_best_only=True)"
   ]
  },
  {
   "cell_type": "markdown",
   "id": "casual-links",
   "metadata": {},
   "source": [
    "Adagrad"
   ]
  },
  {
   "cell_type": "code",
   "execution_count": 14,
   "id": "behind-system",
   "metadata": {},
   "outputs": [],
   "source": [
    "LeNet_Adagrad = LeNet.build()"
   ]
  },
  {
   "cell_type": "code",
   "execution_count": 15,
   "id": "polyphonic-glossary",
   "metadata": {},
   "outputs": [],
   "source": [
    "opt_Adagrad = keras.optimizers.Adagrad(lr=0.01)\n",
    "LeNet_Adagrad.compile(loss=\"categorical_crossentropy\", optimizer=opt_Adagrad, metrics=[\"accuracy\"]) "
   ]
  },
  {
   "cell_type": "code",
   "execution_count": 16,
   "id": "civilian-nelson",
   "metadata": {},
   "outputs": [],
   "source": [
    "LeNet_Adagrad_model_checkpoint = ModelCheckpoint('face_detect_LeNet_Adagrad.h5', verbose=1, save_best_only=True)"
   ]
  },
  {
   "cell_type": "markdown",
   "id": "refined-calculator",
   "metadata": {},
   "source": [
    "Adadelta"
   ]
  },
  {
   "cell_type": "code",
   "execution_count": 17,
   "id": "removed-jesus",
   "metadata": {},
   "outputs": [],
   "source": [
    "LeNet_Adadelta = LeNet.build()"
   ]
  },
  {
   "cell_type": "code",
   "execution_count": 18,
   "id": "magnetic-canberra",
   "metadata": {},
   "outputs": [],
   "source": [
    "opt_Adadelta = keras.optimizers.Adadelta(lr=0.01)\n",
    "LeNet_Adadelta.compile(loss=\"categorical_crossentropy\", optimizer=opt_Adadelta, metrics=[\"accuracy\"]) "
   ]
  },
  {
   "cell_type": "code",
   "execution_count": 19,
   "id": "documentary-excerpt",
   "metadata": {},
   "outputs": [],
   "source": [
    "LeNet_Adadelta_model_checkpoint = ModelCheckpoint('face_detect_LeNet_Adadelta.h5', verbose=1, save_best_only=True)"
   ]
  },
  {
   "cell_type": "markdown",
   "id": "packed-steal",
   "metadata": {},
   "source": [
    "Nadam"
   ]
  },
  {
   "cell_type": "code",
   "execution_count": 20,
   "id": "creative-threat",
   "metadata": {},
   "outputs": [],
   "source": [
    "LeNet_Nadam = LeNet.build()"
   ]
  },
  {
   "cell_type": "code",
   "execution_count": 21,
   "id": "metropolitan-burns",
   "metadata": {},
   "outputs": [],
   "source": [
    "opt_Nadam = keras.optimizers.Nadam(lr=0.01)\n",
    "LeNet_Nadam.compile(loss=\"categorical_crossentropy\", optimizer=opt_Nadam, metrics=[\"accuracy\"]) "
   ]
  },
  {
   "cell_type": "code",
   "execution_count": 22,
   "id": "external-python",
   "metadata": {},
   "outputs": [],
   "source": [
    "LeNet_Nadam_model_checkpoint = ModelCheckpoint('face_detect_LeNet_Nadam.h5', verbose=1, save_best_only=True)"
   ]
  },
  {
   "cell_type": "markdown",
   "id": "boring-watch",
   "metadata": {},
   "source": [
    "## Model Training"
   ]
  },
  {
   "cell_type": "code",
   "execution_count": 23,
   "id": "isolated-musical",
   "metadata": {},
   "outputs": [],
   "source": [
    "n_folds=5\n",
    "epochs=30\n",
    "batch_size=8"
   ]
  },
  {
   "cell_type": "code",
   "execution_count": 24,
   "id": "dangerous-assistant",
   "metadata": {},
   "outputs": [],
   "source": [
    "X_train, X_valid, Y_train, Y_valid = train_test_split(X, Y, test_size=0.1, random_state = 5)"
   ]
  },
  {
   "cell_type": "code",
   "execution_count": 25,
   "id": "metropolitan-luxury",
   "metadata": {},
   "outputs": [],
   "source": [
    "#define a function to fit the model\n",
    "def fit_and_evaluate(model, x_train, x_valid, x_test, y_train, y_valid, y_test, model_checkpoint):\n",
    "    history = None\n",
    "    history = model.fit(x_train, y_train,\n",
    "                        batch_size=batch_size,\n",
    "                        epochs=epochs,\n",
    "                        callbacks=[early_stopping, model_checkpoint],\n",
    "                        validation_data=(x_valid, y_valid))  \n",
    "    print(\"Val Score: \", model.evaluate(x_test, y_test))\n",
    "    return history"
   ]
  },
  {
   "cell_type": "markdown",
   "id": "crude-humanity",
   "metadata": {},
   "source": [
    "Stochastic Gradient Descent"
   ]
  },
  {
   "cell_type": "code",
   "execution_count": 26,
   "id": "fleet-flour",
   "metadata": {},
   "outputs": [
    {
     "name": "stdout",
     "output_type": "stream",
     "text": [
      "Training on Fold:  1\n",
      "Epoch 1/30\n",
      "5/5 [==============================] - 1s 202ms/step - loss: 1.8334 - accuracy: 0.1730 - val_loss: 2.0107 - val_accuracy: 0.2000\n",
      "\n",
      "Epoch 00001: val_loss improved from inf to 2.01067, saving model to face_detect_LeNet_SGD.h5\n",
      "Epoch 2/30\n",
      "5/5 [==============================] - 0s 50ms/step - loss: 1.7593 - accuracy: 0.1325 - val_loss: 1.7739 - val_accuracy: 0.4000\n",
      "\n",
      "Epoch 00002: val_loss improved from 2.01067 to 1.77393, saving model to face_detect_LeNet_SGD.h5\n",
      "Epoch 3/30\n",
      "5/5 [==============================] - 0s 41ms/step - loss: 1.6222 - accuracy: 0.3119 - val_loss: 1.7296 - val_accuracy: 0.2000\n",
      "\n",
      "Epoch 00003: val_loss improved from 1.77393 to 1.72960, saving model to face_detect_LeNet_SGD.h5\n",
      "Epoch 4/30\n",
      "5/5 [==============================] - 0s 36ms/step - loss: 1.4831 - accuracy: 0.4456 - val_loss: 1.6999 - val_accuracy: 0.2000\n",
      "\n",
      "Epoch 00004: val_loss improved from 1.72960 to 1.69994, saving model to face_detect_LeNet_SGD.h5\n",
      "Epoch 5/30\n",
      "5/5 [==============================] - 0s 35ms/step - loss: 1.3950 - accuracy: 0.6007 - val_loss: 1.6131 - val_accuracy: 0.2000\n",
      "\n",
      "Epoch 00005: val_loss improved from 1.69994 to 1.61311, saving model to face_detect_LeNet_SGD.h5\n",
      "Epoch 6/30\n",
      "5/5 [==============================] - 0s 46ms/step - loss: 1.3801 - accuracy: 0.5677 - val_loss: 1.5706 - val_accuracy: 0.4000\n",
      "\n",
      "Epoch 00006: val_loss improved from 1.61311 to 1.57060, saving model to face_detect_LeNet_SGD.h5\n",
      "Epoch 7/30\n",
      "5/5 [==============================] - 0s 37ms/step - loss: 1.2884 - accuracy: 0.5804 - val_loss: 1.8925 - val_accuracy: 0.0000e+00\n",
      "\n",
      "Epoch 00007: val_loss did not improve from 1.57060\n",
      "Epoch 8/30\n",
      "5/5 [==============================] - 0s 61ms/step - loss: 1.2374 - accuracy: 0.6146 - val_loss: 1.8218 - val_accuracy: 0.2000\n",
      "\n",
      "Epoch 00008: val_loss did not improve from 1.57060\n",
      "Epoch 9/30\n",
      "5/5 [==============================] - 0s 65ms/step - loss: 1.2005 - accuracy: 0.6117 - val_loss: 1.7544 - val_accuracy: 0.0000e+00\n",
      "\n",
      "Epoch 00009: val_loss did not improve from 1.57060\n",
      "Epoch 10/30\n",
      "5/5 [==============================] - 0s 69ms/step - loss: 1.1046 - accuracy: 0.8177 - val_loss: 1.4887 - val_accuracy: 0.2000\n",
      "\n",
      "Epoch 00010: val_loss improved from 1.57060 to 1.48869, saving model to face_detect_LeNet_SGD.h5\n",
      "Epoch 11/30\n",
      "5/5 [==============================] - 0s 73ms/step - loss: 1.0842 - accuracy: 0.7442 - val_loss: 1.6056 - val_accuracy: 0.0000e+00\n",
      "\n",
      "Epoch 00011: val_loss did not improve from 1.48869\n",
      "Epoch 12/30\n",
      "5/5 [==============================] - 0s 46ms/step - loss: 0.9322 - accuracy: 0.8519 - val_loss: 1.8864 - val_accuracy: 0.0000e+00\n",
      "\n",
      "Epoch 00012: val_loss did not improve from 1.48869\n",
      "Epoch 13/30\n",
      "5/5 [==============================] - 0s 67ms/step - loss: 0.8472 - accuracy: 0.7697 - val_loss: 1.7252 - val_accuracy: 0.0000e+00\n",
      "\n",
      "Epoch 00013: val_loss did not improve from 1.48869\n",
      "Epoch 14/30\n",
      "5/5 [==============================] - 0s 71ms/step - loss: 0.8030 - accuracy: 0.8356 - val_loss: 1.5439 - val_accuracy: 0.0000e+00\n",
      "\n",
      "Epoch 00014: val_loss did not improve from 1.48869\n",
      "Epoch 15/30\n",
      "5/5 [==============================] - 0s 33ms/step - loss: 0.7467 - accuracy: 0.8941 - val_loss: 1.8602 - val_accuracy: 0.0000e+00\n",
      "\n",
      "Epoch 00015: val_loss did not improve from 1.48869\n",
      "1/1 [==============================] - 0s 24ms/step - loss: 1.5593 - accuracy: 0.3333\n",
      "Val Score:  [1.5592751502990723, 0.3333333432674408]\n",
      "====================================================================================\n",
      "\n",
      "\n",
      "Training on Fold:  2\n",
      "Epoch 1/30\n",
      "5/5 [==============================] - 0s 53ms/step - loss: 1.1494 - accuracy: 0.6111 - val_loss: 1.9864 - val_accuracy: 0.0000e+00\n",
      "\n",
      "Epoch 00001: val_loss did not improve from 1.48869\n",
      "Epoch 2/30\n",
      "5/5 [==============================] - 0s 51ms/step - loss: 1.1305 - accuracy: 0.6667 - val_loss: 1.9902 - val_accuracy: 0.2000\n",
      "\n",
      "Epoch 00002: val_loss did not improve from 1.48869\n",
      "Epoch 3/30\n",
      "5/5 [==============================] - 0s 56ms/step - loss: 1.0321 - accuracy: 0.7222 - val_loss: 1.8330 - val_accuracy: 0.2000\n",
      "\n",
      "Epoch 00003: val_loss did not improve from 1.48869\n",
      "Epoch 4/30\n",
      "5/5 [==============================] - 0s 56ms/step - loss: 0.9630 - accuracy: 0.7500 - val_loss: 1.7550 - val_accuracy: 0.2000\n",
      "\n",
      "Epoch 00004: val_loss did not improve from 1.48869\n",
      "Epoch 5/30\n",
      "5/5 [==============================] - 0s 48ms/step - loss: 0.8973 - accuracy: 0.8056 - val_loss: 1.4949 - val_accuracy: 0.2000\n",
      "\n",
      "Epoch 00005: val_loss did not improve from 1.48869\n",
      "Epoch 6/30\n",
      "5/5 [==============================] - 0s 33ms/step - loss: 0.7924 - accuracy: 0.9444 - val_loss: 1.6242 - val_accuracy: 0.2000\n",
      "\n",
      "Epoch 00006: val_loss did not improve from 1.48869\n",
      "Epoch 7/30\n",
      "5/5 [==============================] - 0s 35ms/step - loss: 0.6822 - accuracy: 0.9722 - val_loss: 1.8001 - val_accuracy: 0.2000\n",
      "\n",
      "Epoch 00007: val_loss did not improve from 1.48869\n",
      "Epoch 8/30\n",
      "5/5 [==============================] - 0s 58ms/step - loss: 0.6425 - accuracy: 0.9167 - val_loss: 1.8533 - val_accuracy: 0.2000\n",
      "\n",
      "Epoch 00008: val_loss did not improve from 1.48869\n",
      "Epoch 9/30\n",
      "5/5 [==============================] - 0s 34ms/step - loss: 0.5544 - accuracy: 0.9722 - val_loss: 2.2097 - val_accuracy: 0.2000\n",
      "\n",
      "Epoch 00009: val_loss did not improve from 1.48869\n",
      "Epoch 10/30\n",
      "5/5 [==============================] - 0s 37ms/step - loss: 0.5394 - accuracy: 0.9444 - val_loss: 2.1145 - val_accuracy: 0.2000\n",
      "\n",
      "Epoch 00010: val_loss did not improve from 1.48869\n",
      "1/1 [==============================] - 0s 46ms/step - loss: 1.0163 - accuracy: 0.6667\n",
      "Val Score:  [1.0162816047668457, 0.6666666865348816]\n",
      "====================================================================================\n",
      "\n",
      "\n",
      "Training on Fold:  3\n",
      "Epoch 1/30\n",
      "5/5 [==============================] - 0s 74ms/step - loss: 0.9118 - accuracy: 0.8056 - val_loss: 1.5872 - val_accuracy: 0.2000\n",
      "\n",
      "Epoch 00001: val_loss did not improve from 1.48869\n",
      "Epoch 2/30\n",
      "5/5 [==============================] - 0s 33ms/step - loss: 0.8507 - accuracy: 0.8611 - val_loss: 1.4825 - val_accuracy: 0.2000\n",
      "\n",
      "Epoch 00002: val_loss improved from 1.48869 to 1.48250, saving model to face_detect_LeNet_SGD.h5\n",
      "Epoch 3/30\n",
      "5/5 [==============================] - 0s 31ms/step - loss: 0.7335 - accuracy: 0.9167 - val_loss: 1.4758 - val_accuracy: 0.2000\n",
      "\n",
      "Epoch 00003: val_loss improved from 1.48250 to 1.47576, saving model to face_detect_LeNet_SGD.h5\n",
      "Epoch 4/30\n",
      "5/5 [==============================] - 0s 34ms/step - loss: 0.6757 - accuracy: 0.9167 - val_loss: 1.7152 - val_accuracy: 0.2000\n",
      "\n",
      "Epoch 00004: val_loss did not improve from 1.47576\n",
      "Epoch 5/30\n",
      "5/5 [==============================] - 0s 79ms/step - loss: 0.5999 - accuracy: 0.9444 - val_loss: 1.3667 - val_accuracy: 0.2000\n",
      "\n",
      "Epoch 00005: val_loss improved from 1.47576 to 1.36667, saving model to face_detect_LeNet_SGD.h5\n",
      "Epoch 6/30\n",
      "5/5 [==============================] - 0s 33ms/step - loss: 0.5640 - accuracy: 0.9722 - val_loss: 1.4768 - val_accuracy: 0.2000\n",
      "\n",
      "Epoch 00006: val_loss did not improve from 1.36667\n",
      "Epoch 7/30\n",
      "5/5 [==============================] - 0s 33ms/step - loss: 0.4880 - accuracy: 0.9444 - val_loss: 1.1675 - val_accuracy: 0.2000\n",
      "\n",
      "Epoch 00007: val_loss improved from 1.36667 to 1.16746, saving model to face_detect_LeNet_SGD.h5\n",
      "Epoch 8/30\n",
      "5/5 [==============================] - 0s 31ms/step - loss: 0.4427 - accuracy: 0.9722 - val_loss: 1.1150 - val_accuracy: 0.6000\n",
      "\n",
      "Epoch 00008: val_loss improved from 1.16746 to 1.11500, saving model to face_detect_LeNet_SGD.h5\n",
      "Epoch 9/30\n",
      "5/5 [==============================] - 0s 31ms/step - loss: 0.4036 - accuracy: 1.0000 - val_loss: 1.5203 - val_accuracy: 0.2000\n",
      "\n",
      "Epoch 00009: val_loss did not improve from 1.11500\n",
      "Epoch 10/30\n",
      "5/5 [==============================] - 0s 38ms/step - loss: 0.3679 - accuracy: 1.0000 - val_loss: 1.1170 - val_accuracy: 0.6000\n",
      "\n",
      "Epoch 00010: val_loss did not improve from 1.11500\n",
      "Epoch 11/30\n",
      "5/5 [==============================] - 0s 35ms/step - loss: 0.3304 - accuracy: 1.0000 - val_loss: 1.3244 - val_accuracy: 0.2000\n",
      "\n",
      "Epoch 00011: val_loss did not improve from 1.11500\n",
      "Epoch 12/30\n",
      "5/5 [==============================] - 0s 56ms/step - loss: 0.3023 - accuracy: 1.0000 - val_loss: 1.1899 - val_accuracy: 0.4000\n",
      "\n",
      "Epoch 00012: val_loss did not improve from 1.11500\n",
      "Epoch 13/30\n",
      "5/5 [==============================] - 0s 53ms/step - loss: 0.2796 - accuracy: 0.9722 - val_loss: 1.3777 - val_accuracy: 0.2000\n",
      "\n",
      "Epoch 00013: val_loss did not improve from 1.11500\n",
      "1/1 [==============================] - 0s 29ms/step - loss: 0.6133 - accuracy: 0.7778\n",
      "Val Score:  [0.6133020520210266, 0.7777777910232544]\n",
      "====================================================================================\n",
      "\n",
      "\n",
      "Training on Fold:  4\n",
      "Epoch 1/30\n",
      "5/5 [==============================] - 0s 45ms/step - loss: 0.4467 - accuracy: 1.0000 - val_loss: 1.5404 - val_accuracy: 0.4000\n",
      "\n",
      "Epoch 00001: val_loss did not improve from 1.11500\n",
      "Epoch 2/30\n",
      "5/5 [==============================] - 0s 32ms/step - loss: 0.3917 - accuracy: 1.0000 - val_loss: 1.6509 - val_accuracy: 0.2000\n",
      "\n",
      "Epoch 00002: val_loss did not improve from 1.11500\n",
      "Epoch 3/30\n",
      "5/5 [==============================] - 0s 47ms/step - loss: 0.3381 - accuracy: 1.0000 - val_loss: 1.6196 - val_accuracy: 0.2000\n",
      "\n",
      "Epoch 00003: val_loss did not improve from 1.11500\n",
      "Epoch 4/30\n",
      "5/5 [==============================] - 0s 38ms/step - loss: 0.3028 - accuracy: 1.0000 - val_loss: 1.6988 - val_accuracy: 0.4000\n",
      "\n",
      "Epoch 00004: val_loss did not improve from 1.11500\n",
      "Epoch 5/30\n",
      "5/5 [==============================] - 0s 35ms/step - loss: 0.2736 - accuracy: 1.0000 - val_loss: 1.5778 - val_accuracy: 0.2000\n",
      "\n",
      "Epoch 00005: val_loss did not improve from 1.11500\n",
      "Epoch 6/30\n",
      "5/5 [==============================] - 0s 40ms/step - loss: 0.2544 - accuracy: 1.0000 - val_loss: 1.5623 - val_accuracy: 0.4000\n",
      "\n",
      "Epoch 00006: val_loss did not improve from 1.11500\n",
      "1/1 [==============================] - 0s 24ms/step - loss: 0.4547 - accuracy: 0.7778\n",
      "Val Score:  [0.454694539308548, 0.7777777910232544]\n",
      "====================================================================================\n",
      "\n",
      "\n",
      "Training on Fold:  5\n",
      "Epoch 1/30\n",
      "5/5 [==============================] - 0s 83ms/step - loss: 0.4141 - accuracy: 0.9444 - val_loss: 1.1283 - val_accuracy: 0.4000\n",
      "\n",
      "Epoch 00001: val_loss did not improve from 1.11500\n",
      "Epoch 2/30\n",
      "5/5 [==============================] - 0s 32ms/step - loss: 0.3655 - accuracy: 1.0000 - val_loss: 1.4836 - val_accuracy: 0.2000\n",
      "\n",
      "Epoch 00002: val_loss did not improve from 1.11500\n",
      "Epoch 3/30\n",
      "5/5 [==============================] - 0s 33ms/step - loss: 0.3339 - accuracy: 0.9722 - val_loss: 1.2372 - val_accuracy: 0.2000\n",
      "\n",
      "Epoch 00003: val_loss did not improve from 1.11500\n",
      "Epoch 4/30\n",
      "5/5 [==============================] - 0s 40ms/step - loss: 0.2890 - accuracy: 1.0000 - val_loss: 1.0774 - val_accuracy: 0.4000\n",
      "\n",
      "Epoch 00004: val_loss improved from 1.11500 to 1.07744, saving model to face_detect_LeNet_SGD.h5\n",
      "Epoch 5/30\n",
      "5/5 [==============================] - 0s 32ms/step - loss: 0.2756 - accuracy: 1.0000 - val_loss: 1.1589 - val_accuracy: 0.4000\n",
      "\n",
      "Epoch 00005: val_loss did not improve from 1.07744\n",
      "Epoch 6/30\n",
      "5/5 [==============================] - 0s 36ms/step - loss: 0.2525 - accuracy: 1.0000 - val_loss: 1.2097 - val_accuracy: 0.2000\n",
      "\n",
      "Epoch 00006: val_loss did not improve from 1.07744\n",
      "Epoch 7/30\n",
      "5/5 [==============================] - 0s 41ms/step - loss: 0.2297 - accuracy: 1.0000 - val_loss: 1.2587 - val_accuracy: 0.4000\n",
      "\n",
      "Epoch 00007: val_loss did not improve from 1.07744\n",
      "Epoch 8/30\n",
      "5/5 [==============================] - 0s 48ms/step - loss: 0.2040 - accuracy: 1.0000 - val_loss: 1.3607 - val_accuracy: 0.2000\n",
      "\n",
      "Epoch 00008: val_loss did not improve from 1.07744\n",
      "Epoch 9/30\n",
      "5/5 [==============================] - 0s 41ms/step - loss: 0.1822 - accuracy: 1.0000 - val_loss: 1.2753 - val_accuracy: 0.4000\n",
      "\n",
      "Epoch 00009: val_loss did not improve from 1.07744\n",
      "1/1 [==============================] - 0s 28ms/step - loss: 0.3518 - accuracy: 1.0000\n",
      "Val Score:  [0.35179054737091064, 1.0]\n",
      "====================================================================================\n",
      "\n",
      "\n"
     ]
    }
   ],
   "source": [
    "#save the model history in a list after fitting so that we can plot later\n",
    "LeNet_SGD_history = [] \n",
    "\n",
    "for i in range(n_folds):\n",
    "    print(\"Training on Fold: \",i+1)\n",
    "    x_train, x_test, y_train, y_test = train_test_split(X_train, Y_train, test_size=0.2, \n",
    "                                               random_state = np.random.randint(1,500, 1)[0])\n",
    "    LeNet_SGD_history.append(fit_and_evaluate(LeNet_SGD, x_train, X_valid, x_test,\n",
    "                                              y_train, Y_valid, y_test, LeNet_SGD_model_checkpoint))\n",
    "    print(\"=======\"*12, end=\"\\n\\n\\n\")"
   ]
  },
  {
   "cell_type": "markdown",
   "id": "answering-ownership",
   "metadata": {},
   "source": [
    "Adam"
   ]
  },
  {
   "cell_type": "code",
   "execution_count": 27,
   "id": "greater-voluntary",
   "metadata": {},
   "outputs": [
    {
     "name": "stdout",
     "output_type": "stream",
     "text": [
      "Training on Fold:  1\n",
      "Epoch 1/30\n",
      "5/5 [==============================] - 1s 88ms/step - loss: 2.7043 - accuracy: 0.1927 - val_loss: 3.6733 - val_accuracy: 0.2000\n",
      "\n",
      "Epoch 00001: val_loss improved from inf to 3.67328, saving model to face_detect_LeNet_Adam.h5\n",
      "Epoch 2/30\n",
      "5/5 [==============================] - 0s 33ms/step - loss: 2.7454 - accuracy: 0.1719 - val_loss: 2.8458 - val_accuracy: 0.0000e+00\n",
      "\n",
      "Epoch 00002: val_loss improved from 3.67328 to 2.84581, saving model to face_detect_LeNet_Adam.h5\n",
      "Epoch 3/30\n",
      "5/5 [==============================] - 0s 35ms/step - loss: 1.8955 - accuracy: 0.2662 - val_loss: 1.7280 - val_accuracy: 0.2000\n",
      "\n",
      "Epoch 00003: val_loss improved from 2.84581 to 1.72798, saving model to face_detect_LeNet_Adam.h5\n",
      "Epoch 4/30\n",
      "5/5 [==============================] - 0s 62ms/step - loss: 1.6667 - accuracy: 0.1875 - val_loss: 1.6629 - val_accuracy: 0.2000\n",
      "\n",
      "Epoch 00004: val_loss improved from 1.72798 to 1.66294, saving model to face_detect_LeNet_Adam.h5\n",
      "Epoch 5/30\n",
      "5/5 [==============================] - 0s 34ms/step - loss: 1.6861 - accuracy: 0.1163 - val_loss: 2.1205 - val_accuracy: 0.0000e+00\n",
      "\n",
      "Epoch 00005: val_loss did not improve from 1.66294\n",
      "Epoch 6/30\n",
      "5/5 [==============================] - 0s 40ms/step - loss: 1.5715 - accuracy: 0.1308 - val_loss: 2.0291 - val_accuracy: 0.0000e+00\n",
      "\n",
      "Epoch 00006: val_loss did not improve from 1.66294\n",
      "Epoch 7/30\n",
      "5/5 [==============================] - 0s 44ms/step - loss: 1.6663 - accuracy: 0.2610 - val_loss: 1.7550 - val_accuracy: 0.0000e+00\n",
      "\n",
      "Epoch 00007: val_loss did not improve from 1.66294\n",
      "Epoch 8/30\n",
      "5/5 [==============================] - 0s 57ms/step - loss: 1.6910 - accuracy: 0.0770 - val_loss: 1.7221 - val_accuracy: 0.0000e+00\n",
      "\n",
      "Epoch 00008: val_loss did not improve from 1.66294\n",
      "Epoch 9/30\n",
      "5/5 [==============================] - 0s 45ms/step - loss: 1.6171 - accuracy: 0.2749 - val_loss: 1.8756 - val_accuracy: 0.0000e+00\n",
      "\n",
      "Epoch 00009: val_loss did not improve from 1.66294\n",
      "1/1 [==============================] - 0s 44ms/step - loss: 1.7658 - accuracy: 0.2222\n",
      "Val Score:  [1.7658412456512451, 0.2222222238779068]\n",
      "====================================================================================\n",
      "\n",
      "\n",
      "Training on Fold:  2\n",
      "Epoch 1/30\n",
      "5/5 [==============================] - 0s 76ms/step - loss: 1.7278 - accuracy: 0.2222 - val_loss: 1.8859 - val_accuracy: 0.2000\n",
      "\n",
      "Epoch 00001: val_loss did not improve from 1.66294\n",
      "Epoch 2/30\n",
      "5/5 [==============================] - 0s 56ms/step - loss: 1.7228 - accuracy: 0.2222 - val_loss: 2.0501 - val_accuracy: 0.2000\n",
      "\n",
      "Epoch 00002: val_loss did not improve from 1.66294\n",
      "Epoch 3/30\n",
      "5/5 [==============================] - 0s 46ms/step - loss: 1.6268 - accuracy: 0.1944 - val_loss: 1.8207 - val_accuracy: 0.2000\n",
      "\n",
      "Epoch 00003: val_loss did not improve from 1.66294\n",
      "Epoch 4/30\n",
      "5/5 [==============================] - 0s 51ms/step - loss: 1.6606 - accuracy: 0.1944 - val_loss: 1.6321 - val_accuracy: 0.0000e+00\n",
      "\n",
      "Epoch 00004: val_loss improved from 1.66294 to 1.63207, saving model to face_detect_LeNet_Adam.h5\n",
      "Epoch 5/30\n",
      "5/5 [==============================] - 0s 45ms/step - loss: 1.6424 - accuracy: 0.2222 - val_loss: 1.7328 - val_accuracy: 0.2000\n",
      "\n",
      "Epoch 00005: val_loss did not improve from 1.63207\n",
      "Epoch 6/30\n",
      "5/5 [==============================] - 0s 110ms/step - loss: 1.7045 - accuracy: 0.2222 - val_loss: 1.9900 - val_accuracy: 0.2000\n",
      "\n",
      "Epoch 00006: val_loss did not improve from 1.63207\n",
      "Epoch 7/30\n",
      "5/5 [==============================] - 0s 50ms/step - loss: 1.6677 - accuracy: 0.1667 - val_loss: 2.0185 - val_accuracy: 0.0000e+00\n",
      "\n",
      "Epoch 00007: val_loss did not improve from 1.63207\n",
      "Epoch 8/30\n",
      "5/5 [==============================] - 0s 54ms/step - loss: 1.6494 - accuracy: 0.2222 - val_loss: 1.8214 - val_accuracy: 0.2000\n",
      "\n",
      "Epoch 00008: val_loss did not improve from 1.63207\n",
      "Epoch 9/30\n",
      "5/5 [==============================] - 0s 50ms/step - loss: 1.6484 - accuracy: 0.1667 - val_loss: 1.7150 - val_accuracy: 0.2000\n",
      "\n",
      "Epoch 00009: val_loss did not improve from 1.63207\n",
      "1/1 [==============================] - 0s 26ms/step - loss: 1.5663 - accuracy: 0.2222\n",
      "Val Score:  [1.5663495063781738, 0.2222222238779068]\n",
      "====================================================================================\n",
      "\n",
      "\n",
      "Training on Fold:  3\n",
      "Epoch 1/30\n",
      "5/5 [==============================] - 0s 93ms/step - loss: 1.6492 - accuracy: 0.1944 - val_loss: 1.6920 - val_accuracy: 0.2000\n",
      "\n",
      "Epoch 00001: val_loss did not improve from 1.63207\n",
      "Epoch 2/30\n",
      "5/5 [==============================] - 0s 44ms/step - loss: 1.6940 - accuracy: 0.2222 - val_loss: 1.4976 - val_accuracy: 0.2000\n",
      "\n",
      "Epoch 00002: val_loss improved from 1.63207 to 1.49760, saving model to face_detect_LeNet_Adam.h5\n",
      "Epoch 3/30\n",
      "5/5 [==============================] - 0s 34ms/step - loss: 1.6769 - accuracy: 0.1944 - val_loss: 1.7313 - val_accuracy: 0.2000\n",
      "\n",
      "Epoch 00003: val_loss did not improve from 1.49760\n",
      "Epoch 4/30\n",
      "5/5 [==============================] - 0s 33ms/step - loss: 1.6447 - accuracy: 0.1389 - val_loss: 1.7972 - val_accuracy: 0.2000\n",
      "\n",
      "Epoch 00004: val_loss did not improve from 1.49760\n",
      "Epoch 5/30\n",
      "5/5 [==============================] - 0s 35ms/step - loss: 1.6275 - accuracy: 0.2222 - val_loss: 1.6552 - val_accuracy: 0.2000\n",
      "\n",
      "Epoch 00005: val_loss did not improve from 1.49760\n",
      "Epoch 6/30\n",
      "5/5 [==============================] - 0s 34ms/step - loss: 1.6662 - accuracy: 0.2222 - val_loss: 1.5232 - val_accuracy: 0.4000\n",
      "\n",
      "Epoch 00006: val_loss did not improve from 1.49760\n",
      "Epoch 7/30\n",
      "5/5 [==============================] - 0s 34ms/step - loss: 1.6597 - accuracy: 0.1111 - val_loss: 1.6104 - val_accuracy: 0.4000\n",
      "\n",
      "Epoch 00007: val_loss did not improve from 1.49760\n",
      "1/1 [==============================] - 0s 30ms/step - loss: 1.7780 - accuracy: 0.2222\n",
      "Val Score:  [1.77804434299469, 0.2222222238779068]\n",
      "====================================================================================\n",
      "\n",
      "\n",
      "Training on Fold:  4\n",
      "Epoch 1/30\n",
      "5/5 [==============================] - 0s 51ms/step - loss: 1.7367 - accuracy: 0.1389 - val_loss: 1.6017 - val_accuracy: 0.4000\n",
      "\n",
      "Epoch 00001: val_loss did not improve from 1.49760\n",
      "Epoch 2/30\n",
      "5/5 [==============================] - 0s 32ms/step - loss: 1.7865 - accuracy: 0.1667 - val_loss: 1.9172 - val_accuracy: 0.0000e+00\n",
      "\n",
      "Epoch 00002: val_loss did not improve from 1.49760\n",
      "Epoch 3/30\n",
      "5/5 [==============================] - 0s 39ms/step - loss: 1.6872 - accuracy: 0.2222 - val_loss: 1.6795 - val_accuracy: 0.2000\n",
      "\n",
      "Epoch 00003: val_loss did not improve from 1.49760\n",
      "Epoch 4/30\n",
      "5/5 [==============================] - 0s 42ms/step - loss: 1.8280 - accuracy: 0.2222 - val_loss: 1.5818 - val_accuracy: 0.2000\n",
      "\n",
      "Epoch 00004: val_loss did not improve from 1.49760\n",
      "Epoch 5/30\n",
      "5/5 [==============================] - 0s 36ms/step - loss: 1.6391 - accuracy: 0.1667 - val_loss: 1.8816 - val_accuracy: 0.0000e+00\n",
      "\n",
      "Epoch 00005: val_loss did not improve from 1.49760\n",
      "Epoch 6/30\n",
      "5/5 [==============================] - 0s 36ms/step - loss: 1.7061 - accuracy: 0.2500 - val_loss: 1.8075 - val_accuracy: 0.0000e+00\n",
      "\n",
      "Epoch 00006: val_loss did not improve from 1.49760\n",
      "Epoch 7/30\n",
      "5/5 [==============================] - 0s 40ms/step - loss: 1.7810 - accuracy: 0.1944 - val_loss: 1.5015 - val_accuracy: 0.2000\n",
      "\n",
      "Epoch 00007: val_loss did not improve from 1.49760\n",
      "Epoch 8/30\n",
      "5/5 [==============================] - 0s 41ms/step - loss: 1.6968 - accuracy: 0.2222 - val_loss: 1.6478 - val_accuracy: 0.0000e+00\n",
      "\n",
      "Epoch 00008: val_loss did not improve from 1.49760\n",
      "Epoch 9/30\n",
      "5/5 [==============================] - 0s 40ms/step - loss: 1.6375 - accuracy: 0.2500 - val_loss: 1.8536 - val_accuracy: 0.0000e+00\n",
      "\n",
      "Epoch 00009: val_loss did not improve from 1.49760\n",
      "Epoch 10/30\n",
      "5/5 [==============================] - 0s 81ms/step - loss: 1.7143 - accuracy: 0.3056 - val_loss: 1.8498 - val_accuracy: 0.2000\n",
      "\n",
      "Epoch 00010: val_loss did not improve from 1.49760\n",
      "Epoch 11/30\n",
      "5/5 [==============================] - 0s 35ms/step - loss: 1.7327 - accuracy: 0.1944 - val_loss: 1.4952 - val_accuracy: 0.4000\n",
      "\n",
      "Epoch 00011: val_loss improved from 1.49760 to 1.49519, saving model to face_detect_LeNet_Adam.h5\n",
      "Epoch 12/30\n",
      "5/5 [==============================] - 0s 35ms/step - loss: 1.6999 - accuracy: 0.1944 - val_loss: 1.7268 - val_accuracy: 0.0000e+00\n",
      "\n",
      "Epoch 00012: val_loss did not improve from 1.49519\n",
      "Epoch 13/30\n"
     ]
    },
    {
     "name": "stdout",
     "output_type": "stream",
     "text": [
      "5/5 [==============================] - 0s 33ms/step - loss: 1.6734 - accuracy: 0.2500 - val_loss: 1.9550 - val_accuracy: 0.0000e+00\n",
      "\n",
      "Epoch 00013: val_loss did not improve from 1.49519\n",
      "Epoch 14/30\n",
      "5/5 [==============================] - 0s 33ms/step - loss: 1.6778 - accuracy: 0.1944 - val_loss: 1.7182 - val_accuracy: 0.2000\n",
      "\n",
      "Epoch 00014: val_loss did not improve from 1.49519\n",
      "Epoch 15/30\n",
      "5/5 [==============================] - 0s 33ms/step - loss: 1.6747 - accuracy: 0.1111 - val_loss: 1.6171 - val_accuracy: 0.2000\n",
      "\n",
      "Epoch 00015: val_loss did not improve from 1.49519\n",
      "Epoch 16/30\n",
      "5/5 [==============================] - 0s 33ms/step - loss: 1.6164 - accuracy: 0.2500 - val_loss: 1.7084 - val_accuracy: 0.0000e+00\n",
      "\n",
      "Epoch 00016: val_loss did not improve from 1.49519\n",
      "1/1 [==============================] - 0s 24ms/step - loss: 1.7254 - accuracy: 0.1111\n",
      "Val Score:  [1.7254300117492676, 0.1111111119389534]\n",
      "====================================================================================\n",
      "\n",
      "\n",
      "Training on Fold:  5\n",
      "Epoch 1/30\n",
      "5/5 [==============================] - 0s 48ms/step - loss: 1.6719 - accuracy: 0.1944 - val_loss: 1.7576 - val_accuracy: 0.0000e+00\n",
      "\n",
      "Epoch 00001: val_loss did not improve from 1.49519\n",
      "Epoch 2/30\n",
      "5/5 [==============================] - 0s 34ms/step - loss: 1.7375 - accuracy: 0.1389 - val_loss: 1.9039 - val_accuracy: 0.2000\n",
      "\n",
      "Epoch 00002: val_loss did not improve from 1.49519\n",
      "Epoch 3/30\n",
      "5/5 [==============================] - 0s 32ms/step - loss: 1.7015 - accuracy: 0.1111 - val_loss: 1.6687 - val_accuracy: 0.2000\n",
      "\n",
      "Epoch 00003: val_loss did not improve from 1.49519\n",
      "Epoch 4/30\n",
      "5/5 [==============================] - 0s 40ms/step - loss: 1.6710 - accuracy: 0.1667 - val_loss: 1.6352 - val_accuracy: 0.2000\n",
      "\n",
      "Epoch 00004: val_loss did not improve from 1.49519\n",
      "Epoch 5/30\n",
      "5/5 [==============================] - 0s 32ms/step - loss: 1.6207 - accuracy: 0.1944 - val_loss: 1.8589 - val_accuracy: 0.0000e+00\n",
      "\n",
      "Epoch 00005: val_loss did not improve from 1.49519\n",
      "Epoch 6/30\n",
      "5/5 [==============================] - 0s 31ms/step - loss: 1.6992 - accuracy: 0.1944 - val_loss: 1.8429 - val_accuracy: 0.2000\n",
      "\n",
      "Epoch 00006: val_loss did not improve from 1.49519\n",
      "Epoch 7/30\n",
      "5/5 [==============================] - 0s 32ms/step - loss: 1.6243 - accuracy: 0.1667 - val_loss: 1.5938 - val_accuracy: 0.4000\n",
      "\n",
      "Epoch 00007: val_loss did not improve from 1.49519\n",
      "Epoch 8/30\n",
      "5/5 [==============================] - 0s 31ms/step - loss: 1.6580 - accuracy: 0.1389 - val_loss: 1.6830 - val_accuracy: 0.0000e+00\n",
      "\n",
      "Epoch 00008: val_loss did not improve from 1.49519\n",
      "Epoch 9/30\n",
      "5/5 [==============================] - 0s 34ms/step - loss: 1.6468 - accuracy: 0.1389 - val_loss: 1.7197 - val_accuracy: 0.2000\n",
      "\n",
      "Epoch 00009: val_loss did not improve from 1.49519\n",
      "Epoch 10/30\n",
      "5/5 [==============================] - 0s 34ms/step - loss: 1.7130 - accuracy: 0.1111 - val_loss: 1.6740 - val_accuracy: 0.0000e+00\n",
      "\n",
      "Epoch 00010: val_loss did not improve from 1.49519\n",
      "Epoch 11/30\n",
      "5/5 [==============================] - 0s 68ms/step - loss: 1.6672 - accuracy: 0.2222 - val_loss: 1.8242 - val_accuracy: 0.0000e+00\n",
      "\n",
      "Epoch 00011: val_loss did not improve from 1.49519\n",
      "Epoch 12/30\n",
      "5/5 [==============================] - 0s 39ms/step - loss: 1.6950 - accuracy: 0.1667 - val_loss: 1.6629 - val_accuracy: 0.2000\n",
      "\n",
      "Epoch 00012: val_loss did not improve from 1.49519\n",
      "1/1 [==============================] - 0s 27ms/step - loss: 1.6079 - accuracy: 0.2222\n",
      "Val Score:  [1.6079105138778687, 0.2222222238779068]\n",
      "====================================================================================\n",
      "\n",
      "\n"
     ]
    }
   ],
   "source": [
    "#save the model history in a list after fitting so that we can plot later\n",
    "LeNet_Adam_history = [] \n",
    "\n",
    "for i in range(n_folds):\n",
    "    print(\"Training on Fold: \",i+1)\n",
    "    x_train, x_test, y_train, y_test = train_test_split(X_train, Y_train, test_size=0.2, \n",
    "                                               random_state = np.random.randint(1,500, 1)[0])\n",
    "    LeNet_Adam_history.append(fit_and_evaluate(LeNet_Adam, x_train, X_valid, x_test,\n",
    "                                              y_train, Y_valid, y_test, LeNet_Adam_model_checkpoint))\n",
    "    print(\"=======\"*12, end=\"\\n\\n\\n\")"
   ]
  },
  {
   "cell_type": "markdown",
   "id": "inner-medicine",
   "metadata": {},
   "source": [
    "Adagrad"
   ]
  },
  {
   "cell_type": "code",
   "execution_count": 28,
   "id": "extreme-market",
   "metadata": {},
   "outputs": [
    {
     "name": "stdout",
     "output_type": "stream",
     "text": [
      "Training on Fold:  1\n",
      "Epoch 1/30\n",
      "5/5 [==============================] - 1s 85ms/step - loss: 1.7463 - accuracy: 0.2164 - val_loss: 2.2264 - val_accuracy: 0.0000e+00\n",
      "\n",
      "Epoch 00001: val_loss improved from inf to 2.22639, saving model to face_detect_LeNet_Adagrad.h5\n",
      "Epoch 2/30\n",
      "5/5 [==============================] - 0s 41ms/step - loss: 1.6383 - accuracy: 0.3119 - val_loss: 1.7422 - val_accuracy: 0.2000\n",
      "\n",
      "Epoch 00002: val_loss improved from 2.22639 to 1.74219, saving model to face_detect_LeNet_Adagrad.h5\n",
      "Epoch 3/30\n",
      "5/5 [==============================] - 0s 51ms/step - loss: 1.5318 - accuracy: 0.1794 - val_loss: 1.7218 - val_accuracy: 0.0000e+00\n",
      "\n",
      "Epoch 00003: val_loss improved from 1.74219 to 1.72178, saving model to face_detect_LeNet_Adagrad.h5\n",
      "Epoch 4/30\n",
      "5/5 [==============================] - 0s 36ms/step - loss: 1.4385 - accuracy: 0.5729 - val_loss: 1.7793 - val_accuracy: 0.2000\n",
      "\n",
      "Epoch 00004: val_loss did not improve from 1.72178\n",
      "Epoch 5/30\n",
      "5/5 [==============================] - 0s 37ms/step - loss: 1.3277 - accuracy: 0.5492 - val_loss: 1.5729 - val_accuracy: 0.4000\n",
      "\n",
      "Epoch 00005: val_loss improved from 1.72178 to 1.57293, saving model to face_detect_LeNet_Adagrad.h5\n",
      "Epoch 6/30\n",
      "5/5 [==============================] - 0s 40ms/step - loss: 1.2215 - accuracy: 0.8171 - val_loss: 1.6249 - val_accuracy: 0.2000\n",
      "\n",
      "Epoch 00006: val_loss did not improve from 1.57293\n",
      "Epoch 7/30\n",
      "5/5 [==============================] - 0s 40ms/step - loss: 1.0382 - accuracy: 0.7703 - val_loss: 1.5773 - val_accuracy: 0.2000\n",
      "\n",
      "Epoch 00007: val_loss did not improve from 1.57293\n",
      "Epoch 8/30\n",
      "5/5 [==============================] - 0s 47ms/step - loss: 0.8501 - accuracy: 0.9184 - val_loss: 1.8749 - val_accuracy: 0.2000\n",
      "\n",
      "Epoch 00008: val_loss did not improve from 1.57293\n",
      "Epoch 9/30\n",
      "5/5 [==============================] - 0s 39ms/step - loss: 0.6719 - accuracy: 0.8536 - val_loss: 1.3505 - val_accuracy: 0.4000\n",
      "\n",
      "Epoch 00009: val_loss improved from 1.57293 to 1.35048, saving model to face_detect_LeNet_Adagrad.h5\n",
      "Epoch 10/30\n",
      "5/5 [==============================] - 0s 35ms/step - loss: 0.6757 - accuracy: 0.9473 - val_loss: 1.4973 - val_accuracy: 0.4000\n",
      "\n",
      "Epoch 00010: val_loss did not improve from 1.35048\n",
      "Epoch 11/30\n",
      "5/5 [==============================] - 0s 41ms/step - loss: 0.6394 - accuracy: 0.7159 - val_loss: 1.4855 - val_accuracy: 0.4000\n",
      "\n",
      "Epoch 00011: val_loss did not improve from 1.35048\n",
      "Epoch 12/30\n",
      "5/5 [==============================] - 0s 42ms/step - loss: 0.3748 - accuracy: 1.0000 - val_loss: 1.8097 - val_accuracy: 0.4000\n",
      "\n",
      "Epoch 00012: val_loss did not improve from 1.35048\n",
      "Epoch 13/30\n",
      "5/5 [==============================] - 0s 64ms/step - loss: 0.2843 - accuracy: 0.9473 - val_loss: 1.2559 - val_accuracy: 0.6000\n",
      "\n",
      "Epoch 00013: val_loss improved from 1.35048 to 1.25594, saving model to face_detect_LeNet_Adagrad.h5\n",
      "Epoch 14/30\n",
      "5/5 [==============================] - 0s 44ms/step - loss: 0.2375 - accuracy: 1.0000 - val_loss: 1.4764 - val_accuracy: 0.2000\n",
      "\n",
      "Epoch 00014: val_loss did not improve from 1.25594\n",
      "Epoch 15/30\n",
      "5/5 [==============================] - 0s 34ms/step - loss: 0.1763 - accuracy: 1.0000 - val_loss: 1.2257 - val_accuracy: 0.6000\n",
      "\n",
      "Epoch 00015: val_loss improved from 1.25594 to 1.22567, saving model to face_detect_LeNet_Adagrad.h5\n",
      "Epoch 16/30\n",
      "5/5 [==============================] - 0s 32ms/step - loss: 0.1327 - accuracy: 1.0000 - val_loss: 1.2267 - val_accuracy: 0.4000\n",
      "\n",
      "Epoch 00016: val_loss did not improve from 1.22567\n",
      "Epoch 17/30\n",
      "5/5 [==============================] - 0s 34ms/step - loss: 0.1319 - accuracy: 1.0000 - val_loss: 1.1850 - val_accuracy: 0.4000\n",
      "\n",
      "Epoch 00017: val_loss improved from 1.22567 to 1.18497, saving model to face_detect_LeNet_Adagrad.h5\n",
      "Epoch 18/30\n",
      "5/5 [==============================] - 0s 51ms/step - loss: 0.0979 - accuracy: 1.0000 - val_loss: 1.2172 - val_accuracy: 0.4000\n",
      "\n",
      "Epoch 00018: val_loss did not improve from 1.18497\n",
      "Epoch 19/30\n",
      "5/5 [==============================] - 0s 33ms/step - loss: 0.0864 - accuracy: 1.0000 - val_loss: 1.1206 - val_accuracy: 0.6000\n",
      "\n",
      "Epoch 00019: val_loss improved from 1.18497 to 1.12059, saving model to face_detect_LeNet_Adagrad.h5\n",
      "Epoch 20/30\n",
      "5/5 [==============================] - 0s 33ms/step - loss: 0.0701 - accuracy: 1.0000 - val_loss: 1.2377 - val_accuracy: 0.6000\n",
      "\n",
      "Epoch 00020: val_loss did not improve from 1.12059\n",
      "Epoch 21/30\n",
      "5/5 [==============================] - 0s 39ms/step - loss: 0.0610 - accuracy: 1.0000 - val_loss: 1.2183 - val_accuracy: 0.4000\n",
      "\n",
      "Epoch 00021: val_loss did not improve from 1.12059\n",
      "Epoch 22/30\n",
      "5/5 [==============================] - 0s 39ms/step - loss: 0.0586 - accuracy: 1.0000 - val_loss: 1.2909 - val_accuracy: 0.6000\n",
      "\n",
      "Epoch 00022: val_loss did not improve from 1.12059\n",
      "Epoch 23/30\n",
      "5/5 [==============================] - 0s 38ms/step - loss: 0.0533 - accuracy: 1.0000 - val_loss: 1.2599 - val_accuracy: 0.4000\n",
      "\n",
      "Epoch 00023: val_loss did not improve from 1.12059\n",
      "Epoch 24/30\n",
      "5/5 [==============================] - 0s 38ms/step - loss: 0.0463 - accuracy: 1.0000 - val_loss: 1.1906 - val_accuracy: 0.6000\n",
      "\n",
      "Epoch 00024: val_loss did not improve from 1.12059\n",
      "1/1 [==============================] - 0s 33ms/step - loss: 1.2124 - accuracy: 0.5556\n",
      "Val Score:  [1.2124378681182861, 0.5555555820465088]\n",
      "====================================================================================\n",
      "\n",
      "\n",
      "Training on Fold:  2\n",
      "Epoch 1/30\n",
      "5/5 [==============================] - 0s 47ms/step - loss: 0.4561 - accuracy: 0.8611 - val_loss: 1.0347 - val_accuracy: 0.8000\n",
      "\n",
      "Epoch 00001: val_loss improved from 1.12059 to 1.03470, saving model to face_detect_LeNet_Adagrad.h5\n",
      "Epoch 2/30\n",
      "5/5 [==============================] - 0s 34ms/step - loss: 0.2064 - accuracy: 0.9444 - val_loss: 1.3201 - val_accuracy: 0.2000\n",
      "\n",
      "Epoch 00002: val_loss did not improve from 1.03470\n",
      "Epoch 3/30\n",
      "5/5 [==============================] - 0s 61ms/step - loss: 0.1178 - accuracy: 1.0000 - val_loss: 1.1696 - val_accuracy: 0.4000\n",
      "\n",
      "Epoch 00003: val_loss did not improve from 1.03470\n",
      "Epoch 4/30\n",
      "5/5 [==============================] - 0s 38ms/step - loss: 0.0820 - accuracy: 1.0000 - val_loss: 0.9707 - val_accuracy: 0.6000\n",
      "\n",
      "Epoch 00004: val_loss improved from 1.03470 to 0.97068, saving model to face_detect_LeNet_Adagrad.h5\n",
      "Epoch 5/30\n",
      "5/5 [==============================] - 0s 34ms/step - loss: 0.0708 - accuracy: 1.0000 - val_loss: 1.3197 - val_accuracy: 0.4000\n",
      "\n",
      "Epoch 00005: val_loss did not improve from 0.97068\n",
      "Epoch 6/30\n",
      "5/5 [==============================] - 0s 36ms/step - loss: 0.0584 - accuracy: 1.0000 - val_loss: 1.1897 - val_accuracy: 0.4000\n",
      "\n",
      "Epoch 00006: val_loss did not improve from 0.97068\n",
      "Epoch 7/30\n",
      "5/5 [==============================] - 0s 35ms/step - loss: 0.0507 - accuracy: 1.0000 - val_loss: 1.3408 - val_accuracy: 0.4000\n",
      "\n",
      "Epoch 00007: val_loss did not improve from 0.97068\n",
      "Epoch 8/30\n",
      "5/5 [==============================] - 0s 37ms/step - loss: 0.0453 - accuracy: 1.0000 - val_loss: 1.2228 - val_accuracy: 0.4000\n",
      "\n",
      "Epoch 00008: val_loss did not improve from 0.97068\n",
      "Epoch 9/30\n",
      "5/5 [==============================] - 0s 35ms/step - loss: 0.0418 - accuracy: 1.0000 - val_loss: 1.3068 - val_accuracy: 0.4000\n",
      "\n",
      "Epoch 00009: val_loss did not improve from 0.97068\n",
      "1/1 [==============================] - 0s 24ms/step - loss: 0.0589 - accuracy: 1.0000\n",
      "Val Score:  [0.05886777117848396, 1.0]\n",
      "====================================================================================\n",
      "\n",
      "\n",
      "Training on Fold:  3\n",
      "Epoch 1/30\n",
      "5/5 [==============================] - 0s 59ms/step - loss: 0.0790 - accuracy: 1.0000 - val_loss: 0.9856 - val_accuracy: 0.6000\n",
      "\n",
      "Epoch 00001: val_loss did not improve from 0.97068\n",
      "Epoch 2/30\n",
      "5/5 [==============================] - 0s 52ms/step - loss: 0.0630 - accuracy: 1.0000 - val_loss: 1.1730 - val_accuracy: 0.6000\n",
      "\n",
      "Epoch 00002: val_loss did not improve from 0.97068\n",
      "Epoch 3/30\n",
      "5/5 [==============================] - 0s 48ms/step - loss: 0.0530 - accuracy: 1.0000 - val_loss: 1.1055 - val_accuracy: 0.6000\n",
      "\n",
      "Epoch 00003: val_loss did not improve from 0.97068\n",
      "Epoch 4/30\n",
      "5/5 [==============================] - 0s 44ms/step - loss: 0.0486 - accuracy: 1.0000 - val_loss: 1.0192 - val_accuracy: 0.8000\n",
      "\n",
      "Epoch 00004: val_loss did not improve from 0.97068\n",
      "Epoch 5/30\n",
      "5/5 [==============================] - 0s 40ms/step - loss: 0.0433 - accuracy: 1.0000 - val_loss: 1.0725 - val_accuracy: 0.6000\n",
      "\n",
      "Epoch 00005: val_loss did not improve from 0.97068\n",
      "Epoch 6/30\n",
      "5/5 [==============================] - 0s 34ms/step - loss: 0.0402 - accuracy: 1.0000 - val_loss: 1.0982 - val_accuracy: 0.6000\n",
      "\n",
      "Epoch 00006: val_loss did not improve from 0.97068\n",
      "1/1 [==============================] - 0s 26ms/step - loss: 0.0441 - accuracy: 1.0000\n",
      "Val Score:  [0.044140852987766266, 1.0]\n",
      "====================================================================================\n",
      "\n",
      "\n",
      "Training on Fold:  4\n",
      "Epoch 1/30\n",
      "5/5 [==============================] - 0s 62ms/step - loss: 0.0624 - accuracy: 1.0000 - val_loss: 1.1131 - val_accuracy: 0.6000\n",
      "\n",
      "Epoch 00001: val_loss did not improve from 0.97068\n",
      "Epoch 2/30\n",
      "5/5 [==============================] - 0s 65ms/step - loss: 0.0530 - accuracy: 1.0000 - val_loss: 1.0497 - val_accuracy: 0.8000\n",
      "\n",
      "Epoch 00002: val_loss did not improve from 0.97068\n",
      "Epoch 3/30\n",
      "5/5 [==============================] - 0s 34ms/step - loss: 0.0463 - accuracy: 1.0000 - val_loss: 1.0728 - val_accuracy: 0.8000\n",
      "\n",
      "Epoch 00003: val_loss did not improve from 0.97068\n",
      "Epoch 4/30\n",
      "5/5 [==============================] - 0s 54ms/step - loss: 0.0416 - accuracy: 1.0000 - val_loss: 1.1496 - val_accuracy: 0.6000\n",
      "\n",
      "Epoch 00004: val_loss did not improve from 0.97068\n",
      "Epoch 5/30\n",
      "5/5 [==============================] - 0s 42ms/step - loss: 0.0381 - accuracy: 1.0000 - val_loss: 0.9995 - val_accuracy: 0.8000\n",
      "\n",
      "Epoch 00005: val_loss did not improve from 0.97068\n",
      "Epoch 6/30\n",
      "5/5 [==============================] - 0s 63ms/step - loss: 0.0357 - accuracy: 1.0000 - val_loss: 1.0059 - val_accuracy: 0.8000\n",
      "\n",
      "Epoch 00006: val_loss did not improve from 0.97068\n",
      "Epoch 7/30\n",
      "5/5 [==============================] - 0s 47ms/step - loss: 0.0323 - accuracy: 1.0000 - val_loss: 1.0455 - val_accuracy: 0.8000\n",
      "\n",
      "Epoch 00007: val_loss did not improve from 0.97068\n",
      "Epoch 8/30\n",
      "5/5 [==============================] - 0s 38ms/step - loss: 0.0303 - accuracy: 1.0000 - val_loss: 0.9750 - val_accuracy: 0.8000\n",
      "\n",
      "Epoch 00008: val_loss did not improve from 0.97068\n",
      "Epoch 9/30\n",
      "5/5 [==============================] - 0s 36ms/step - loss: 0.0286 - accuracy: 1.0000 - val_loss: 1.1166 - val_accuracy: 0.6000\n",
      "\n",
      "Epoch 00009: val_loss did not improve from 0.97068\n",
      "Epoch 10/30\n",
      "5/5 [==============================] - 0s 34ms/step - loss: 0.0264 - accuracy: 1.0000 - val_loss: 1.0768 - val_accuracy: 0.6000\n",
      "\n",
      "Epoch 00010: val_loss did not improve from 0.97068\n",
      "Epoch 11/30\n",
      "5/5 [==============================] - 0s 41ms/step - loss: 0.0248 - accuracy: 1.0000 - val_loss: 1.0574 - val_accuracy: 0.6000\n",
      "\n",
      "Epoch 00011: val_loss did not improve from 0.97068\n",
      "Epoch 12/30\n",
      "5/5 [==============================] - 0s 38ms/step - loss: 0.0232 - accuracy: 1.0000 - val_loss: 1.0174 - val_accuracy: 0.8000\n",
      "\n",
      "Epoch 00012: val_loss did not improve from 0.97068\n",
      "Epoch 13/30\n",
      "5/5 [==============================] - 0s 36ms/step - loss: 0.0220 - accuracy: 1.0000 - val_loss: 1.0417 - val_accuracy: 0.8000\n",
      "\n",
      "Epoch 00013: val_loss did not improve from 0.97068\n",
      "1/1 [==============================] - 0s 23ms/step - loss: 0.0459 - accuracy: 1.0000\n",
      "Val Score:  [0.0459078811109066, 1.0]\n",
      "====================================================================================\n",
      "\n",
      "\n",
      "Training on Fold:  5\n",
      "Epoch 1/30\n",
      "5/5 [==============================] - 0s 54ms/step - loss: 0.0308 - accuracy: 1.0000 - val_loss: 1.0606 - val_accuracy: 0.8000\n",
      "\n",
      "Epoch 00001: val_loss did not improve from 0.97068\n",
      "Epoch 2/30\n",
      "5/5 [==============================] - 0s 35ms/step - loss: 0.0283 - accuracy: 1.0000 - val_loss: 1.0985 - val_accuracy: 0.6000\n",
      "\n",
      "Epoch 00002: val_loss did not improve from 0.97068\n",
      "Epoch 3/30\n",
      "5/5 [==============================] - 0s 35ms/step - loss: 0.0266 - accuracy: 1.0000 - val_loss: 1.1200 - val_accuracy: 0.6000\n",
      "\n",
      "Epoch 00003: val_loss did not improve from 0.97068\n",
      "Epoch 4/30\n",
      "5/5 [==============================] - 0s 34ms/step - loss: 0.0245 - accuracy: 1.0000 - val_loss: 1.1340 - val_accuracy: 0.6000\n",
      "\n",
      "Epoch 00004: val_loss did not improve from 0.97068\n",
      "Epoch 5/30\n",
      "5/5 [==============================] - 0s 36ms/step - loss: 0.0233 - accuracy: 1.0000 - val_loss: 1.0971 - val_accuracy: 0.6000\n",
      "\n",
      "Epoch 00005: val_loss did not improve from 0.97068\n",
      "Epoch 6/30\n",
      "5/5 [==============================] - 0s 74ms/step - loss: 0.0217 - accuracy: 1.0000 - val_loss: 1.0914 - val_accuracy: 0.6000\n",
      "\n",
      "Epoch 00006: val_loss did not improve from 0.97068\n",
      "1/1 [==============================] - 0s 27ms/step - loss: 0.0336 - accuracy: 1.0000\n",
      "Val Score:  [0.03355986624956131, 1.0]\n",
      "====================================================================================\n",
      "\n",
      "\n"
     ]
    }
   ],
   "source": [
    "#save the model history in a list after fitting so that we can plot later\n",
    "LeNet_Adagrad_history = [] \n",
    "\n",
    "for i in range(n_folds):\n",
    "    print(\"Training on Fold: \",i+1)\n",
    "    x_train, x_test, y_train, y_test = train_test_split(X_train, Y_train, test_size=0.2, \n",
    "                                               random_state = np.random.randint(1,500, 1)[0])\n",
    "    LeNet_Adagrad_history.append(fit_and_evaluate(LeNet_Adagrad, x_train, X_valid, x_test,\n",
    "                                              y_train, Y_valid, y_test, LeNet_Adagrad_model_checkpoint))\n",
    "    print(\"=======\"*12, end=\"\\n\\n\\n\")"
   ]
  },
  {
   "cell_type": "markdown",
   "id": "neutral-seating",
   "metadata": {},
   "source": [
    "Adadelta"
   ]
  },
  {
   "cell_type": "code",
   "execution_count": 29,
   "id": "closing-nicholas",
   "metadata": {},
   "outputs": [
    {
     "name": "stdout",
     "output_type": "stream",
     "text": [
      "Training on Fold:  1\n",
      "Epoch 1/30\n",
      "5/5 [==============================] - 1s 97ms/step - loss: 1.6335 - accuracy: 0.2199 - val_loss: 1.6681 - val_accuracy: 0.0000e+00\n",
      "\n",
      "Epoch 00001: val_loss improved from inf to 1.66812, saving model to face_detect_LeNet_Adadelta.h5\n",
      "Epoch 2/30\n",
      "5/5 [==============================] - 0s 36ms/step - loss: 1.6073 - accuracy: 0.1869 - val_loss: 1.6561 - val_accuracy: 0.0000e+00\n",
      "\n",
      "Epoch 00002: val_loss improved from 1.66812 to 1.65610, saving model to face_detect_LeNet_Adadelta.h5\n",
      "Epoch 3/30\n",
      "5/5 [==============================] - 0s 39ms/step - loss: 1.5837 - accuracy: 0.2506 - val_loss: 1.6426 - val_accuracy: 0.2000\n",
      "\n",
      "Epoch 00003: val_loss improved from 1.65610 to 1.64263, saving model to face_detect_LeNet_Adadelta.h5\n",
      "Epoch 4/30\n",
      "5/5 [==============================] - 0s 34ms/step - loss: 1.5888 - accuracy: 0.2975 - val_loss: 1.6506 - val_accuracy: 0.2000\n",
      "\n",
      "Epoch 00004: val_loss did not improve from 1.64263\n",
      "Epoch 5/30\n",
      "5/5 [==============================] - 0s 39ms/step - loss: 1.5763 - accuracy: 0.3189 - val_loss: 1.6704 - val_accuracy: 0.0000e+00\n",
      "\n",
      "Epoch 00005: val_loss did not improve from 1.64263\n",
      "Epoch 6/30\n",
      "5/5 [==============================] - 0s 35ms/step - loss: 1.5542 - accuracy: 0.2662 - val_loss: 1.6549 - val_accuracy: 0.0000e+00\n",
      "\n",
      "Epoch 00006: val_loss did not improve from 1.64263\n",
      "Epoch 7/30\n",
      "5/5 [==============================] - 0s 43ms/step - loss: 1.5707 - accuracy: 0.3200 - val_loss: 1.7062 - val_accuracy: 0.0000e+00\n",
      "\n",
      "Epoch 00007: val_loss did not improve from 1.64263\n",
      "Epoch 8/30\n",
      "5/5 [==============================] - 0s 44ms/step - loss: 1.5635 - accuracy: 0.2188 - val_loss: 1.7186 - val_accuracy: 0.0000e+00\n",
      "\n",
      "Epoch 00008: val_loss did not improve from 1.64263\n",
      "1/1 [==============================] - 0s 22ms/step - loss: 1.5449 - accuracy: 0.5556\n",
      "Val Score:  [1.544857382774353, 0.5555555820465088]\n",
      "====================================================================================\n",
      "\n",
      "\n",
      "Training on Fold:  2\n",
      "Epoch 1/30\n",
      "5/5 [==============================] - 0s 54ms/step - loss: 1.5678 - accuracy: 0.3056 - val_loss: 1.6649 - val_accuracy: 0.2000\n",
      "\n",
      "Epoch 00001: val_loss did not improve from 1.64263\n",
      "Epoch 2/30\n",
      "5/5 [==============================] - 0s 39ms/step - loss: 1.5489 - accuracy: 0.2778 - val_loss: 1.6758 - val_accuracy: 0.2000\n",
      "\n",
      "Epoch 00002: val_loss did not improve from 1.64263\n",
      "Epoch 3/30\n",
      "5/5 [==============================] - 0s 94ms/step - loss: 1.5337 - accuracy: 0.3611 - val_loss: 1.6997 - val_accuracy: 0.2000\n",
      "\n",
      "Epoch 00003: val_loss did not improve from 1.64263\n",
      "Epoch 4/30\n",
      "5/5 [==============================] - 0s 66ms/step - loss: 1.5186 - accuracy: 0.3611 - val_loss: 1.6957 - val_accuracy: 0.2000\n",
      "\n",
      "Epoch 00004: val_loss did not improve from 1.64263\n",
      "Epoch 5/30\n",
      "5/5 [==============================] - 0s 77ms/step - loss: 1.5105 - accuracy: 0.2778 - val_loss: 1.6896 - val_accuracy: 0.2000\n",
      "\n",
      "Epoch 00005: val_loss did not improve from 1.64263\n",
      "Epoch 6/30\n",
      "5/5 [==============================] - 0s 92ms/step - loss: 1.5085 - accuracy: 0.3611 - val_loss: 1.7013 - val_accuracy: 0.2000\n",
      "\n",
      "Epoch 00006: val_loss did not improve from 1.64263\n",
      "1/1 [==============================] - 0s 26ms/step - loss: 1.6881 - accuracy: 0.0000e+00\n",
      "Val Score:  [1.6881247758865356, 0.0]\n",
      "====================================================================================\n",
      "\n",
      "\n",
      "Training on Fold:  3\n",
      "Epoch 1/30\n",
      "5/5 [==============================] - 0s 86ms/step - loss: 1.5729 - accuracy: 0.2500 - val_loss: 1.6338 - val_accuracy: 0.2000\n",
      "\n",
      "Epoch 00001: val_loss improved from 1.64263 to 1.63379, saving model to face_detect_LeNet_Adadelta.h5\n",
      "Epoch 2/30\n",
      "5/5 [==============================] - 0s 66ms/step - loss: 1.5509 - accuracy: 0.3056 - val_loss: 1.6244 - val_accuracy: 0.2000\n",
      "\n",
      "Epoch 00002: val_loss improved from 1.63379 to 1.62442, saving model to face_detect_LeNet_Adadelta.h5\n",
      "Epoch 3/30\n",
      "5/5 [==============================] - 0s 61ms/step - loss: 1.5554 - accuracy: 0.3889 - val_loss: 1.5850 - val_accuracy: 0.2000\n",
      "\n",
      "Epoch 00003: val_loss improved from 1.62442 to 1.58496, saving model to face_detect_LeNet_Adadelta.h5\n",
      "Epoch 4/30\n",
      "5/5 [==============================] - 0s 48ms/step - loss: 1.5334 - accuracy: 0.3889 - val_loss: 1.5618 - val_accuracy: 0.4000\n",
      "\n",
      "Epoch 00004: val_loss improved from 1.58496 to 1.56178, saving model to face_detect_LeNet_Adadelta.h5\n",
      "Epoch 5/30\n",
      "5/5 [==============================] - 0s 55ms/step - loss: 1.5265 - accuracy: 0.4167 - val_loss: 1.5510 - val_accuracy: 0.4000\n",
      "\n",
      "Epoch 00005: val_loss improved from 1.56178 to 1.55104, saving model to face_detect_LeNet_Adadelta.h5\n",
      "Epoch 6/30\n",
      "5/5 [==============================] - 0s 53ms/step - loss: 1.5261 - accuracy: 0.3889 - val_loss: 1.5650 - val_accuracy: 0.2000\n",
      "\n",
      "Epoch 00006: val_loss did not improve from 1.55104\n",
      "Epoch 7/30\n",
      "5/5 [==============================] - 0s 60ms/step - loss: 1.5033 - accuracy: 0.4167 - val_loss: 1.5521 - val_accuracy: 0.2000\n",
      "\n",
      "Epoch 00007: val_loss did not improve from 1.55104\n",
      "Epoch 8/30\n",
      "5/5 [==============================] - 0s 46ms/step - loss: 1.5027 - accuracy: 0.4167 - val_loss: 1.5711 - val_accuracy: 0.2000\n",
      "\n",
      "Epoch 00008: val_loss did not improve from 1.55104\n",
      "Epoch 9/30\n",
      "5/5 [==============================] - 0s 46ms/step - loss: 1.4890 - accuracy: 0.3889 - val_loss: 1.5461 - val_accuracy: 0.6000\n",
      "\n",
      "Epoch 00009: val_loss improved from 1.55104 to 1.54614, saving model to face_detect_LeNet_Adadelta.h5\n",
      "Epoch 10/30\n",
      "5/5 [==============================] - 0s 48ms/step - loss: 1.4796 - accuracy: 0.5556 - val_loss: 1.5418 - val_accuracy: 0.2000\n",
      "\n",
      "Epoch 00010: val_loss improved from 1.54614 to 1.54176, saving model to face_detect_LeNet_Adadelta.h5\n",
      "Epoch 11/30\n",
      "5/5 [==============================] - 0s 50ms/step - loss: 1.4738 - accuracy: 0.5000 - val_loss: 1.5658 - val_accuracy: 0.2000\n",
      "\n",
      "Epoch 00011: val_loss did not improve from 1.54176\n",
      "Epoch 12/30\n",
      "5/5 [==============================] - 0s 41ms/step - loss: 1.4585 - accuracy: 0.4722 - val_loss: 1.5729 - val_accuracy: 0.2000\n",
      "\n",
      "Epoch 00012: val_loss did not improve from 1.54176\n",
      "Epoch 13/30\n",
      "5/5 [==============================] - 0s 42ms/step - loss: 1.4476 - accuracy: 0.4444 - val_loss: 1.5434 - val_accuracy: 0.2000\n",
      "\n",
      "Epoch 00013: val_loss did not improve from 1.54176\n",
      "Epoch 14/30\n",
      "5/5 [==============================] - 0s 80ms/step - loss: 1.4440 - accuracy: 0.5278 - val_loss: 1.5651 - val_accuracy: 0.2000\n",
      "\n",
      "Epoch 00014: val_loss did not improve from 1.54176\n",
      "Epoch 15/30\n",
      "5/5 [==============================] - 0s 40ms/step - loss: 1.4352 - accuracy: 0.5000 - val_loss: 1.5692 - val_accuracy: 0.2000\n",
      "\n",
      "Epoch 00015: val_loss did not improve from 1.54176\n",
      "1/1 [==============================] - 0s 27ms/step - loss: 1.6843 - accuracy: 0.0000e+00\n",
      "Val Score:  [1.6843147277832031, 0.0]\n",
      "====================================================================================\n",
      "\n",
      "\n",
      "Training on Fold:  4\n",
      "Epoch 1/30\n",
      "5/5 [==============================] - 0s 62ms/step - loss: 1.5044 - accuracy: 0.4444 - val_loss: 1.6090 - val_accuracy: 0.2000\n",
      "\n",
      "Epoch 00001: val_loss did not improve from 1.54176\n",
      "Epoch 2/30\n",
      "5/5 [==============================] - 0s 36ms/step - loss: 1.4729 - accuracy: 0.6111 - val_loss: 1.6168 - val_accuracy: 0.2000\n",
      "\n",
      "Epoch 00002: val_loss did not improve from 1.54176\n",
      "Epoch 3/30\n",
      "5/5 [==============================] - 0s 48ms/step - loss: 1.4548 - accuracy: 0.6667 - val_loss: 1.6620 - val_accuracy: 0.0000e+00\n",
      "\n",
      "Epoch 00003: val_loss did not improve from 1.54176\n",
      "Epoch 4/30\n",
      "5/5 [==============================] - 0s 41ms/step - loss: 1.4411 - accuracy: 0.5833 - val_loss: 1.7026 - val_accuracy: 0.0000e+00\n",
      "\n",
      "Epoch 00004: val_loss did not improve from 1.54176\n",
      "Epoch 5/30\n",
      "5/5 [==============================] - 0s 49ms/step - loss: 1.4424 - accuracy: 0.4167 - val_loss: 1.6922 - val_accuracy: 0.2000\n",
      "\n",
      "Epoch 00005: val_loss did not improve from 1.54176\n",
      "Epoch 6/30\n",
      "5/5 [==============================] - 0s 38ms/step - loss: 1.4275 - accuracy: 0.5000 - val_loss: 1.6770 - val_accuracy: 0.2000\n",
      "\n",
      "Epoch 00006: val_loss did not improve from 1.54176\n",
      "1/1 [==============================] - 0s 32ms/step - loss: 1.5571 - accuracy: 0.2222\n",
      "Val Score:  [1.5570964813232422, 0.2222222238779068]\n",
      "====================================================================================\n",
      "\n",
      "\n",
      "Training on Fold:  5\n"
     ]
    },
    {
     "name": "stdout",
     "output_type": "stream",
     "text": [
      "Epoch 1/30\n",
      "5/5 [==============================] - 0s 75ms/step - loss: 1.4974 - accuracy: 0.5833 - val_loss: 1.5704 - val_accuracy: 0.6000\n",
      "\n",
      "Epoch 00001: val_loss did not improve from 1.54176\n",
      "Epoch 2/30\n",
      "5/5 [==============================] - 0s 54ms/step - loss: 1.4863 - accuracy: 0.5556 - val_loss: 1.5625 - val_accuracy: 0.6000\n",
      "\n",
      "Epoch 00002: val_loss did not improve from 1.54176\n",
      "Epoch 3/30\n",
      "5/5 [==============================] - 0s 50ms/step - loss: 1.4729 - accuracy: 0.4167 - val_loss: 1.5799 - val_accuracy: 0.4000\n",
      "\n",
      "Epoch 00003: val_loss did not improve from 1.54176\n",
      "Epoch 4/30\n",
      "5/5 [==============================] - 0s 33ms/step - loss: 1.4641 - accuracy: 0.6111 - val_loss: 1.6122 - val_accuracy: 0.2000\n",
      "\n",
      "Epoch 00004: val_loss did not improve from 1.54176\n",
      "Epoch 5/30\n",
      "5/5 [==============================] - 0s 34ms/step - loss: 1.4513 - accuracy: 0.7500 - val_loss: 1.6097 - val_accuracy: 0.2000\n",
      "\n",
      "Epoch 00005: val_loss did not improve from 1.54176\n",
      "Epoch 6/30\n",
      "5/5 [==============================] - 0s 60ms/step - loss: 1.4471 - accuracy: 0.7222 - val_loss: 1.5946 - val_accuracy: 0.2000\n",
      "\n",
      "Epoch 00006: val_loss did not improve from 1.54176\n",
      "Epoch 7/30\n",
      "5/5 [==============================] - 0s 37ms/step - loss: 1.4457 - accuracy: 0.6389 - val_loss: 1.6138 - val_accuracy: 0.2000\n",
      "\n",
      "Epoch 00007: val_loss did not improve from 1.54176\n",
      "1/1 [==============================] - 0s 24ms/step - loss: 1.4958 - accuracy: 0.4444\n",
      "Val Score:  [1.4957869052886963, 0.4444444477558136]\n",
      "====================================================================================\n",
      "\n",
      "\n"
     ]
    }
   ],
   "source": [
    "#save the model history in a list after fitting so that we can plot later\n",
    "LeNet_Adadelta_history = [] \n",
    "\n",
    "for i in range(n_folds):\n",
    "    print(\"Training on Fold: \",i+1)\n",
    "    x_train, x_test, y_train, y_test = train_test_split(X_train, Y_train, test_size=0.2, \n",
    "                                               random_state = np.random.randint(1,500, 1)[0])\n",
    "    LeNet_Adadelta_history.append(fit_and_evaluate(LeNet_Adadelta, x_train, X_valid, x_test,\n",
    "                                              y_train, Y_valid, y_test, LeNet_Adadelta_model_checkpoint))\n",
    "    print(\"=======\"*12, end=\"\\n\\n\\n\")"
   ]
  },
  {
   "cell_type": "markdown",
   "id": "earned-reason",
   "metadata": {},
   "source": [
    "Nadam"
   ]
  },
  {
   "cell_type": "code",
   "execution_count": 30,
   "id": "spectacular-haven",
   "metadata": {},
   "outputs": [
    {
     "name": "stdout",
     "output_type": "stream",
     "text": [
      "Training on Fold:  1\n",
      "Epoch 1/30\n",
      "5/5 [==============================] - 2s 97ms/step - loss: 2.9651 - accuracy: 0.3194 - val_loss: 2.8361 - val_accuracy: 0.0000e+00\n",
      "\n",
      "Epoch 00001: val_loss improved from inf to 2.83613, saving model to face_detect_LeNet_Nadam.h5\n",
      "Epoch 2/30\n",
      "5/5 [==============================] - 0s 54ms/step - loss: 2.3897 - accuracy: 0.2141 - val_loss: 1.9100 - val_accuracy: 0.2000\n",
      "\n",
      "Epoch 00002: val_loss improved from 2.83613 to 1.90999, saving model to face_detect_LeNet_Nadam.h5\n",
      "Epoch 3/30\n",
      "5/5 [==============================] - 0s 40ms/step - loss: 1.9305 - accuracy: 0.1563 - val_loss: 1.9366 - val_accuracy: 0.2000\n",
      "\n",
      "Epoch 00003: val_loss did not improve from 1.90999\n",
      "Epoch 4/30\n",
      "5/5 [==============================] - 0s 37ms/step - loss: 1.9092 - accuracy: 0.1510 - val_loss: 1.7676 - val_accuracy: 0.2000\n",
      "\n",
      "Epoch 00004: val_loss improved from 1.90999 to 1.76762, saving model to face_detect_LeNet_Nadam.h5\n",
      "Epoch 5/30\n",
      "5/5 [==============================] - 0s 37ms/step - loss: 1.8372 - accuracy: 0.0839 - val_loss: 1.7343 - val_accuracy: 0.2000\n",
      "\n",
      "Epoch 00005: val_loss improved from 1.76762 to 1.73425, saving model to face_detect_LeNet_Nadam.h5\n",
      "Epoch 6/30\n",
      "5/5 [==============================] - 0s 41ms/step - loss: 1.7829 - accuracy: 0.1840 - val_loss: 1.7833 - val_accuracy: 0.0000e+00\n",
      "\n",
      "Epoch 00006: val_loss did not improve from 1.73425\n",
      "Epoch 7/30\n",
      "5/5 [==============================] - 0s 46ms/step - loss: 1.6684 - accuracy: 0.2367 - val_loss: 1.5540 - val_accuracy: 0.4000\n",
      "\n",
      "Epoch 00007: val_loss improved from 1.73425 to 1.55398, saving model to face_detect_LeNet_Nadam.h5\n",
      "Epoch 8/30\n",
      "5/5 [==============================] - 0s 40ms/step - loss: 1.7310 - accuracy: 0.1522 - val_loss: 1.5530 - val_accuracy: 0.4000\n",
      "\n",
      "Epoch 00008: val_loss improved from 1.55398 to 1.55296, saving model to face_detect_LeNet_Nadam.h5\n",
      "Epoch 9/30\n",
      "5/5 [==============================] - 0s 67ms/step - loss: 2.0119 - accuracy: 0.0521 - val_loss: 1.8606 - val_accuracy: 0.2000\n",
      "\n",
      "Epoch 00009: val_loss did not improve from 1.55296\n",
      "Epoch 10/30\n",
      "5/5 [==============================] - 0s 55ms/step - loss: 1.7905 - accuracy: 0.1412 - val_loss: 1.5991 - val_accuracy: 0.4000\n",
      "\n",
      "Epoch 00010: val_loss did not improve from 1.55296\n",
      "Epoch 11/30\n",
      "5/5 [==============================] - 0s 90ms/step - loss: 1.7105 - accuracy: 0.1609 - val_loss: 1.6921 - val_accuracy: 0.0000e+00\n",
      "\n",
      "Epoch 00011: val_loss did not improve from 1.55296\n",
      "Epoch 12/30\n",
      "5/5 [==============================] - 0s 73ms/step - loss: 1.7147 - accuracy: 0.1059 - val_loss: 1.9180 - val_accuracy: 0.0000e+00\n",
      "\n",
      "Epoch 00012: val_loss did not improve from 1.55296\n",
      "Epoch 13/30\n",
      "5/5 [==============================] - 0s 53ms/step - loss: 1.7818 - accuracy: 0.1759 - val_loss: 1.7886 - val_accuracy: 0.0000e+00\n",
      "\n",
      "Epoch 00013: val_loss did not improve from 1.55296\n",
      "1/1 [==============================] - 0s 25ms/step - loss: 1.9985 - accuracy: 0.1111\n",
      "Val Score:  [1.9985451698303223, 0.1111111119389534]\n",
      "====================================================================================\n",
      "\n",
      "\n",
      "Training on Fold:  2\n",
      "Epoch 1/30\n",
      "5/5 [==============================] - 0s 78ms/step - loss: 1.7317 - accuracy: 0.1944 - val_loss: 1.8139 - val_accuracy: 0.2000\n",
      "\n",
      "Epoch 00001: val_loss did not improve from 1.55296\n",
      "Epoch 2/30\n",
      "5/5 [==============================] - 0s 64ms/step - loss: 1.7251 - accuracy: 0.1667 - val_loss: 1.5174 - val_accuracy: 0.2000\n",
      "\n",
      "Epoch 00002: val_loss improved from 1.55296 to 1.51736, saving model to face_detect_LeNet_Nadam.h5\n",
      "Epoch 3/30\n",
      "5/5 [==============================] - 1s 88ms/step - loss: 1.6982 - accuracy: 0.2500 - val_loss: 1.8148 - val_accuracy: 0.0000e+00\n",
      "\n",
      "Epoch 00003: val_loss did not improve from 1.51736\n",
      "Epoch 4/30\n",
      "5/5 [==============================] - 0s 50ms/step - loss: 1.7060 - accuracy: 0.2778 - val_loss: 1.8523 - val_accuracy: 0.2000\n",
      "\n",
      "Epoch 00004: val_loss did not improve from 1.51736\n",
      "Epoch 5/30\n",
      "5/5 [==============================] - 0s 49ms/step - loss: 1.7044 - accuracy: 0.2222 - val_loss: 2.0461 - val_accuracy: 0.0000e+00\n",
      "\n",
      "Epoch 00005: val_loss did not improve from 1.51736\n",
      "Epoch 6/30\n",
      "5/5 [==============================] - 0s 44ms/step - loss: 1.7040 - accuracy: 0.2222 - val_loss: 2.2097 - val_accuracy: 0.0000e+00\n",
      "\n",
      "Epoch 00006: val_loss did not improve from 1.51736\n",
      "Epoch 7/30\n",
      "5/5 [==============================] - 0s 41ms/step - loss: 1.8882 - accuracy: 0.1111 - val_loss: 1.8169 - val_accuracy: 0.2000\n",
      "\n",
      "Epoch 00007: val_loss did not improve from 1.51736\n",
      "1/1 [==============================] - 0s 24ms/step - loss: 1.4499 - accuracy: 0.3333\n",
      "Val Score:  [1.449863314628601, 0.3333333432674408]\n",
      "====================================================================================\n",
      "\n",
      "\n",
      "Training on Fold:  3\n",
      "Epoch 1/30\n",
      "5/5 [==============================] - 0s 59ms/step - loss: 1.9212 - accuracy: 0.1111 - val_loss: 1.7432 - val_accuracy: 0.2000\n",
      "\n",
      "Epoch 00001: val_loss did not improve from 1.51736\n",
      "Epoch 2/30\n",
      "5/5 [==============================] - 0s 51ms/step - loss: 1.6823 - accuracy: 0.1944 - val_loss: 2.0131 - val_accuracy: 0.2000\n",
      "\n",
      "Epoch 00002: val_loss did not improve from 1.51736\n",
      "Epoch 3/30\n",
      "5/5 [==============================] - 0s 40ms/step - loss: 1.6721 - accuracy: 0.1389 - val_loss: 1.5425 - val_accuracy: 0.4000\n",
      "\n",
      "Epoch 00003: val_loss did not improve from 1.51736\n",
      "Epoch 4/30\n",
      "5/5 [==============================] - 0s 37ms/step - loss: 1.7107 - accuracy: 0.2222 - val_loss: 1.6331 - val_accuracy: 0.2000\n",
      "\n",
      "Epoch 00004: val_loss did not improve from 1.51736\n",
      "Epoch 5/30\n",
      "5/5 [==============================] - 0s 71ms/step - loss: 1.7253 - accuracy: 0.1667 - val_loss: 1.8234 - val_accuracy: 0.0000e+00\n",
      "\n",
      "Epoch 00005: val_loss did not improve from 1.51736\n",
      "Epoch 6/30\n",
      "5/5 [==============================] - 0s 38ms/step - loss: 1.6770 - accuracy: 0.2222 - val_loss: 1.9087 - val_accuracy: 0.2000\n",
      "\n",
      "Epoch 00006: val_loss did not improve from 1.51736\n",
      "Epoch 7/30\n",
      "5/5 [==============================] - 0s 57ms/step - loss: 1.7409 - accuracy: 0.1111 - val_loss: 1.7511 - val_accuracy: 0.2000\n",
      "\n",
      "Epoch 00007: val_loss did not improve from 1.51736\n",
      "Epoch 8/30\n",
      "5/5 [==============================] - 0s 68ms/step - loss: 1.6899 - accuracy: 0.1667 - val_loss: 1.8816 - val_accuracy: 0.0000e+00\n",
      "\n",
      "Epoch 00008: val_loss did not improve from 1.51736\n",
      "1/1 [==============================] - 0s 25ms/step - loss: 2.1274 - accuracy: 0.1111\n",
      "Val Score:  [2.127384901046753, 0.1111111119389534]\n",
      "====================================================================================\n",
      "\n",
      "\n",
      "Training on Fold:  4\n",
      "Epoch 1/30\n",
      "5/5 [==============================] - 0s 55ms/step - loss: 1.8453 - accuracy: 0.1667 - val_loss: 1.5782 - val_accuracy: 0.4000\n",
      "\n",
      "Epoch 00001: val_loss did not improve from 1.51736\n",
      "Epoch 2/30\n",
      "5/5 [==============================] - 0s 38ms/step - loss: 1.7356 - accuracy: 0.1667 - val_loss: 1.6586 - val_accuracy: 0.2000\n",
      "\n",
      "Epoch 00002: val_loss did not improve from 1.51736\n",
      "Epoch 3/30\n",
      "5/5 [==============================] - 0s 39ms/step - loss: 1.7795 - accuracy: 0.1667 - val_loss: 2.1352 - val_accuracy: 0.2000\n",
      "\n",
      "Epoch 00003: val_loss did not improve from 1.51736\n",
      "Epoch 4/30\n",
      "5/5 [==============================] - 0s 40ms/step - loss: 1.7773 - accuracy: 0.2500 - val_loss: 2.0104 - val_accuracy: 0.2000\n",
      "\n",
      "Epoch 00004: val_loss did not improve from 1.51736\n",
      "Epoch 5/30\n",
      "5/5 [==============================] - 0s 39ms/step - loss: 1.7009 - accuracy: 0.2222 - val_loss: 1.5306 - val_accuracy: 0.2000\n",
      "\n",
      "Epoch 00005: val_loss did not improve from 1.51736\n",
      "Epoch 6/30\n",
      "5/5 [==============================] - 0s 51ms/step - loss: 1.8250 - accuracy: 0.0833 - val_loss: 1.9121 - val_accuracy: 0.2000\n",
      "\n",
      "Epoch 00006: val_loss did not improve from 1.51736\n",
      "Epoch 7/30\n",
      "5/5 [==============================] - 0s 81ms/step - loss: 1.7549 - accuracy: 0.1111 - val_loss: 1.8477 - val_accuracy: 0.2000\n",
      "\n",
      "Epoch 00007: val_loss did not improve from 1.51736\n",
      "Epoch 8/30\n",
      "5/5 [==============================] - 0s 54ms/step - loss: 1.8177 - accuracy: 0.0556 - val_loss: 1.7686 - val_accuracy: 0.2000\n",
      "\n",
      "Epoch 00008: val_loss did not improve from 1.51736\n",
      "Epoch 9/30\n",
      "5/5 [==============================] - 0s 54ms/step - loss: 1.8168 - accuracy: 0.0556 - val_loss: 1.7804 - val_accuracy: 0.2000\n",
      "\n",
      "Epoch 00009: val_loss did not improve from 1.51736\n",
      "Epoch 10/30\n"
     ]
    },
    {
     "name": "stdout",
     "output_type": "stream",
     "text": [
      "5/5 [==============================] - 0s 56ms/step - loss: 1.7653 - accuracy: 0.1111 - val_loss: 2.1992 - val_accuracy: 0.2000\n",
      "\n",
      "Epoch 00010: val_loss did not improve from 1.51736\n",
      "1/1 [==============================] - 0s 44ms/step - loss: 1.7392 - accuracy: 0.1111\n",
      "Val Score:  [1.7392021417617798, 0.1111111119389534]\n",
      "====================================================================================\n",
      "\n",
      "\n",
      "Training on Fold:  5\n",
      "Epoch 1/30\n",
      "5/5 [==============================] - 0s 100ms/step - loss: 1.7410 - accuracy: 0.1111 - val_loss: 2.0298 - val_accuracy: 0.0000e+00\n",
      "\n",
      "Epoch 00001: val_loss did not improve from 1.51736\n",
      "Epoch 2/30\n",
      "5/5 [==============================] - 0s 51ms/step - loss: 1.7734 - accuracy: 0.1667 - val_loss: 1.9725 - val_accuracy: 0.2000\n",
      "\n",
      "Epoch 00002: val_loss did not improve from 1.51736\n",
      "Epoch 3/30\n",
      "5/5 [==============================] - 0s 79ms/step - loss: 1.7058 - accuracy: 0.2222 - val_loss: 2.0354 - val_accuracy: 0.2000\n",
      "\n",
      "Epoch 00003: val_loss did not improve from 1.51736\n",
      "Epoch 4/30\n",
      "5/5 [==============================] - 0s 39ms/step - loss: 1.7399 - accuracy: 0.2222 - val_loss: 1.5760 - val_accuracy: 0.2000\n",
      "\n",
      "Epoch 00004: val_loss did not improve from 1.51736\n",
      "Epoch 5/30\n",
      "5/5 [==============================] - 0s 42ms/step - loss: 1.7076 - accuracy: 0.1944 - val_loss: 1.8061 - val_accuracy: 0.2000\n",
      "\n",
      "Epoch 00005: val_loss did not improve from 1.51736\n",
      "Epoch 6/30\n",
      "5/5 [==============================] - 0s 48ms/step - loss: 1.6986 - accuracy: 0.2222 - val_loss: 1.7839 - val_accuracy: 0.0000e+00\n",
      "\n",
      "Epoch 00006: val_loss did not improve from 1.51736\n",
      "Epoch 7/30\n",
      "5/5 [==============================] - 0s 46ms/step - loss: 1.7652 - accuracy: 0.1667 - val_loss: 1.7125 - val_accuracy: 0.2000\n",
      "\n",
      "Epoch 00007: val_loss did not improve from 1.51736\n",
      "Epoch 8/30\n",
      "5/5 [==============================] - 0s 57ms/step - loss: 1.9176 - accuracy: 0.1944 - val_loss: 1.5617 - val_accuracy: 0.4000\n",
      "\n",
      "Epoch 00008: val_loss did not improve from 1.51736\n",
      "Epoch 9/30\n",
      "5/5 [==============================] - 0s 65ms/step - loss: 1.7958 - accuracy: 0.0833 - val_loss: 1.5424 - val_accuracy: 0.2000\n",
      "\n",
      "Epoch 00009: val_loss did not improve from 1.51736\n",
      "Epoch 10/30\n",
      "5/5 [==============================] - 0s 68ms/step - loss: 1.6881 - accuracy: 0.2222 - val_loss: 1.8150 - val_accuracy: 0.2000\n",
      "\n",
      "Epoch 00010: val_loss did not improve from 1.51736\n",
      "Epoch 11/30\n",
      "5/5 [==============================] - 1s 131ms/step - loss: 1.8141 - accuracy: 0.1944 - val_loss: 1.7904 - val_accuracy: 0.2000\n",
      "\n",
      "Epoch 00011: val_loss did not improve from 1.51736\n",
      "Epoch 12/30\n",
      "5/5 [==============================] - 1s 141ms/step - loss: 1.6544 - accuracy: 0.1944 - val_loss: 2.0188 - val_accuracy: 0.0000e+00\n",
      "\n",
      "Epoch 00012: val_loss did not improve from 1.51736\n",
      "Epoch 13/30\n",
      "5/5 [==============================] - 0s 82ms/step - loss: 1.6813 - accuracy: 0.2222 - val_loss: 1.6266 - val_accuracy: 0.0000e+00\n",
      "\n",
      "Epoch 00013: val_loss did not improve from 1.51736\n",
      "Epoch 14/30\n",
      "5/5 [==============================] - 0s 70ms/step - loss: 1.6446 - accuracy: 0.2222 - val_loss: 1.8891 - val_accuracy: 0.2000\n",
      "\n",
      "Epoch 00014: val_loss did not improve from 1.51736\n",
      "1/1 [==============================] - 0s 56ms/step - loss: 1.6833 - accuracy: 0.0000e+00\n",
      "Val Score:  [1.6832672357559204, 0.0]\n",
      "====================================================================================\n",
      "\n",
      "\n"
     ]
    }
   ],
   "source": [
    "#save the model history in a list after fitting so that we can plot later\n",
    "LeNet_Nadam_history = [] \n",
    "\n",
    "for i in range(n_folds):\n",
    "    print(\"Training on Fold: \",i+1)\n",
    "    x_train, x_test, y_train, y_test = train_test_split(X_train, Y_train, test_size=0.2, \n",
    "                                               random_state = np.random.randint(1,500, 1)[0])\n",
    "    LeNet_Nadam_history.append(fit_and_evaluate(LeNet_Nadam, x_train, X_valid, x_test,\n",
    "                                              y_train, Y_valid, y_test, LeNet_Nadam_model_checkpoint))\n",
    "    print(\"=======\"*12, end=\"\\n\\n\\n\")"
   ]
  },
  {
   "cell_type": "markdown",
   "id": "prescription-aviation",
   "metadata": {},
   "source": [
    "## Model Evaluation - Accuracy and predictions"
   ]
  },
  {
   "cell_type": "markdown",
   "id": "expressed-spiritual",
   "metadata": {},
   "source": [
    "Stochastic Gradient Descent"
   ]
  },
  {
   "cell_type": "code",
   "execution_count": 31,
   "id": "solar-recording",
   "metadata": {},
   "outputs": [],
   "source": [
    "model_SGD = load_model('face_detect_LeNet_SGD.h5')"
   ]
  },
  {
   "cell_type": "code",
   "execution_count": 32,
   "id": "rubber-facing",
   "metadata": {},
   "outputs": [
    {
     "name": "stdout",
     "output_type": "stream",
     "text": [
      "1/1 [==============================] - 0s 203ms/step - loss: 0.2463 - accuracy: 1.0000\n"
     ]
    },
    {
     "data": {
      "text/plain": [
       "[0.24631139636039734, 1.0]"
      ]
     },
     "execution_count": 32,
     "metadata": {},
     "output_type": "execute_result"
    }
   ],
   "source": [
    "# Score trained model.\n",
    "model_SGD.evaluate(x_test, y_test)"
   ]
  },
  {
   "cell_type": "code",
   "execution_count": 33,
   "id": "perfect-harrison",
   "metadata": {
    "scrolled": true
   },
   "outputs": [
    {
     "name": "stdout",
     "output_type": "stream",
     "text": [
      "1/1 [==============================] - 0s 31ms/step - loss: 1.0774 - accuracy: 0.4000\n"
     ]
    },
    {
     "data": {
      "text/plain": [
       "[1.07744300365448, 0.4000000059604645]"
      ]
     },
     "execution_count": 33,
     "metadata": {},
     "output_type": "execute_result"
    }
   ],
   "source": [
    "# Score trained model.\n",
    "model_SGD.evaluate(X_valid, Y_valid)"
   ]
  },
  {
   "cell_type": "code",
   "execution_count": 34,
   "id": "dangerous-solomon",
   "metadata": {},
   "outputs": [],
   "source": [
    "# make predictions.\n",
    "pred_SGD = model_SGD.predict(X_valid)"
   ]
  },
  {
   "cell_type": "markdown",
   "id": "conventional-jerusalem",
   "metadata": {},
   "source": [
    "Adam"
   ]
  },
  {
   "cell_type": "code",
   "execution_count": 35,
   "id": "smart-chair",
   "metadata": {},
   "outputs": [],
   "source": [
    "model_Adam = load_model('face_detect_LeNet_Adam.h5')"
   ]
  },
  {
   "cell_type": "code",
   "execution_count": 36,
   "id": "intended-hudson",
   "metadata": {},
   "outputs": [
    {
     "name": "stdout",
     "output_type": "stream",
     "text": [
      "1/1 [==============================] - 0s 244ms/step - loss: 1.6244 - accuracy: 0.3333\n"
     ]
    },
    {
     "data": {
      "text/plain": [
       "[1.6243746280670166, 0.3333333432674408]"
      ]
     },
     "execution_count": 36,
     "metadata": {},
     "output_type": "execute_result"
    }
   ],
   "source": [
    "# Score trained model.\n",
    "model_Adam.evaluate(x_test, y_test)"
   ]
  },
  {
   "cell_type": "code",
   "execution_count": 37,
   "id": "favorite-imperial",
   "metadata": {},
   "outputs": [
    {
     "name": "stdout",
     "output_type": "stream",
     "text": [
      "1/1 [==============================] - 0s 24ms/step - loss: 1.4952 - accuracy: 0.4000\n"
     ]
    },
    {
     "data": {
      "text/plain": [
       "[1.4951941967010498, 0.4000000059604645]"
      ]
     },
     "execution_count": 37,
     "metadata": {},
     "output_type": "execute_result"
    }
   ],
   "source": [
    "# Score trained model.\n",
    "model_Adam.evaluate(X_valid, Y_valid)"
   ]
  },
  {
   "cell_type": "code",
   "execution_count": 38,
   "id": "constitutional-cycling",
   "metadata": {},
   "outputs": [],
   "source": [
    "# make predictions.\n",
    "pred_Adam = model_Adam.predict(X_valid)"
   ]
  },
  {
   "cell_type": "markdown",
   "id": "killing-picking",
   "metadata": {},
   "source": [
    "Adadelta"
   ]
  },
  {
   "cell_type": "code",
   "execution_count": 39,
   "id": "fitted-gospel",
   "metadata": {},
   "outputs": [],
   "source": [
    "model_Adadelta = load_model('face_detect_LeNet_Adadelta.h5')"
   ]
  },
  {
   "cell_type": "code",
   "execution_count": 40,
   "id": "undefined-officer",
   "metadata": {},
   "outputs": [
    {
     "name": "stdout",
     "output_type": "stream",
     "text": [
      "1/1 [==============================] - 0s 154ms/step - loss: 1.5012 - accuracy: 0.4444\n"
     ]
    },
    {
     "data": {
      "text/plain": [
       "[1.5011972188949585, 0.4444444477558136]"
      ]
     },
     "execution_count": 40,
     "metadata": {},
     "output_type": "execute_result"
    }
   ],
   "source": [
    "# Score trained model.\n",
    "model_Adadelta.evaluate(x_test, y_test)"
   ]
  },
  {
   "cell_type": "code",
   "execution_count": 41,
   "id": "photographic-plaza",
   "metadata": {},
   "outputs": [
    {
     "name": "stdout",
     "output_type": "stream",
     "text": [
      "1/1 [==============================] - 0s 20ms/step - loss: 1.5418 - accuracy: 0.2000\n"
     ]
    },
    {
     "data": {
      "text/plain": [
       "[1.5417613983154297, 0.20000000298023224]"
      ]
     },
     "execution_count": 41,
     "metadata": {},
     "output_type": "execute_result"
    }
   ],
   "source": [
    "# Score trained model.\n",
    "model_Adadelta.evaluate(X_valid, Y_valid)"
   ]
  },
  {
   "cell_type": "code",
   "execution_count": 42,
   "id": "green-thomas",
   "metadata": {},
   "outputs": [],
   "source": [
    "# make predictions.\n",
    "pred_Adadelta = model_Adadelta.predict(X_valid)"
   ]
  },
  {
   "cell_type": "markdown",
   "id": "marked-stations",
   "metadata": {},
   "source": [
    "Nadam"
   ]
  },
  {
   "cell_type": "code",
   "execution_count": 43,
   "id": "configured-state",
   "metadata": {},
   "outputs": [],
   "source": [
    "model_Nadam = load_model('face_detect_LeNet_Nadam.h5')"
   ]
  },
  {
   "cell_type": "code",
   "execution_count": 44,
   "id": "naval-dutch",
   "metadata": {},
   "outputs": [
    {
     "name": "stdout",
     "output_type": "stream",
     "text": [
      "WARNING:tensorflow:5 out of the last 64 calls to <function Model.make_test_function.<locals>.test_function at 0x1a42863c80> triggered tf.function retracing. Tracing is expensive and the excessive number of tracings could be due to (1) creating @tf.function repeatedly in a loop, (2) passing tensors with different shapes, (3) passing Python objects instead of tensors. For (1), please define your @tf.function outside of the loop. For (2), @tf.function has experimental_relax_shapes=True option that relaxes argument shapes that can avoid unnecessary retracing. For (3), please refer to https://www.tensorflow.org/guide/function#controlling_retracing and https://www.tensorflow.org/api_docs/python/tf/function for  more details.\n",
      "1/1 [==============================] - 0s 184ms/step - loss: 1.4875 - accuracy: 0.3333\n"
     ]
    },
    {
     "data": {
      "text/plain": [
       "[1.4875410795211792, 0.3333333432674408]"
      ]
     },
     "execution_count": 44,
     "metadata": {},
     "output_type": "execute_result"
    }
   ],
   "source": [
    "# Score trained model.\n",
    "model_Nadam.evaluate(x_test, y_test)"
   ]
  },
  {
   "cell_type": "code",
   "execution_count": 45,
   "id": "arranged-arnold",
   "metadata": {},
   "outputs": [
    {
     "name": "stdout",
     "output_type": "stream",
     "text": [
      "1/1 [==============================] - 0s 22ms/step - loss: 1.5174 - accuracy: 0.2000\n"
     ]
    },
    {
     "data": {
      "text/plain": [
       "[1.5173606872558594, 0.20000000298023224]"
      ]
     },
     "execution_count": 45,
     "metadata": {},
     "output_type": "execute_result"
    }
   ],
   "source": [
    "# Score trained model.\n",
    "model_Nadam.evaluate(X_valid, Y_valid)"
   ]
  },
  {
   "cell_type": "code",
   "execution_count": 46,
   "id": "incident-resolution",
   "metadata": {},
   "outputs": [],
   "source": [
    "# make predictions.\n",
    "pred_Nadam = model_Nadam.predict(X_valid)"
   ]
  },
  {
   "cell_type": "markdown",
   "id": "neither-local",
   "metadata": {},
   "source": [
    "Adagrad"
   ]
  },
  {
   "cell_type": "code",
   "execution_count": 47,
   "id": "metallic-winner",
   "metadata": {},
   "outputs": [],
   "source": [
    "model_Adagrad = load_model('face_detect_LeNet_Adagrad.h5')"
   ]
  },
  {
   "cell_type": "code",
   "execution_count": 48,
   "id": "induced-pregnancy",
   "metadata": {},
   "outputs": [
    {
     "name": "stdout",
     "output_type": "stream",
     "text": [
      "WARNING:tensorflow:6 out of the last 66 calls to <function Model.make_test_function.<locals>.test_function at 0x1a66afc730> triggered tf.function retracing. Tracing is expensive and the excessive number of tracings could be due to (1) creating @tf.function repeatedly in a loop, (2) passing tensors with different shapes, (3) passing Python objects instead of tensors. For (1), please define your @tf.function outside of the loop. For (2), @tf.function has experimental_relax_shapes=True option that relaxes argument shapes that can avoid unnecessary retracing. For (3), please refer to https://www.tensorflow.org/guide/function#controlling_retracing and https://www.tensorflow.org/api_docs/python/tf/function for  more details.\n",
      "1/1 [==============================] - 0s 148ms/step - loss: 0.0539 - accuracy: 1.0000\n"
     ]
    },
    {
     "data": {
      "text/plain": [
       "[0.053869955241680145, 1.0]"
      ]
     },
     "execution_count": 48,
     "metadata": {},
     "output_type": "execute_result"
    }
   ],
   "source": [
    "# Score trained model.\n",
    "model_Adagrad.evaluate(x_test, y_test)"
   ]
  },
  {
   "cell_type": "code",
   "execution_count": 49,
   "id": "economic-premium",
   "metadata": {},
   "outputs": [
    {
     "name": "stdout",
     "output_type": "stream",
     "text": [
      "1/1 [==============================] - 0s 23ms/step - loss: 0.9707 - accuracy: 0.6000\n"
     ]
    },
    {
     "data": {
      "text/plain": [
       "[0.9706772565841675, 0.6000000238418579]"
      ]
     },
     "execution_count": 49,
     "metadata": {},
     "output_type": "execute_result"
    }
   ],
   "source": [
    "# Score trained model.\n",
    "model_Adagrad.evaluate(X_valid, Y_valid)"
   ]
  },
  {
   "cell_type": "code",
   "execution_count": 50,
   "id": "median-magnet",
   "metadata": {},
   "outputs": [
    {
     "name": "stdout",
     "output_type": "stream",
     "text": [
      "WARNING:tensorflow:5 out of the last 5 calls to <function Model.make_predict_function.<locals>.predict_function at 0x1a667ca730> triggered tf.function retracing. Tracing is expensive and the excessive number of tracings could be due to (1) creating @tf.function repeatedly in a loop, (2) passing tensors with different shapes, (3) passing Python objects instead of tensors. For (1), please define your @tf.function outside of the loop. For (2), @tf.function has experimental_relax_shapes=True option that relaxes argument shapes that can avoid unnecessary retracing. For (3), please refer to https://www.tensorflow.org/guide/function#controlling_retracing and https://www.tensorflow.org/api_docs/python/tf/function for  more details.\n"
     ]
    }
   ],
   "source": [
    "# make predictions.\n",
    "pred_Adagrad = model_Adagrad.predict(X_valid)"
   ]
  },
  {
   "cell_type": "markdown",
   "id": "superb-malawi",
   "metadata": {},
   "source": [
    "## Model Evaluation - model accuracy/loss curves"
   ]
  },
  {
   "cell_type": "code",
   "execution_count": 51,
   "id": "polar-graphics",
   "metadata": {},
   "outputs": [
    {
     "data": {
      "image/png": "[encoded data removed]",
      "text/plain": [
       "<Figure size 432x288 with 1 Axes>"
      ]
     },
     "metadata": {
      "needs_background": "light"
     },
     "output_type": "display_data"
    }
   ],
   "source": [
    "plt.title('Accuracies vs Epochs (LeNet+Adagrad)')\n",
    "plt.plot(LeNet_SGD_history[0].history['accuracy'], label='Training Fold 1')\n",
    "plt.plot(LeNet_SGD_history[1].history['accuracy'], label='Training Fold 2')\n",
    "plt.plot(LeNet_SGD_history[2].history['accuracy'], label='Training Fold 3')\n",
    "plt.plot(LeNet_SGD_history[3].history['accuracy'], label='Training Fold 4')\n",
    "plt.plot(LeNet_SGD_history[4].history['accuracy'], label='Training Fold 5')\n",
    "plt.legend()\n",
    "plt.show()"
   ]
  },
  {
   "cell_type": "code",
   "execution_count": 52,
   "id": "accessory-tamil",
   "metadata": {},
   "outputs": [
    {
     "data": {
      "image/png": "[encoded data removed]",
      "text/plain": [
       "<Figure size 432x288 with 1 Axes>"
      ]
     },
     "metadata": {
      "needs_background": "light"
     },
     "output_type": "display_data"
    }
   ],
   "source": [
    "plt.title('Loss vs Epochs (LeNet+Adagrad)')\n",
    "plt.plot(LeNet_SGD_history[0].history['loss'], label='Training Fold 1')\n",
    "plt.plot(LeNet_SGD_history[1].history['loss'], label='Training Fold 2')\n",
    "plt.plot(LeNet_SGD_history[2].history['loss'], label='Training Fold 3')\n",
    "plt.plot(LeNet_SGD_history[3].history['loss'], label='Training Fold 4')\n",
    "plt.plot(LeNet_SGD_history[4].history['loss'], label='Training Fold 5')\n",
    "plt.legend()\n",
    "plt.show()"
   ]
  },
  {
   "cell_type": "markdown",
   "id": "numerous-company",
   "metadata": {},
   "source": [
    "## Model Evaluation - confusion matrix"
   ]
  },
  {
   "cell_type": "code",
   "execution_count": 53,
   "id": "average-industry",
   "metadata": {},
   "outputs": [],
   "source": [
    "X_train, X_test, Y_train, Y_test = train_test_split(X, Y, test_size=0.25, random_state = 5)"
   ]
  },
  {
   "cell_type": "code",
   "execution_count": 54,
   "id": "multiple-popularity",
   "metadata": {},
   "outputs": [
    {
     "name": "stdout",
     "output_type": "stream",
     "text": [
      "1/1 [==============================] - 0s 31ms/step - loss: 0.6719 - accuracy: 0.7692\n"
     ]
    },
    {
     "data": {
      "text/plain": [
       "[0.6719048023223877, 0.7692307829856873]"
      ]
     },
     "execution_count": 54,
     "metadata": {},
     "output_type": "execute_result"
    }
   ],
   "source": [
    "# Score trained model.\n",
    "model_SGD.evaluate(X_test, Y_test)"
   ]
  },
  {
   "cell_type": "code",
   "execution_count": 55,
   "id": "weird-damage",
   "metadata": {},
   "outputs": [],
   "source": [
    "# make predictions.\n",
    "pred_SGD = model_SGD.predict(X_test)"
   ]
  },
  {
   "cell_type": "code",
   "execution_count": 56,
   "id": "automatic-sheriff",
   "metadata": {},
   "outputs": [],
   "source": [
    "def heatmap(data, row_labels, col_labels, ax=None, cbar_kw={}, cbarlabel=\"\", **kwargs):\n",
    "    \"\"\"\n",
    "    Create a heatmap from a numpy array and two lists of labels.\n",
    "    \"\"\"\n",
    "    # Plot the heatmap\n",
    "    im = ax.imshow(data, **kwargs)\n",
    "\n",
    "    # Create colorbar\n",
    "    cbar = ax.figure.colorbar(im, ax=ax, **cbar_kw)\n",
    "    cbar.ax.set_ylabel(cbarlabel, rotation=-90, va=\"bottom\")\n",
    "\n",
    "    # Let the horizontal axes labeling appear on top.\n",
    "    ax.tick_params(top=True, bottom=False, labeltop=True, labelbottom=False)\n",
    "    # Show all ticks\n",
    "    ax.set_xticks(np.arange(data.shape[1]))\n",
    "    ax.set_yticks(np.arange(data.shape[0]))\n",
    "    # Label ticks with the respective list entries.\n",
    "    ax.set_xticklabels(col_labels)\n",
    "    ax.set_yticklabels(row_labels)\n",
    "    \n",
    "    ax.set_xlabel('Predicted Label') \n",
    "    ax.set_ylabel('True Label')\n",
    "    \n",
    "    return im, cbar\n",
    "\n",
    "def annotate_heatmap(im, data=None, fmt=\"d\", threshold=None):\n",
    "    \"\"\"\n",
    "    A function to annotate a heatmap.\n",
    "    \"\"\"\n",
    "    # Change the text's color depending on the data.\n",
    "    texts = []\n",
    "    for i in range(data.shape[0]):\n",
    "        for j in range(data.shape[1]):\n",
    "            text = im.axes.text(j, i, format(data[i, j], fmt), horizontalalignment=\"center\",\n",
    "                                 color=\"white\" if data[i, j] > thresh else \"black\")\n",
    "            texts.append(text)\n",
    "\n",
    "    return texts"
   ]
  },
  {
   "cell_type": "code",
   "execution_count": 57,
   "id": "hybrid-clinic",
   "metadata": {},
   "outputs": [
    {
     "data": {
      "image/png": "[encoded data removed]",
      "text/plain": [
       "<Figure size 864x864 with 2 Axes>"
      ]
     },
     "metadata": {
      "needs_background": "light"
     },
     "output_type": "display_data"
    }
   ],
   "source": [
    "labels = ['Ennie','Jimmy','Biden','Elizabeth II','Teresa']\n",
    "\n",
    "# Convert predictions classes to one hot vectors \n",
    "Y_pred_classes = np.argmax(pred_SGD, axis=1) \n",
    "# Convert validation observations to one hot vectors\n",
    "Y_true = np.argmax(Y_test, axis=1)\n",
    "# Errors are difference between predicted labels and true labels\n",
    "errors = (Y_pred_classes - Y_true != 0)\n",
    "\n",
    "Y_pred_classes_errors = Y_pred_classes[errors]\n",
    "Y_pred_errors = pred_SGD[errors]\n",
    "Y_true_errors = Y_true[errors]\n",
    "X_valid_errors = X_test[errors]\n",
    "\n",
    "cm = confusion_matrix(Y_true, Y_pred_classes) \n",
    "thresh = cm.max() / 2.\n",
    "\n",
    "fig, ax = plt.subplots(figsize=(12,12))\n",
    "im, cbar = heatmap(cm, labels, labels, ax=ax, cmap=plt.cm.Oranges, cbarlabel=\"count of predictions\")\n",
    "texts = annotate_heatmap(im, data=cm, threshold=thresh)\n",
    "\n",
    "fig.tight_layout()\n",
    "plt.show()"
   ]
  },
  {
   "cell_type": "code",
   "execution_count": null,
   "id": "corporate-kinase",
   "metadata": {},
   "outputs": [],
   "source": []
  },
  {
   "cell_type": "code",
   "execution_count": null,
   "id": "according-fishing",
   "metadata": {},
   "outputs": [],
   "source": []
  },
  {
   "cell_type": "code",
   "execution_count": null,
   "id": "municipal-exchange",
   "metadata": {},
   "outputs": [],
   "source": []
  }
 ],
 "metadata": {
  "kernelspec": {
   "display_name": "Python 3",
   "language": "python",
   "name": "python3"
  },
  "language_info": {
   "codemirror_mode": {
    "name": "ipython",
    "version": 3
   },
   "file_extension": ".py",
   "mimetype": "text/x-python",
   "name": "python",
   "nbconvert_exporter": "python",
   "pygments_lexer": "ipython3",
   "version": "3.6.4"
  }
 },
 "nbformat": 4,
 "nbformat_minor": 5
}
