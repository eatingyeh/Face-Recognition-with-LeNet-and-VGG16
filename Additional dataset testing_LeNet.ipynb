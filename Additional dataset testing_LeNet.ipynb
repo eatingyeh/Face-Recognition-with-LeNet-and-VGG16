{
 "cells": [
  {
   "cell_type": "markdown",
   "id": "union-ivory",
   "metadata": {},
   "source": [
    "## Description\n",
    "This code is used to test the performance of additional dataset using LeNet model"
   ]
  },
  {
   "cell_type": "code",
   "execution_count": 1,
   "id": "tested-seminar",
   "metadata": {},
   "outputs": [],
   "source": [
    "#import used libraries\n",
    "import os\n",
    "import numpy as np\n",
    "import pandas as pd\n",
    "import dlib\n",
    "from skimage import io\n",
    "from PIL import Image\n",
    "import pathlib\n",
    "import glob\n",
    "import cv2\n",
    "from tqdm import tqdm, tqdm_notebook\n",
    "from sklearn.model_selection import train_test_split\n",
    "import ntpath\n",
    "from sklearn.preprocessing import OneHotEncoder\n",
    "from keras.models import load_model\n",
    "from sklearn.metrics import confusion_matrix\n",
    "import matplotlib.pyplot as plt"
   ]
  },
  {
   "cell_type": "markdown",
   "id": "dense-passenger",
   "metadata": {},
   "source": [
    "## Data Preprocessing"
   ]
  },
  {
   "cell_type": "markdown",
   "id": "fatty-singing",
   "metadata": {},
   "source": [
    "### Loading - Ennie"
   ]
  },
  {
   "cell_type": "code",
   "execution_count": 2,
   "id": "steady-thesis",
   "metadata": {},
   "outputs": [],
   "source": [
    "ennie = glob.glob(\"./Additional_dataset/Ennie/*\")"
   ]
  },
  {
   "cell_type": "code",
   "execution_count": 3,
   "id": "brutal-fleet",
   "metadata": {},
   "outputs": [],
   "source": [
    "ennie_folderName = [os.path.dirname(i) for i in ennie]\n",
    "ennie_imageName = [ntpath.split(i)[1] for i in ennie]\n",
    "ennie_personName = [[\"Ennie\"]*len(ennie)][0]\n",
    "ennie_label = [1]*len(ennie)\n",
    "\n",
    "ennie_id = []\n",
    "ennie_old_id = []\n",
    "for item in ennie_imageName:\n",
    "    ennie_id.append('./Additional_dataset_after/Ennie/' + item)\n",
    "for item in ennie_imageName:\n",
    "    ennie_old_id.append('./Additional_dataset/Ennie/' + item)"
   ]
  },
  {
   "cell_type": "code",
   "execution_count": 4,
   "id": "ultimate-saturn",
   "metadata": {},
   "outputs": [
    {
     "data": {
      "text/html": [
       "<div>\n",
       "<style scoped>\n",
       "    .dataframe tbody tr th:only-of-type {\n",
       "        vertical-align: middle;\n",
       "    }\n",
       "\n",
       "    .dataframe tbody tr th {\n",
       "        vertical-align: top;\n",
       "    }\n",
       "\n",
       "    .dataframe thead th {\n",
       "        text-align: right;\n",
       "    }\n",
       "</style>\n",
       "<table border=\"1\" class=\"dataframe\">\n",
       "  <thead>\n",
       "    <tr style=\"text-align: right;\">\n",
       "      <th></th>\n",
       "      <th>Id</th>\n",
       "      <th>Old_Id</th>\n",
       "      <th>Folder_Name</th>\n",
       "      <th>Image_Name</th>\n",
       "      <th>Person_Name</th>\n",
       "      <th>Labels</th>\n",
       "    </tr>\n",
       "  </thead>\n",
       "  <tbody>\n",
       "    <tr>\n",
       "      <th>0</th>\n",
       "      <td>./Additional_dataset_after/Ennie/Ennie1.JPG</td>\n",
       "      <td>./Additional_dataset/Ennie/Ennie1.JPG</td>\n",
       "      <td>./Additional_dataset/Ennie</td>\n",
       "      <td>Ennie1.JPG</td>\n",
       "      <td>Ennie</td>\n",
       "      <td>1</td>\n",
       "    </tr>\n",
       "    <tr>\n",
       "      <th>1</th>\n",
       "      <td>./Additional_dataset_after/Ennie/Ennie3.JPG</td>\n",
       "      <td>./Additional_dataset/Ennie/Ennie3.JPG</td>\n",
       "      <td>./Additional_dataset/Ennie</td>\n",
       "      <td>Ennie3.JPG</td>\n",
       "      <td>Ennie</td>\n",
       "      <td>1</td>\n",
       "    </tr>\n",
       "    <tr>\n",
       "      <th>2</th>\n",
       "      <td>./Additional_dataset_after/Ennie/Ennie2.JPG</td>\n",
       "      <td>./Additional_dataset/Ennie/Ennie2.JPG</td>\n",
       "      <td>./Additional_dataset/Ennie</td>\n",
       "      <td>Ennie2.JPG</td>\n",
       "      <td>Ennie</td>\n",
       "      <td>1</td>\n",
       "    </tr>\n",
       "  </tbody>\n",
       "</table>\n",
       "</div>"
      ],
      "text/plain": [
       "                                            Id  \\\n",
       "0  ./Additional_dataset_after/Ennie/Ennie1.JPG   \n",
       "1  ./Additional_dataset_after/Ennie/Ennie3.JPG   \n",
       "2  ./Additional_dataset_after/Ennie/Ennie2.JPG   \n",
       "\n",
       "                                  Old_Id                 Folder_Name  \\\n",
       "0  ./Additional_dataset/Ennie/Ennie1.JPG  ./Additional_dataset/Ennie   \n",
       "1  ./Additional_dataset/Ennie/Ennie3.JPG  ./Additional_dataset/Ennie   \n",
       "2  ./Additional_dataset/Ennie/Ennie2.JPG  ./Additional_dataset/Ennie   \n",
       "\n",
       "   Image_Name Person_Name  Labels  \n",
       "0  Ennie1.JPG       Ennie       1  \n",
       "1  Ennie3.JPG       Ennie       1  \n",
       "2  Ennie2.JPG       Ennie       1  "
      ]
     },
     "execution_count": 4,
     "metadata": {},
     "output_type": "execute_result"
    }
   ],
   "source": [
    "ennie_df = pd.DataFrame()\n",
    "ennie_df[\"Id\"] = ennie_id\n",
    "ennie_df[\"Old_Id\"] = ennie_old_id\n",
    "ennie_df[\"Folder_Name\"] = ennie_folderName\n",
    "ennie_df[\"Image_Name\"] = ennie_imageName\n",
    "ennie_df[\"Person_Name\"] = ennie_personName\n",
    "ennie_df[\"Labels\"] = ennie_label\n",
    "ennie_df.head()"
   ]
  },
  {
   "cell_type": "markdown",
   "id": "classified-austin",
   "metadata": {},
   "source": [
    "### Loading - Jimmy"
   ]
  },
  {
   "cell_type": "code",
   "execution_count": 5,
   "id": "furnished-cedar",
   "metadata": {},
   "outputs": [],
   "source": [
    "jimmy = glob.glob(\"./Additional_dataset/Jimmy/*\")"
   ]
  },
  {
   "cell_type": "code",
   "execution_count": 6,
   "id": "capable-feedback",
   "metadata": {},
   "outputs": [],
   "source": [
    "jimmy_folderName = [os.path.dirname(i) for i in jimmy]\n",
    "jimmy_imageName = [ntpath.split(i)[1] for i in jimmy]\n",
    "jimmy_personName = [[\"Jimmy\"]*len(jimmy)][0]\n",
    "jimmy_label = [2]*len(jimmy)\n",
    "\n",
    "jimmy_id = []\n",
    "jimmy_old_id = []\n",
    "for item in jimmy_imageName:\n",
    "    jimmy_id.append('./Additional_dataset_after/Jimmy/' + item)\n",
    "for item in jimmy_imageName:\n",
    "    jimmy_old_id.append('./Additional_dataset/Jimmy/' + item)"
   ]
  },
  {
   "cell_type": "code",
   "execution_count": 7,
   "id": "confirmed-stretch",
   "metadata": {},
   "outputs": [
    {
     "data": {
      "text/html": [
       "<div>\n",
       "<style scoped>\n",
       "    .dataframe tbody tr th:only-of-type {\n",
       "        vertical-align: middle;\n",
       "    }\n",
       "\n",
       "    .dataframe tbody tr th {\n",
       "        vertical-align: top;\n",
       "    }\n",
       "\n",
       "    .dataframe thead th {\n",
       "        text-align: right;\n",
       "    }\n",
       "</style>\n",
       "<table border=\"1\" class=\"dataframe\">\n",
       "  <thead>\n",
       "    <tr style=\"text-align: right;\">\n",
       "      <th></th>\n",
       "      <th>Id</th>\n",
       "      <th>Old_Id</th>\n",
       "      <th>Folder_Name</th>\n",
       "      <th>Image_Name</th>\n",
       "      <th>Person_Name</th>\n",
       "      <th>Labels</th>\n",
       "    </tr>\n",
       "  </thead>\n",
       "  <tbody>\n",
       "    <tr>\n",
       "      <th>0</th>\n",
       "      <td>./Additional_dataset_after/Jimmy/Jimmy3.jpg</td>\n",
       "      <td>./Additional_dataset/Jimmy/Jimmy3.jpg</td>\n",
       "      <td>./Additional_dataset/Jimmy</td>\n",
       "      <td>Jimmy3.jpg</td>\n",
       "      <td>Jimmy</td>\n",
       "      <td>2</td>\n",
       "    </tr>\n",
       "    <tr>\n",
       "      <th>1</th>\n",
       "      <td>./Additional_dataset_after/Jimmy/Jimmy2.jpg</td>\n",
       "      <td>./Additional_dataset/Jimmy/Jimmy2.jpg</td>\n",
       "      <td>./Additional_dataset/Jimmy</td>\n",
       "      <td>Jimmy2.jpg</td>\n",
       "      <td>Jimmy</td>\n",
       "      <td>2</td>\n",
       "    </tr>\n",
       "    <tr>\n",
       "      <th>2</th>\n",
       "      <td>./Additional_dataset_after/Jimmy/Jimmy1.jpg</td>\n",
       "      <td>./Additional_dataset/Jimmy/Jimmy1.jpg</td>\n",
       "      <td>./Additional_dataset/Jimmy</td>\n",
       "      <td>Jimmy1.jpg</td>\n",
       "      <td>Jimmy</td>\n",
       "      <td>2</td>\n",
       "    </tr>\n",
       "  </tbody>\n",
       "</table>\n",
       "</div>"
      ],
      "text/plain": [
       "                                            Id  \\\n",
       "0  ./Additional_dataset_after/Jimmy/Jimmy3.jpg   \n",
       "1  ./Additional_dataset_after/Jimmy/Jimmy2.jpg   \n",
       "2  ./Additional_dataset_after/Jimmy/Jimmy1.jpg   \n",
       "\n",
       "                                  Old_Id                 Folder_Name  \\\n",
       "0  ./Additional_dataset/Jimmy/Jimmy3.jpg  ./Additional_dataset/Jimmy   \n",
       "1  ./Additional_dataset/Jimmy/Jimmy2.jpg  ./Additional_dataset/Jimmy   \n",
       "2  ./Additional_dataset/Jimmy/Jimmy1.jpg  ./Additional_dataset/Jimmy   \n",
       "\n",
       "   Image_Name Person_Name  Labels  \n",
       "0  Jimmy3.jpg       Jimmy       2  \n",
       "1  Jimmy2.jpg       Jimmy       2  \n",
       "2  Jimmy1.jpg       Jimmy       2  "
      ]
     },
     "execution_count": 7,
     "metadata": {},
     "output_type": "execute_result"
    }
   ],
   "source": [
    "jimmy_df = pd.DataFrame()\n",
    "jimmy_df[\"Id\"] = jimmy_id\n",
    "jimmy_df[\"Old_Id\"] = jimmy_old_id\n",
    "jimmy_df[\"Folder_Name\"] = jimmy_folderName\n",
    "jimmy_df[\"Image_Name\"] = jimmy_imageName\n",
    "jimmy_df[\"Person_Name\"] = jimmy_personName\n",
    "jimmy_df[\"Labels\"] = jimmy_label\n",
    "jimmy_df.head()"
   ]
  },
  {
   "cell_type": "markdown",
   "id": "governmental-bernard",
   "metadata": {},
   "source": [
    "### Loading - Biden"
   ]
  },
  {
   "cell_type": "code",
   "execution_count": 8,
   "id": "congressional-burton",
   "metadata": {},
   "outputs": [],
   "source": [
    "biden = glob.glob(\"./Additional_dataset/Biden/*\")"
   ]
  },
  {
   "cell_type": "code",
   "execution_count": 9,
   "id": "ambient-organic",
   "metadata": {},
   "outputs": [],
   "source": [
    "biden_folderName = [os.path.dirname(i) for i in biden]\n",
    "biden_imageName = [ntpath.split(i)[1] for i in biden]\n",
    "biden_personName = [[\"Biden\"]*len(biden)][0]\n",
    "biden_label = [3]*len(biden)\n",
    "\n",
    "biden_id = []\n",
    "biden_old_id = []\n",
    "for item in biden_imageName:\n",
    "    biden_id.append('./Additional_dataset_after/Biden/' + item)\n",
    "for item in biden_imageName:\n",
    "    biden_old_id.append('./Additional_dataset/Biden/' + item)"
   ]
  },
  {
   "cell_type": "code",
   "execution_count": 10,
   "id": "aggregate-captain",
   "metadata": {},
   "outputs": [
    {
     "data": {
      "text/html": [
       "<div>\n",
       "<style scoped>\n",
       "    .dataframe tbody tr th:only-of-type {\n",
       "        vertical-align: middle;\n",
       "    }\n",
       "\n",
       "    .dataframe tbody tr th {\n",
       "        vertical-align: top;\n",
       "    }\n",
       "\n",
       "    .dataframe thead th {\n",
       "        text-align: right;\n",
       "    }\n",
       "</style>\n",
       "<table border=\"1\" class=\"dataframe\">\n",
       "  <thead>\n",
       "    <tr style=\"text-align: right;\">\n",
       "      <th></th>\n",
       "      <th>Id</th>\n",
       "      <th>Old_Id</th>\n",
       "      <th>Folder_Name</th>\n",
       "      <th>Image_Name</th>\n",
       "      <th>Person_Name</th>\n",
       "      <th>Labels</th>\n",
       "    </tr>\n",
       "  </thead>\n",
       "  <tbody>\n",
       "    <tr>\n",
       "      <th>0</th>\n",
       "      <td>./Additional_dataset_after/Biden/Biden3.jpeg</td>\n",
       "      <td>./Additional_dataset/Biden/Biden3.jpeg</td>\n",
       "      <td>./Additional_dataset/Biden</td>\n",
       "      <td>Biden3.jpeg</td>\n",
       "      <td>Biden</td>\n",
       "      <td>3</td>\n",
       "    </tr>\n",
       "    <tr>\n",
       "      <th>1</th>\n",
       "      <td>./Additional_dataset_after/Biden/Biden2.jpeg</td>\n",
       "      <td>./Additional_dataset/Biden/Biden2.jpeg</td>\n",
       "      <td>./Additional_dataset/Biden</td>\n",
       "      <td>Biden2.jpeg</td>\n",
       "      <td>Biden</td>\n",
       "      <td>3</td>\n",
       "    </tr>\n",
       "    <tr>\n",
       "      <th>2</th>\n",
       "      <td>./Additional_dataset_after/Biden/Biden1.jpeg</td>\n",
       "      <td>./Additional_dataset/Biden/Biden1.jpeg</td>\n",
       "      <td>./Additional_dataset/Biden</td>\n",
       "      <td>Biden1.jpeg</td>\n",
       "      <td>Biden</td>\n",
       "      <td>3</td>\n",
       "    </tr>\n",
       "  </tbody>\n",
       "</table>\n",
       "</div>"
      ],
      "text/plain": [
       "                                             Id  \\\n",
       "0  ./Additional_dataset_after/Biden/Biden3.jpeg   \n",
       "1  ./Additional_dataset_after/Biden/Biden2.jpeg   \n",
       "2  ./Additional_dataset_after/Biden/Biden1.jpeg   \n",
       "\n",
       "                                   Old_Id                 Folder_Name  \\\n",
       "0  ./Additional_dataset/Biden/Biden3.jpeg  ./Additional_dataset/Biden   \n",
       "1  ./Additional_dataset/Biden/Biden2.jpeg  ./Additional_dataset/Biden   \n",
       "2  ./Additional_dataset/Biden/Biden1.jpeg  ./Additional_dataset/Biden   \n",
       "\n",
       "    Image_Name Person_Name  Labels  \n",
       "0  Biden3.jpeg       Biden       3  \n",
       "1  Biden2.jpeg       Biden       3  \n",
       "2  Biden1.jpeg       Biden       3  "
      ]
     },
     "execution_count": 10,
     "metadata": {},
     "output_type": "execute_result"
    }
   ],
   "source": [
    "biden_df = pd.DataFrame()\n",
    "biden_df[\"Id\"] = biden_id\n",
    "biden_df[\"Old_Id\"] = biden_old_id\n",
    "biden_df[\"Folder_Name\"] = biden_folderName\n",
    "biden_df[\"Image_Name\"] = biden_imageName\n",
    "biden_df[\"Person_Name\"] = biden_personName\n",
    "biden_df[\"Labels\"] = biden_label\n",
    "biden_df.head(10)"
   ]
  },
  {
   "cell_type": "markdown",
   "id": "solved-cover",
   "metadata": {},
   "source": [
    "### Loading - Elizabeth II"
   ]
  },
  {
   "cell_type": "code",
   "execution_count": 11,
   "id": "iraqi-lesbian",
   "metadata": {},
   "outputs": [],
   "source": [
    "elizabeth = glob.glob(\"./Additional_dataset/Elizabeth II/*\")"
   ]
  },
  {
   "cell_type": "code",
   "execution_count": 12,
   "id": "premium-enough",
   "metadata": {},
   "outputs": [],
   "source": [
    "elizabeth_folderName = [os.path.dirname(i) for i in elizabeth]\n",
    "elizabeth_imageName = [ntpath.split(i)[1] for i in elizabeth]\n",
    "elizabeth_personName = [[\"Elizabeth II\"]*len(elizabeth)][0]\n",
    "elizabeth_label = [4]*len(elizabeth)\n",
    "\n",
    "elizabeth_id = []\n",
    "elizabeth_old_id = []\n",
    "for item in elizabeth_imageName:\n",
    "    elizabeth_id.append('./Additional_dataset_after/Elizabeth II/' + item)\n",
    "for item in elizabeth_imageName:\n",
    "    elizabeth_old_id.append('./Additional_dataset/Elizabeth II/' + item)"
   ]
  },
  {
   "cell_type": "code",
   "execution_count": 13,
   "id": "threaded-dynamics",
   "metadata": {},
   "outputs": [
    {
     "data": {
      "text/html": [
       "<div>\n",
       "<style scoped>\n",
       "    .dataframe tbody tr th:only-of-type {\n",
       "        vertical-align: middle;\n",
       "    }\n",
       "\n",
       "    .dataframe tbody tr th {\n",
       "        vertical-align: top;\n",
       "    }\n",
       "\n",
       "    .dataframe thead th {\n",
       "        text-align: right;\n",
       "    }\n",
       "</style>\n",
       "<table border=\"1\" class=\"dataframe\">\n",
       "  <thead>\n",
       "    <tr style=\"text-align: right;\">\n",
       "      <th></th>\n",
       "      <th>Id</th>\n",
       "      <th>Old_Id</th>\n",
       "      <th>Folder_Name</th>\n",
       "      <th>Image_Name</th>\n",
       "      <th>Person_Name</th>\n",
       "      <th>Labels</th>\n",
       "    </tr>\n",
       "  </thead>\n",
       "  <tbody>\n",
       "    <tr>\n",
       "      <th>0</th>\n",
       "      <td>./Additional_dataset_after/Elizabeth II/Elizab...</td>\n",
       "      <td>./Additional_dataset/Elizabeth II/Elizabeth2.jpeg</td>\n",
       "      <td>./Additional_dataset/Elizabeth II</td>\n",
       "      <td>Elizabeth2.jpeg</td>\n",
       "      <td>Elizabeth II</td>\n",
       "      <td>4</td>\n",
       "    </tr>\n",
       "    <tr>\n",
       "      <th>1</th>\n",
       "      <td>./Additional_dataset_after/Elizabeth II/Elizab...</td>\n",
       "      <td>./Additional_dataset/Elizabeth II/Elizabeth3.jpeg</td>\n",
       "      <td>./Additional_dataset/Elizabeth II</td>\n",
       "      <td>Elizabeth3.jpeg</td>\n",
       "      <td>Elizabeth II</td>\n",
       "      <td>4</td>\n",
       "    </tr>\n",
       "    <tr>\n",
       "      <th>2</th>\n",
       "      <td>./Additional_dataset_after/Elizabeth II/Elizab...</td>\n",
       "      <td>./Additional_dataset/Elizabeth II/Elizabeth1.jpg</td>\n",
       "      <td>./Additional_dataset/Elizabeth II</td>\n",
       "      <td>Elizabeth1.jpg</td>\n",
       "      <td>Elizabeth II</td>\n",
       "      <td>4</td>\n",
       "    </tr>\n",
       "  </tbody>\n",
       "</table>\n",
       "</div>"
      ],
      "text/plain": [
       "                                                  Id  \\\n",
       "0  ./Additional_dataset_after/Elizabeth II/Elizab...   \n",
       "1  ./Additional_dataset_after/Elizabeth II/Elizab...   \n",
       "2  ./Additional_dataset_after/Elizabeth II/Elizab...   \n",
       "\n",
       "                                              Old_Id  \\\n",
       "0  ./Additional_dataset/Elizabeth II/Elizabeth2.jpeg   \n",
       "1  ./Additional_dataset/Elizabeth II/Elizabeth3.jpeg   \n",
       "2   ./Additional_dataset/Elizabeth II/Elizabeth1.jpg   \n",
       "\n",
       "                         Folder_Name       Image_Name   Person_Name  Labels  \n",
       "0  ./Additional_dataset/Elizabeth II  Elizabeth2.jpeg  Elizabeth II       4  \n",
       "1  ./Additional_dataset/Elizabeth II  Elizabeth3.jpeg  Elizabeth II       4  \n",
       "2  ./Additional_dataset/Elizabeth II   Elizabeth1.jpg  Elizabeth II       4  "
      ]
     },
     "execution_count": 13,
     "metadata": {},
     "output_type": "execute_result"
    }
   ],
   "source": [
    "elizabeth_df = pd.DataFrame()\n",
    "elizabeth_df[\"Id\"] = elizabeth_id\n",
    "elizabeth_df[\"Old_Id\"] = elizabeth_old_id\n",
    "elizabeth_df[\"Folder_Name\"] = elizabeth_folderName\n",
    "elizabeth_df[\"Image_Name\"] = elizabeth_imageName\n",
    "elizabeth_df[\"Person_Name\"] = elizabeth_personName\n",
    "elizabeth_df[\"Labels\"] = elizabeth_label\n",
    "elizabeth_df.head()"
   ]
  },
  {
   "cell_type": "markdown",
   "id": "romance-nursing",
   "metadata": {},
   "source": [
    "### Loading - Teresa"
   ]
  },
  {
   "cell_type": "code",
   "execution_count": 14,
   "id": "satisfactory-revolution",
   "metadata": {},
   "outputs": [],
   "source": [
    "teresa = glob.glob(\"./Additional_dataset/Teresa/*\")"
   ]
  },
  {
   "cell_type": "code",
   "execution_count": 15,
   "id": "complicated-timing",
   "metadata": {},
   "outputs": [],
   "source": [
    "teresa_folderName = [os.path.dirname(i) for i in teresa]\n",
    "teresa_imageName = [ntpath.split(i)[1] for i in teresa]\n",
    "teresa_personName = [[\"Teresa\"]*len(teresa)][0]\n",
    "teresa_label = [5]*len(teresa)\n",
    "\n",
    "teresa_id = []\n",
    "teresa_old_id = []\n",
    "for item in teresa_imageName:\n",
    "    teresa_id.append('./Additional_dataset_after/Teresa/' + item)\n",
    "for item in teresa_imageName:\n",
    "    teresa_old_id.append('./Additional_dataset/Teresa/' + item)"
   ]
  },
  {
   "cell_type": "code",
   "execution_count": 16,
   "id": "severe-runner",
   "metadata": {},
   "outputs": [
    {
     "data": {
      "text/html": [
       "<div>\n",
       "<style scoped>\n",
       "    .dataframe tbody tr th:only-of-type {\n",
       "        vertical-align: middle;\n",
       "    }\n",
       "\n",
       "    .dataframe tbody tr th {\n",
       "        vertical-align: top;\n",
       "    }\n",
       "\n",
       "    .dataframe thead th {\n",
       "        text-align: right;\n",
       "    }\n",
       "</style>\n",
       "<table border=\"1\" class=\"dataframe\">\n",
       "  <thead>\n",
       "    <tr style=\"text-align: right;\">\n",
       "      <th></th>\n",
       "      <th>Id</th>\n",
       "      <th>Old_Id</th>\n",
       "      <th>Folder_Name</th>\n",
       "      <th>Image_Name</th>\n",
       "      <th>Person_Name</th>\n",
       "      <th>Labels</th>\n",
       "    </tr>\n",
       "  </thead>\n",
       "  <tbody>\n",
       "    <tr>\n",
       "      <th>0</th>\n",
       "      <td>./Additional_dataset_after/Teresa/Teresa1.JPG</td>\n",
       "      <td>./Additional_dataset/Teresa/Teresa1.JPG</td>\n",
       "      <td>./Additional_dataset/Teresa</td>\n",
       "      <td>Teresa1.JPG</td>\n",
       "      <td>Teresa</td>\n",
       "      <td>5</td>\n",
       "    </tr>\n",
       "    <tr>\n",
       "      <th>1</th>\n",
       "      <td>./Additional_dataset_after/Teresa/Teresa2.JPG</td>\n",
       "      <td>./Additional_dataset/Teresa/Teresa2.JPG</td>\n",
       "      <td>./Additional_dataset/Teresa</td>\n",
       "      <td>Teresa2.JPG</td>\n",
       "      <td>Teresa</td>\n",
       "      <td>5</td>\n",
       "    </tr>\n",
       "    <tr>\n",
       "      <th>2</th>\n",
       "      <td>./Additional_dataset_after/Teresa/Teresa3.png</td>\n",
       "      <td>./Additional_dataset/Teresa/Teresa3.png</td>\n",
       "      <td>./Additional_dataset/Teresa</td>\n",
       "      <td>Teresa3.png</td>\n",
       "      <td>Teresa</td>\n",
       "      <td>5</td>\n",
       "    </tr>\n",
       "  </tbody>\n",
       "</table>\n",
       "</div>"
      ],
      "text/plain": [
       "                                              Id  \\\n",
       "0  ./Additional_dataset_after/Teresa/Teresa1.JPG   \n",
       "1  ./Additional_dataset_after/Teresa/Teresa2.JPG   \n",
       "2  ./Additional_dataset_after/Teresa/Teresa3.png   \n",
       "\n",
       "                                    Old_Id                  Folder_Name  \\\n",
       "0  ./Additional_dataset/Teresa/Teresa1.JPG  ./Additional_dataset/Teresa   \n",
       "1  ./Additional_dataset/Teresa/Teresa2.JPG  ./Additional_dataset/Teresa   \n",
       "2  ./Additional_dataset/Teresa/Teresa3.png  ./Additional_dataset/Teresa   \n",
       "\n",
       "    Image_Name Person_Name  Labels  \n",
       "0  Teresa1.JPG      Teresa       5  \n",
       "1  Teresa2.JPG      Teresa       5  \n",
       "2  Teresa3.png      Teresa       5  "
      ]
     },
     "execution_count": 16,
     "metadata": {},
     "output_type": "execute_result"
    }
   ],
   "source": [
    "teresa_df = pd.DataFrame()\n",
    "teresa_df[\"Id\"] = teresa_id\n",
    "teresa_df[\"Old_Id\"] = teresa_old_id\n",
    "teresa_df[\"Folder_Name\"] = teresa_folderName\n",
    "teresa_df[\"Image_Name\"] = teresa_imageName\n",
    "teresa_df[\"Person_Name\"] = teresa_personName\n",
    "teresa_df[\"Labels\"] = teresa_label\n",
    "teresa_df.head()"
   ]
  },
  {
   "cell_type": "markdown",
   "id": "unlimited-cancer",
   "metadata": {},
   "source": [
    "### Combine all dataframes"
   ]
  },
  {
   "cell_type": "code",
   "execution_count": 17,
   "id": "handy-guyana",
   "metadata": {},
   "outputs": [
    {
     "data": {
      "text/plain": [
       "(15, 6)"
      ]
     },
     "execution_count": 17,
     "metadata": {},
     "output_type": "execute_result"
    }
   ],
   "source": [
    "frames = [ennie_df, jimmy_df, biden_df, elizabeth_df, teresa_df]\n",
    "add_people_df = pd.concat(frames)\n",
    "add_people_df.shape"
   ]
  },
  {
   "cell_type": "code",
   "execution_count": 18,
   "id": "decent-amateur",
   "metadata": {
    "scrolled": true
   },
   "outputs": [
    {
     "name": "stdout",
     "output_type": "stream",
     "text": [
      "                                            Id  \\\n",
      "0  ./Additional_dataset_after/Ennie/Ennie1.JPG   \n",
      "1  ./Additional_dataset_after/Ennie/Ennie3.JPG   \n",
      "2  ./Additional_dataset_after/Ennie/Ennie2.JPG   \n",
      "3  ./Additional_dataset_after/Jimmy/Jimmy3.jpg   \n",
      "4  ./Additional_dataset_after/Jimmy/Jimmy2.jpg   \n",
      "\n",
      "                                  Old_Id                 Folder_Name  \\\n",
      "0  ./Additional_dataset/Ennie/Ennie1.JPG  ./Additional_dataset/Ennie   \n",
      "1  ./Additional_dataset/Ennie/Ennie3.JPG  ./Additional_dataset/Ennie   \n",
      "2  ./Additional_dataset/Ennie/Ennie2.JPG  ./Additional_dataset/Ennie   \n",
      "3  ./Additional_dataset/Jimmy/Jimmy3.jpg  ./Additional_dataset/Jimmy   \n",
      "4  ./Additional_dataset/Jimmy/Jimmy2.jpg  ./Additional_dataset/Jimmy   \n",
      "\n",
      "   Image_Name Person_Name  Labels  \n",
      "0  Ennie1.JPG       Ennie       1  \n",
      "1  Ennie3.JPG       Ennie       1  \n",
      "2  Ennie2.JPG       Ennie       1  \n",
      "3  Jimmy3.jpg       Jimmy       2  \n",
      "4  Jimmy2.jpg       Jimmy       2   \n",
      "\n",
      "                                                   Id  \\\n",
      "10  ./Additional_dataset_after/Elizabeth II/Elizab...   \n",
      "11  ./Additional_dataset_after/Elizabeth II/Elizab...   \n",
      "12      ./Additional_dataset_after/Teresa/Teresa1.JPG   \n",
      "13      ./Additional_dataset_after/Teresa/Teresa2.JPG   \n",
      "14      ./Additional_dataset_after/Teresa/Teresa3.png   \n",
      "\n",
      "                                               Old_Id  \\\n",
      "10  ./Additional_dataset/Elizabeth II/Elizabeth3.jpeg   \n",
      "11   ./Additional_dataset/Elizabeth II/Elizabeth1.jpg   \n",
      "12            ./Additional_dataset/Teresa/Teresa1.JPG   \n",
      "13            ./Additional_dataset/Teresa/Teresa2.JPG   \n",
      "14            ./Additional_dataset/Teresa/Teresa3.png   \n",
      "\n",
      "                          Folder_Name       Image_Name   Person_Name  Labels  \n",
      "10  ./Additional_dataset/Elizabeth II  Elizabeth3.jpeg  Elizabeth II       4  \n",
      "11  ./Additional_dataset/Elizabeth II   Elizabeth1.jpg  Elizabeth II       4  \n",
      "12        ./Additional_dataset/Teresa      Teresa1.JPG        Teresa       5  \n",
      "13        ./Additional_dataset/Teresa      Teresa2.JPG        Teresa       5  \n",
      "14        ./Additional_dataset/Teresa      Teresa3.png        Teresa       5  \n"
     ]
    }
   ],
   "source": [
    "add_people_df.reset_index(inplace = True, drop = True)\n",
    "print(add_people_df.head(), '\\n')\n",
    "print(add_people_df.tail())"
   ]
  },
  {
   "cell_type": "markdown",
   "id": "alternate-dollar",
   "metadata": {},
   "source": [
    "### Cropping and Resizing images"
   ]
  },
  {
   "cell_type": "code",
   "execution_count": 19,
   "id": "instant-recovery",
   "metadata": {},
   "outputs": [],
   "source": [
    "def facecrop(df):\n",
    "    \"\"\"crop and keep only the face part in images\"\"\"\n",
    "    # face images file\n",
    "    cascade = cv2.CascadeClassifier(cv2.data.haarcascades + 'haarcascade_frontalface_default.xml')\n",
    "    \n",
    "    # crop the image to face size\n",
    "    for i, temp_df in df.iterrows():\n",
    "        img = cv2.imread(temp_df[\"Old_Id\"])\n",
    "        minisize = (img.shape[1],img.shape[0])\n",
    "        miniframe = cv2.resize(img, minisize)\n",
    "        faces = cascade.detectMultiScale(miniframe)\n",
    "\n",
    "        for f in faces:\n",
    "            x, y, w, h = [ v for v in f ]\n",
    "            cv2.rectangle(img, (x,y), (x+w,y+h), (255,255,255))\n",
    "            sub_face = img[y:y+h, x:x+w]\n",
    "            \n",
    "            fname, ext = os.path.splitext(temp_df[\"Id\"])\n",
    "            cv2.imwrite(temp_df[\"Id\"], sub_face)\n",
    "    return"
   ]
  },
  {
   "cell_type": "code",
   "execution_count": 20,
   "id": "applied-pontiac",
   "metadata": {},
   "outputs": [],
   "source": [
    "facecrop(add_people_df)"
   ]
  },
  {
   "cell_type": "markdown",
   "id": "actual-punishment",
   "metadata": {},
   "source": [
    "### Converting images to grayscale"
   ]
  },
  {
   "cell_type": "code",
   "execution_count": 21,
   "id": "technological-commons",
   "metadata": {},
   "outputs": [],
   "source": [
    "def convert_to_grayscale(df):\n",
    "    \"\"\"convert images from colorful to grayscale\"\"\"\n",
    "    for i, temp_df in df.iterrows():\n",
    "        img = cv2.imread(temp_df[\"Id\"])\n",
    "        gray = cv2.cvtColor(img, cv2.COLOR_RGB2GRAY)\n",
    "        face_resized = cv2.resize(gray, (64,64))\n",
    "        cv2.imwrite(temp_df[\"Id\"], face_resized)"
   ]
  },
  {
   "cell_type": "code",
   "execution_count": 22,
   "id": "danish-atlantic",
   "metadata": {},
   "outputs": [],
   "source": [
    "convert_to_grayscale(add_people_df)"
   ]
  },
  {
   "cell_type": "markdown",
   "id": "intimate-jaguar",
   "metadata": {},
   "source": [
    "### Splitting dataset to X, Y"
   ]
  },
  {
   "cell_type": "code",
   "execution_count": 23,
   "id": "integrated-firmware",
   "metadata": {
    "scrolled": false
   },
   "outputs": [
    {
     "name": "stderr",
     "output_type": "stream",
     "text": [
      "/anaconda3/lib/python3.6/site-packages/ipykernel_launcher.py:4: TqdmDeprecationWarning: This function will be removed in tqdm==5.0.0\n",
      "Please use `tqdm.notebook.tqdm` instead of `tqdm.tqdm_notebook`\n",
      "  after removing the cwd from sys.path.\n"
     ]
    },
    {
     "data": {
      "application/vnd.jupyter.widget-view+json": {
       "model_id": "612f14972ae0432d8091d3246eafa553",
       "version_major": 2,
       "version_minor": 0
      },
      "text/plain": [
       "HBox(children=(FloatProgress(value=0.0, max=15.0), HTML(value='')))"
      ]
     },
     "metadata": {},
     "output_type": "display_data"
    },
    {
     "name": "stdout",
     "output_type": "stream",
     "text": [
      "\n"
     ]
    }
   ],
   "source": [
    "X = []\n",
    "Y = []\n",
    "\n",
    "for img_id in tqdm_notebook(add_people_df['Id'].values):\n",
    "    temp = cv2.imread(img_id)\n",
    "    temp = temp.astype('float32')\n",
    "    temp = np.expand_dims(temp, axis=2)\n",
    "    X.append(temp)\n",
    "    Y.append(add_people_df[add_people_df['Id'] == img_id]['Labels'].values[0]) \n",
    "\n",
    "#normalize\n",
    "X = np.asarray(X)\n",
    "X = X.astype('float32')\n",
    "X /= 255\n",
    "Y = [[el] for el in Y]\n",
    "Y = np.asarray(Y)"
   ]
  },
  {
   "cell_type": "code",
   "execution_count": 24,
   "id": "premier-office",
   "metadata": {},
   "outputs": [],
   "source": [
    "# squeeze the dimensions\n",
    "X = np.squeeze(X, 3)"
   ]
  },
  {
   "cell_type": "code",
   "execution_count": 25,
   "id": "powerful-tumor",
   "metadata": {},
   "outputs": [],
   "source": [
    "# convert labels to dummy variables\n",
    "enc = OneHotEncoder(handle_unknown='ignore')\n",
    "enc.fit(Y)\n",
    "\n",
    "Y = enc.transform(Y).toarray()"
   ]
  },
  {
   "cell_type": "code",
   "execution_count": 26,
   "id": "dying-paintball",
   "metadata": {},
   "outputs": [
    {
     "data": {
      "text/plain": [
       "(15, 64, 64, 3)"
      ]
     },
     "execution_count": 26,
     "metadata": {},
     "output_type": "execute_result"
    }
   ],
   "source": [
    "X.shape"
   ]
  },
  {
   "cell_type": "code",
   "execution_count": 27,
   "id": "blessed-lecture",
   "metadata": {},
   "outputs": [
    {
     "data": {
      "text/plain": [
       "(15, 5)"
      ]
     },
     "execution_count": 27,
     "metadata": {},
     "output_type": "execute_result"
    }
   ],
   "source": [
    "Y.shape"
   ]
  },
  {
   "cell_type": "markdown",
   "id": "historical-evening",
   "metadata": {},
   "source": [
    "## Testing on additional dataset"
   ]
  },
  {
   "cell_type": "markdown",
   "id": "celtic-inside",
   "metadata": {},
   "source": [
    "Adagrad"
   ]
  },
  {
   "cell_type": "code",
   "execution_count": 28,
   "id": "immediate-money",
   "metadata": {},
   "outputs": [],
   "source": [
    "best_model1 = load_model('face_detect_LeNet_Adagrad.h5')"
   ]
  },
  {
   "cell_type": "code",
   "execution_count": 29,
   "id": "charitable-moscow",
   "metadata": {},
   "outputs": [
    {
     "name": "stdout",
     "output_type": "stream",
     "text": [
      "1/1 [==============================] - 0s 306ms/step - loss: 1.4115 - accuracy: 0.5333\n"
     ]
    },
    {
     "data": {
      "text/plain": [
       "[1.41146981716156, 0.5333333611488342]"
      ]
     },
     "execution_count": 29,
     "metadata": {},
     "output_type": "execute_result"
    }
   ],
   "source": [
    "# Score trained model.\n",
    "best_model1.evaluate(X, Y)"
   ]
  },
  {
   "cell_type": "code",
   "execution_count": 30,
   "id": "immediate-burton",
   "metadata": {},
   "outputs": [],
   "source": [
    "# make predictions.\n",
    "pred1 = best_model1.predict(X)"
   ]
  },
  {
   "cell_type": "markdown",
   "id": "rural-repository",
   "metadata": {},
   "source": [
    "SGD"
   ]
  },
  {
   "cell_type": "code",
   "execution_count": 31,
   "id": "induced-delta",
   "metadata": {},
   "outputs": [],
   "source": [
    "best_model2 = load_model('face_detect_LeNet_SGD.h5')"
   ]
  },
  {
   "cell_type": "code",
   "execution_count": 32,
   "id": "collaborative-scotland",
   "metadata": {},
   "outputs": [
    {
     "name": "stdout",
     "output_type": "stream",
     "text": [
      "1/1 [==============================] - 0s 166ms/step - loss: 1.6349 - accuracy: 0.4667\n"
     ]
    },
    {
     "data": {
      "text/plain": [
       "[1.6349314451217651, 0.46666666865348816]"
      ]
     },
     "execution_count": 32,
     "metadata": {},
     "output_type": "execute_result"
    }
   ],
   "source": [
    "# Score trained model.\n",
    "best_model2.evaluate(X, Y)"
   ]
  },
  {
   "cell_type": "code",
   "execution_count": 33,
   "id": "conceptual-corps",
   "metadata": {},
   "outputs": [],
   "source": [
    "# make predictions.\n",
    "pred2 = best_model2.predict(X)"
   ]
  },
  {
   "cell_type": "markdown",
   "id": "nasty-commission",
   "metadata": {},
   "source": [
    "## Confustion matrix"
   ]
  },
  {
   "cell_type": "code",
   "execution_count": 36,
   "id": "embedded-infrared",
   "metadata": {},
   "outputs": [],
   "source": [
    "def heatmap(data, row_labels, col_labels, ax=None, cbar_kw={}, cbarlabel=\"\", **kwargs):\n",
    "    \"\"\"\n",
    "    Create a heatmap from a numpy array and two lists of labels.\n",
    "    \"\"\"\n",
    "    # Plot the heatmap\n",
    "    im = ax.imshow(data, **kwargs)\n",
    "\n",
    "    # Create colorbar\n",
    "    cbar = ax.figure.colorbar(im, ax=ax, **cbar_kw)\n",
    "    cbar.ax.set_ylabel(cbarlabel, rotation=-90, va=\"bottom\")\n",
    "\n",
    "    # Let the horizontal axes labeling appear on top.\n",
    "    ax.tick_params(top=True, bottom=False, labeltop=True, labelbottom=False)\n",
    "    # Show all ticks\n",
    "    ax.set_xticks(np.arange(data.shape[1]))\n",
    "    ax.set_yticks(np.arange(data.shape[0]))\n",
    "    # Label ticks with the respective list entries.\n",
    "    ax.set_xticklabels(col_labels)\n",
    "    ax.set_yticklabels(row_labels)\n",
    "    \n",
    "    ax.set_xlabel('Predicted Label') \n",
    "    ax.set_ylabel('True Label')\n",
    "    \n",
    "    \n",
    "    return im, cbar\n",
    "\n",
    "def annotate_heatmap(im, data=None, fmt=\"d\", threshold=None):\n",
    "    \"\"\"\n",
    "    A function to annotate a heatmap.\n",
    "    \"\"\"\n",
    "    # Change the text's color depending on the data.\n",
    "    texts = []\n",
    "    for i in range(data.shape[0]):\n",
    "        for j in range(data.shape[1]):\n",
    "            text = im.axes.text(j, i, format(data[i, j], fmt), horizontalalignment=\"center\",\n",
    "                                 color=\"white\" if data[i, j] > thresh else \"black\")\n",
    "            texts.append(text)\n",
    "\n",
    "    return texts"
   ]
  },
  {
   "cell_type": "markdown",
   "id": "unknown-sleep",
   "metadata": {},
   "source": [
    "Adagrad"
   ]
  },
  {
   "cell_type": "code",
   "execution_count": 37,
   "id": "general-clearing",
   "metadata": {},
   "outputs": [
    {
     "data": {
      "image/png": "[encoded data removed]",
      "text/plain": [
       "<Figure size 864x864 with 2 Axes>"
      ]
     },
     "metadata": {
      "needs_background": "light"
     },
     "output_type": "display_data"
    }
   ],
   "source": [
    "labels = ['Ennie','Jimmy','Biden','Elizabeth II','Teresa']\n",
    "\n",
    "# Convert predictions classes to one hot vectors \n",
    "Y_pred_classes = np.argmax(pred1, axis=1) \n",
    "# Convert validation observations to one hot vectors\n",
    "Y_true = np.argmax(Y, axis=1)\n",
    "# Errors are difference between predicted labels and true labels\n",
    "errors = (Y_pred_classes - Y_true != 0)\n",
    "\n",
    "Y_pred_classes_errors = Y_pred_classes[errors]\n",
    "Y_pred_errors = pred1[errors]\n",
    "Y_true_errors = Y_true[errors]\n",
    "X_valid_errors = X[errors]\n",
    "\n",
    "cm = confusion_matrix(Y_true, Y_pred_classes) \n",
    "thresh = cm.max() / 2.\n",
    "\n",
    "fig, ax = plt.subplots(figsize=(12,12))\n",
    "im, cbar = heatmap(cm, labels, labels, ax=ax, cmap=plt.cm.Oranges, cbarlabel=\"count of predictions\")\n",
    "texts = annotate_heatmap(im, data=cm, threshold=thresh)\n",
    "\n",
    "fig.tight_layout()\n",
    "plt.show()"
   ]
  },
  {
   "cell_type": "markdown",
   "id": "automatic-dairy",
   "metadata": {},
   "source": [
    "SGD"
   ]
  },
  {
   "cell_type": "code",
   "execution_count": 38,
   "id": "sublime-angola",
   "metadata": {},
   "outputs": [
    {
     "data": {
      "image/png": "[encoded data removed]",
      "text/plain": [
       "<Figure size 864x864 with 2 Axes>"
      ]
     },
     "metadata": {
      "needs_background": "light"
     },
     "output_type": "display_data"
    }
   ],
   "source": [
    "labels = ['Ennie','Jimmy','Biden','Elizabeth II','Teresa']\n",
    "\n",
    "# Convert predictions classes to one hot vectors \n",
    "Y_pred_classes = np.argmax(pred2, axis=1) \n",
    "# Convert validation observations to one hot vectors\n",
    "Y_true = np.argmax(Y, axis=1)\n",
    "# Errors are difference between predicted labels and true labels\n",
    "errors = (Y_pred_classes - Y_true != 0)\n",
    "\n",
    "Y_pred_classes_errors = Y_pred_classes[errors]\n",
    "Y_pred_errors = pred2[errors]\n",
    "Y_true_errors = Y_true[errors]\n",
    "X_valid_errors = X[errors]\n",
    "\n",
    "cm = confusion_matrix(Y_true, Y_pred_classes) \n",
    "thresh = cm.max() / 2.\n",
    "\n",
    "fig, ax = plt.subplots(figsize=(12,12))\n",
    "im, cbar = heatmap(cm, labels, labels, ax=ax, cmap=plt.cm.Oranges, cbarlabel=\"count of predictions\")\n",
    "texts = annotate_heatmap(im, data=cm, threshold=thresh)\n",
    "\n",
    "fig.tight_layout()\n",
    "plt.show()"
   ]
  },
  {
   "cell_type": "code",
   "execution_count": null,
   "id": "piano-missile",
   "metadata": {},
   "outputs": [],
   "source": []
  },
  {
   "cell_type": "code",
   "execution_count": null,
   "id": "paperback-biodiversity",
   "metadata": {},
   "outputs": [],
   "source": []
  },
  {
   "cell_type": "code",
   "execution_count": null,
   "id": "reserved-first",
   "metadata": {},
   "outputs": [],
   "source": []
  }
 ],
 "metadata": {
  "kernelspec": {
   "display_name": "Python 3",
   "language": "python",
   "name": "python3"
  },
  "language_info": {
   "codemirror_mode": {
    "name": "ipython",
    "version": 3
   },
   "file_extension": ".py",
   "mimetype": "text/x-python",
   "name": "python",
   "nbconvert_exporter": "python",
   "pygments_lexer": "ipython3",
   "version": "3.6.4"
  }
 },
 "nbformat": 4,
 "nbformat_minor": 5
}
