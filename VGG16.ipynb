{
 "cells": [
  {
   "cell_type": "code",
   "execution_count": null,
   "id": "widespread-beatles",
   "metadata": {},
   "outputs": [],
   "source": [
    "!pip install ipynb"
   ]
  },
  {
   "cell_type": "code",
   "execution_count": 1,
   "id": "coastal-colon",
   "metadata": {},
   "outputs": [
    {
     "name": "stdout",
     "output_type": "stream",
     "text": [
      "                                  Id                      Old_Id  \\\n",
      "0  ./People_after1/Ennie/Ennie07.JPG  ./People/Ennie/Ennie07.JPG   \n",
      "1  ./People_after1/Ennie/Ennie06.JPG  ./People/Ennie/Ennie06.JPG   \n",
      "2  ./People_after1/Ennie/Ennie10.JPG  ./People/Ennie/Ennie10.JPG   \n",
      "3  ./People_after1/Ennie/Ennie04.JPG  ./People/Ennie/Ennie04.JPG   \n",
      "4  ./People_after1/Ennie/Ennie05.JPG  ./People/Ennie/Ennie05.JPG   \n",
      "\n",
      "      Folder_Name   Image_Name Person_Name  Labels  \n",
      "0  ./People/Ennie  Ennie07.JPG       Ennie       1  \n",
      "1  ./People/Ennie  Ennie06.JPG       Ennie       1  \n",
      "2  ./People/Ennie  Ennie10.JPG       Ennie       1  \n",
      "3  ./People/Ennie  Ennie04.JPG       Ennie       1  \n",
      "4  ./People/Ennie  Ennie05.JPG       Ennie       1   \n",
      "\n",
      "                                     Id                        Old_Id  \\\n",
      "45  ./People_after1/Teresa/Teresa02.JPG  ./People/Teresa/Teresa02.JPG   \n",
      "46  ./People_after1/Teresa/Teresa03.JPG  ./People/Teresa/Teresa03.JPG   \n",
      "47  ./People_after1/Teresa/Teresa01.JPG  ./People/Teresa/Teresa01.JPG   \n",
      "48  ./People_after1/Teresa/Teresa08.JPG  ./People/Teresa/Teresa08.JPG   \n",
      "49  ./People_after1/Teresa/Teresa09.JPG  ./People/Teresa/Teresa09.JPG   \n",
      "\n",
      "        Folder_Name    Image_Name Person_Name  Labels  \n",
      "45  ./People/Teresa  Teresa02.JPG      Teresa       5  \n",
      "46  ./People/Teresa  Teresa03.JPG      Teresa       5  \n",
      "47  ./People/Teresa  Teresa01.JPG      Teresa       5  \n",
      "48  ./People/Teresa  Teresa08.JPG      Teresa       5  \n",
      "49  ./People/Teresa  Teresa09.JPG      Teresa       5  \n"
     ]
    },
    {
     "data": {
      "application/vnd.jupyter.widget-view+json": {
       "model_id": "0378acaf30124ddba7149ab173118c44",
       "version_major": 2,
       "version_minor": 0
      },
      "text/plain": [
       "HBox(children=(FloatProgress(value=0.0, max=50.0), HTML(value='')))"
      ]
     },
     "metadata": {},
     "output_type": "display_data"
    },
    {
     "name": "stdout",
     "output_type": "stream",
     "text": [
      "\n"
     ]
    }
   ],
   "source": [
    "# import dataframe which stores information of the dataset\n",
    "from ipynb.fs.full.ImageProcessing_VGG import load_data"
   ]
  },
  {
   "cell_type": "code",
   "execution_count": 2,
   "id": "extensive-wagner",
   "metadata": {},
   "outputs": [],
   "source": [
    "#import used libraries\n",
    "import numpy as np\n",
    "import pandas as pd\n",
    "import seaborn as sns\n",
    "import matplotlib.pyplot as plt\n",
    "from sklearn.model_selection import train_test_split\n",
    "from keras.models import Sequential, load_model\n",
    "from sklearn.metrics import accuracy_score, confusion_matrix\n",
    "from sklearn.preprocessing import OneHotEncoder\n",
    "import keras\n",
    "from keras.callbacks import ModelCheckpoint, EarlyStopping\n",
    "import tensorflow as tf\n",
    "from keras.applications.vgg16 import VGG16\n",
    "from keras.models import Model\n",
    "from keras.preprocessing import image\n",
    "from keras.layers import Input, Lambda ,Dense ,Flatten, GlobalAveragePooling2D, MaxPooling2D, Conv2D, Dropout\n",
    "from tensorflow.keras.preprocessing.image import ImageDataGenerator"
   ]
  },
  {
   "cell_type": "code",
   "execution_count": 3,
   "id": "laughing-messenger",
   "metadata": {},
   "outputs": [],
   "source": [
    "X, Y = load_data()"
   ]
  },
  {
   "cell_type": "markdown",
   "id": "strange-carter",
   "metadata": {},
   "source": [
    "## Model Defining"
   ]
  },
  {
   "cell_type": "code",
   "execution_count": 4,
   "id": "specified-reduction",
   "metadata": {},
   "outputs": [
    {
     "name": "stdout",
     "output_type": "stream",
     "text": [
      "Model: \"vgg16\"\n",
      "_________________________________________________________________\n",
      "Layer (type)                 Output Shape              Param #   \n",
      "=================================================================\n",
      "input_1 (InputLayer)         [(None, 224, 224, 3)]     0         \n",
      "_________________________________________________________________\n",
      "block1_conv1 (Conv2D)        (None, 224, 224, 64)      1792      \n",
      "_________________________________________________________________\n",
      "block1_conv2 (Conv2D)        (None, 224, 224, 64)      36928     \n",
      "_________________________________________________________________\n",
      "block1_pool (MaxPooling2D)   (None, 112, 112, 64)      0         \n",
      "_________________________________________________________________\n",
      "block2_conv1 (Conv2D)        (None, 112, 112, 128)     73856     \n",
      "_________________________________________________________________\n",
      "block2_conv2 (Conv2D)        (None, 112, 112, 128)     147584    \n",
      "_________________________________________________________________\n",
      "block2_pool (MaxPooling2D)   (None, 56, 56, 128)       0         \n",
      "_________________________________________________________________\n",
      "block3_conv1 (Conv2D)        (None, 56, 56, 256)       295168    \n",
      "_________________________________________________________________\n",
      "block3_conv2 (Conv2D)        (None, 56, 56, 256)       590080    \n",
      "_________________________________________________________________\n",
      "block3_conv3 (Conv2D)        (None, 56, 56, 256)       590080    \n",
      "_________________________________________________________________\n",
      "block3_pool (MaxPooling2D)   (None, 28, 28, 256)       0         \n",
      "_________________________________________________________________\n",
      "block4_conv1 (Conv2D)        (None, 28, 28, 512)       1180160   \n",
      "_________________________________________________________________\n",
      "block4_conv2 (Conv2D)        (None, 28, 28, 512)       2359808   \n",
      "_________________________________________________________________\n",
      "block4_conv3 (Conv2D)        (None, 28, 28, 512)       2359808   \n",
      "_________________________________________________________________\n",
      "block4_pool (MaxPooling2D)   (None, 14, 14, 512)       0         \n",
      "_________________________________________________________________\n",
      "block5_conv1 (Conv2D)        (None, 14, 14, 512)       2359808   \n",
      "_________________________________________________________________\n",
      "block5_conv2 (Conv2D)        (None, 14, 14, 512)       2359808   \n",
      "_________________________________________________________________\n",
      "block5_conv3 (Conv2D)        (None, 14, 14, 512)       2359808   \n",
      "_________________________________________________________________\n",
      "block5_pool (MaxPooling2D)   (None, 7, 7, 512)         0         \n",
      "=================================================================\n",
      "Total params: 14,714,688\n",
      "Trainable params: 14,714,688\n",
      "Non-trainable params: 0\n",
      "_________________________________________________________________\n"
     ]
    }
   ],
   "source": [
    "#vgg 16 model\n",
    "vgg16 = VGG16(input_shape= (224,224,3),include_top=False,weights='imagenet')\n",
    "vgg16.summary()"
   ]
  },
  {
   "cell_type": "code",
   "execution_count": 5,
   "id": "logical-oklahoma",
   "metadata": {},
   "outputs": [],
   "source": [
    "#not train top layers\n",
    "for layer in vgg16.layers:\n",
    "    layer.trainable = False"
   ]
  },
  {
   "cell_type": "code",
   "execution_count": 6,
   "id": "quantitative-button",
   "metadata": {},
   "outputs": [],
   "source": [
    "#adding extra layers for our class/images\n",
    "main_model = vgg16.output\n",
    "main_model = GlobalAveragePooling2D()(main_model)\n",
    "main_model = Dense(1024,activation='relu')(main_model)\n",
    "main_model = Dense(512,activation='relu')(main_model)\n",
    "main_model = Dense(5,activation='softmax')(main_model)"
   ]
  },
  {
   "cell_type": "code",
   "execution_count": 7,
   "id": "painted-launch",
   "metadata": {
    "scrolled": false
   },
   "outputs": [
    {
     "name": "stdout",
     "output_type": "stream",
     "text": [
      "Model: \"model\"\n",
      "_________________________________________________________________\n",
      "Layer (type)                 Output Shape              Param #   \n",
      "=================================================================\n",
      "input_1 (InputLayer)         [(None, 224, 224, 3)]     0         \n",
      "_________________________________________________________________\n",
      "block1_conv1 (Conv2D)        (None, 224, 224, 64)      1792      \n",
      "_________________________________________________________________\n",
      "block1_conv2 (Conv2D)        (None, 224, 224, 64)      36928     \n",
      "_________________________________________________________________\n",
      "block1_pool (MaxPooling2D)   (None, 112, 112, 64)      0         \n",
      "_________________________________________________________________\n",
      "block2_conv1 (Conv2D)        (None, 112, 112, 128)     73856     \n",
      "_________________________________________________________________\n",
      "block2_conv2 (Conv2D)        (None, 112, 112, 128)     147584    \n",
      "_________________________________________________________________\n",
      "block2_pool (MaxPooling2D)   (None, 56, 56, 128)       0         \n",
      "_________________________________________________________________\n",
      "block3_conv1 (Conv2D)        (None, 56, 56, 256)       295168    \n",
      "_________________________________________________________________\n",
      "block3_conv2 (Conv2D)        (None, 56, 56, 256)       590080    \n",
      "_________________________________________________________________\n",
      "block3_conv3 (Conv2D)        (None, 56, 56, 256)       590080    \n",
      "_________________________________________________________________\n",
      "block3_pool (MaxPooling2D)   (None, 28, 28, 256)       0         \n",
      "_________________________________________________________________\n",
      "block4_conv1 (Conv2D)        (None, 28, 28, 512)       1180160   \n",
      "_________________________________________________________________\n",
      "block4_conv2 (Conv2D)        (None, 28, 28, 512)       2359808   \n",
      "_________________________________________________________________\n",
      "block4_conv3 (Conv2D)        (None, 28, 28, 512)       2359808   \n",
      "_________________________________________________________________\n",
      "block4_pool (MaxPooling2D)   (None, 14, 14, 512)       0         \n",
      "_________________________________________________________________\n",
      "block5_conv1 (Conv2D)        (None, 14, 14, 512)       2359808   \n",
      "_________________________________________________________________\n",
      "block5_conv2 (Conv2D)        (None, 14, 14, 512)       2359808   \n",
      "_________________________________________________________________\n",
      "block5_conv3 (Conv2D)        (None, 14, 14, 512)       2359808   \n",
      "_________________________________________________________________\n",
      "block5_pool (MaxPooling2D)   (None, 7, 7, 512)         0         \n",
      "_________________________________________________________________\n",
      "global_average_pooling2d (Gl (None, 512)               0         \n",
      "_________________________________________________________________\n",
      "dense (Dense)                (None, 1024)              525312    \n",
      "_________________________________________________________________\n",
      "dense_1 (Dense)              (None, 512)               524800    \n",
      "_________________________________________________________________\n",
      "dense_2 (Dense)              (None, 5)                 2565      \n",
      "=================================================================\n",
      "Total params: 15,767,365\n",
      "Trainable params: 1,052,677\n",
      "Non-trainable params: 14,714,688\n",
      "_________________________________________________________________\n"
     ]
    }
   ],
   "source": [
    "model = Model(inputs = vgg16.input , outputs = main_model)\n",
    "model.summary()"
   ]
  },
  {
   "cell_type": "code",
   "execution_count": 8,
   "id": "tutorial-headset",
   "metadata": {},
   "outputs": [],
   "source": [
    "early_stopping = EarlyStopping(monitor='val_loss', patience=5, restore_best_weights=True)"
   ]
  },
  {
   "cell_type": "markdown",
   "id": "skilled-pierre",
   "metadata": {},
   "source": [
    "## Image Augmentation"
   ]
  },
  {
   "cell_type": "code",
   "execution_count": 9,
   "id": "personal-oregon",
   "metadata": {},
   "outputs": [],
   "source": [
    "X_train, X_valid, Y_train, Y_valid = train_test_split(X, Y, test_size=0.1, random_state = 5)\n",
    "X_train, X_test, Y_train, Y_test = train_test_split(X_train, Y_train, test_size=0.2, random_state = 5)"
   ]
  },
  {
   "cell_type": "code",
   "execution_count": null,
   "id": "mounted-movie",
   "metadata": {},
   "outputs": [],
   "source": [
    "# def image_augmentation(x_train, x_valid, y_train, y_valid):\n",
    "#     # define data preparation\n",
    "#     train_datagen = ImageDataGenerator(rescale=1./255,\n",
    "#                                        rotation_range=15,\n",
    "#                                        width_shift_range=0.1,\n",
    "#                                        height_shift_range=0.1,\n",
    "#                                        shear_range=0.2,\n",
    "#                                        zoom_range=0.2,\n",
    "#                                        horizontal_flip=True,\n",
    "#                                        fill_mode='nearest')\n",
    "    \n",
    "#     test_datagen = ImageDataGenerator(rescale=1. / 255)\n",
    "    \n",
    "#     training_set= train_datagen.flow(x_train, y_train, batch_size=1)\n",
    "#     test_set= test_datagen.flow(x_valid, y_valid, batch_size=1)\n",
    "#     return training_set, test_set"
   ]
  },
  {
   "cell_type": "code",
   "execution_count": null,
   "id": "cubic-authority",
   "metadata": {},
   "outputs": [],
   "source": [
    "# training_set, valid_set = image_augmentation(X_train, X_valid, Y_train, Y_valid)"
   ]
  },
  {
   "cell_type": "markdown",
   "id": "renewable-garbage",
   "metadata": {},
   "source": [
    "## Model Compiling with different optimizers"
   ]
  },
  {
   "cell_type": "markdown",
   "id": "chemical-quarter",
   "metadata": {},
   "source": [
    "Stochastic Gradient Descent"
   ]
  },
  {
   "cell_type": "code",
   "execution_count": 10,
   "id": "indie-malta",
   "metadata": {},
   "outputs": [],
   "source": [
    "VGG16_SGD = Model(inputs = vgg16.input , outputs = main_model)"
   ]
  },
  {
   "cell_type": "code",
   "execution_count": 11,
   "id": "front-nature",
   "metadata": {},
   "outputs": [],
   "source": [
    "opt_SGD = keras.optimizers.SGD(lr=0.01)  \n",
    "VGG16_SGD.compile(loss=\"categorical_crossentropy\", optimizer=opt_SGD, metrics=[\"accuracy\"]) "
   ]
  },
  {
   "cell_type": "code",
   "execution_count": 12,
   "id": "secondary-missile",
   "metadata": {},
   "outputs": [],
   "source": [
    "VGG16_SGD_model_checkpoint = ModelCheckpoint('face_detect_VGG16_SGD.h5', verbose=1, save_best_only=True)"
   ]
  },
  {
   "cell_type": "markdown",
   "id": "derived-fundamentals",
   "metadata": {},
   "source": [
    "Adam"
   ]
  },
  {
   "cell_type": "code",
   "execution_count": 15,
   "id": "central-layout",
   "metadata": {},
   "outputs": [],
   "source": [
    "VGG16_Adam = Model(inputs = vgg16.input , outputs = main_model)"
   ]
  },
  {
   "cell_type": "code",
   "execution_count": 16,
   "id": "greater-tattoo",
   "metadata": {},
   "outputs": [],
   "source": [
    "opt_Adam = keras.optimizers.Adam(lr=0.01)\n",
    "VGG16_Adam.compile(loss=\"categorical_crossentropy\", optimizer=opt_Adam, metrics=[\"accuracy\"]) "
   ]
  },
  {
   "cell_type": "code",
   "execution_count": 17,
   "id": "cultural-employee",
   "metadata": {},
   "outputs": [],
   "source": [
    "VGG16_Adam_model_checkpoint = ModelCheckpoint('face_detect_VGG16_Adam.h5', verbose=1, save_best_only=True)"
   ]
  },
  {
   "cell_type": "markdown",
   "id": "small-young",
   "metadata": {},
   "source": [
    "Adagrad"
   ]
  },
  {
   "cell_type": "code",
   "execution_count": 18,
   "id": "central-while",
   "metadata": {},
   "outputs": [],
   "source": [
    "VGG16_Adagrad = Model(inputs = vgg16.input , outputs = main_model)"
   ]
  },
  {
   "cell_type": "code",
   "execution_count": 19,
   "id": "certified-delight",
   "metadata": {},
   "outputs": [],
   "source": [
    "opt_Adagrad = keras.optimizers.Adagrad(lr=0.01)\n",
    "VGG16_Adagrad.compile(loss=\"categorical_crossentropy\", optimizer=opt_Adagrad, metrics=[\"accuracy\"]) "
   ]
  },
  {
   "cell_type": "code",
   "execution_count": 20,
   "id": "centered-chassis",
   "metadata": {},
   "outputs": [],
   "source": [
    "VGG16_Adagrad_model_checkpoint = ModelCheckpoint('face_detect_VGG16_Adagrad.h5', verbose=1, save_best_only=True)"
   ]
  },
  {
   "cell_type": "markdown",
   "id": "spiritual-matter",
   "metadata": {},
   "source": [
    "Adadelta"
   ]
  },
  {
   "cell_type": "code",
   "execution_count": 21,
   "id": "approved-question",
   "metadata": {},
   "outputs": [],
   "source": [
    "VGG16_Adadelta = Model(inputs = vgg16.input , outputs = main_model)"
   ]
  },
  {
   "cell_type": "code",
   "execution_count": 22,
   "id": "blond-color",
   "metadata": {},
   "outputs": [],
   "source": [
    "opt_Adadelta = keras.optimizers.Adadelta(lr=0.01)\n",
    "VGG16_Adadelta.compile(loss=\"categorical_crossentropy\", optimizer=opt_Adadelta, metrics=[\"accuracy\"]) "
   ]
  },
  {
   "cell_type": "code",
   "execution_count": 23,
   "id": "precious-breed",
   "metadata": {},
   "outputs": [],
   "source": [
    "VGG16_Adadelta_model_checkpoint = ModelCheckpoint('face_detect_VGG16_Adadelta.h5', verbose=1, save_best_only=True)"
   ]
  },
  {
   "cell_type": "markdown",
   "id": "interior-lodging",
   "metadata": {},
   "source": [
    "RMSProp"
   ]
  },
  {
   "cell_type": "code",
   "execution_count": 24,
   "id": "phantom-battlefield",
   "metadata": {},
   "outputs": [],
   "source": [
    "VGG16_RMSProp = Model(inputs = vgg16.input , outputs = main_model)"
   ]
  },
  {
   "cell_type": "code",
   "execution_count": 25,
   "id": "wound-christopher",
   "metadata": {},
   "outputs": [],
   "source": [
    "opt_RMSProp = keras.optimizers.RMSprop(learning_rate=0.01, decay=1e-6)\n",
    "VGG16_RMSProp.compile(loss=\"categorical_crossentropy\", optimizer=opt_RMSProp, metrics=[\"accuracy\"]) "
   ]
  },
  {
   "cell_type": "code",
   "execution_count": 67,
   "id": "elect-portugal",
   "metadata": {},
   "outputs": [],
   "source": [
    "VGG16_RMSProp_model_checkpoint = ModelCheckpoint('face_detect_VGG16_RMSProp.h5', verbose=1, save_best_only=True)"
   ]
  },
  {
   "cell_type": "markdown",
   "id": "alternative-location",
   "metadata": {},
   "source": [
    "## Model Training"
   ]
  },
  {
   "cell_type": "code",
   "execution_count": 13,
   "id": "complicated-bulletin",
   "metadata": {},
   "outputs": [],
   "source": [
    "epochs=50\n",
    "batch_size = 1"
   ]
  },
  {
   "cell_type": "markdown",
   "id": "valid-invalid",
   "metadata": {},
   "source": [
    "Stochastic Gradient Descent"
   ]
  },
  {
   "cell_type": "code",
   "execution_count": 14,
   "id": "engaging-great",
   "metadata": {},
   "outputs": [
    {
     "name": "stdout",
     "output_type": "stream",
     "text": [
      "Epoch 1/50\n",
      "36/36 [==============================] - 14s 363ms/step - loss: 1.8908 - accuracy: 0.3108 - val_loss: 1.5426 - val_accuracy: 0.2000\n",
      "\n",
      "Epoch 00001: val_loss improved from inf to 1.54256, saving model to face_detect_VGG16_SGD.h5\n",
      "Epoch 2/50\n",
      "36/36 [==============================] - 12s 341ms/step - loss: 1.7039 - accuracy: 0.1176 - val_loss: 1.7539 - val_accuracy: 0.0000e+00\n",
      "\n",
      "Epoch 00002: val_loss did not improve from 1.54256\n",
      "Epoch 3/50\n",
      "36/36 [==============================] - 12s 322ms/step - loss: 1.5649 - accuracy: 0.3572 - val_loss: 1.7455 - val_accuracy: 0.2000\n",
      "\n",
      "Epoch 00003: val_loss did not improve from 1.54256\n",
      "Epoch 4/50\n",
      "36/36 [==============================] - 12s 322ms/step - loss: 1.6066 - accuracy: 0.3119 - val_loss: 1.7264 - val_accuracy: 0.2000\n",
      "\n",
      "Epoch 00004: val_loss did not improve from 1.54256\n",
      "Epoch 5/50\n",
      "36/36 [==============================] - 11s 313ms/step - loss: 1.4337 - accuracy: 0.2201 - val_loss: 1.7882 - val_accuracy: 0.0000e+00\n",
      "\n",
      "Epoch 00005: val_loss did not improve from 1.54256\n",
      "Epoch 6/50\n",
      "36/36 [==============================] - 10s 273ms/step - loss: 1.5832 - accuracy: 0.3056 - val_loss: 1.6347 - val_accuracy: 0.0000e+00\n",
      "\n",
      "Epoch 00006: val_loss did not improve from 1.54256\n",
      "Epoch 7/50\n",
      "36/36 [==============================] - 10s 277ms/step - loss: 1.4140 - accuracy: 0.4600 - val_loss: 1.5814 - val_accuracy: 0.2000\n",
      "\n",
      "Epoch 00007: val_loss did not improve from 1.54256\n",
      "Epoch 8/50\n",
      "36/36 [==============================] - 11s 308ms/step - loss: 1.4002 - accuracy: 0.5229 - val_loss: 1.8643 - val_accuracy: 0.2000\n",
      "\n",
      "Epoch 00008: val_loss did not improve from 1.54256\n",
      "Epoch 9/50\n",
      "36/36 [==============================] - 11s 318ms/step - loss: 1.3828 - accuracy: 0.2839 - val_loss: 1.7801 - val_accuracy: 0.0000e+00\n",
      "\n",
      "Epoch 00009: val_loss did not improve from 1.54256\n",
      "Epoch 10/50\n",
      "36/36 [==============================] - 10s 289ms/step - loss: 1.3336 - accuracy: 0.4286 - val_loss: 1.7111 - val_accuracy: 0.2000\n",
      "\n",
      "Epoch 00010: val_loss did not improve from 1.54256\n",
      "Epoch 11/50\n",
      "36/36 [==============================] - 11s 296ms/step - loss: 1.4019 - accuracy: 0.4441 - val_loss: 2.1179 - val_accuracy: 0.2000\n",
      "\n",
      "Epoch 00011: val_loss did not improve from 1.54256\n",
      "Epoch 12/50\n",
      "36/36 [==============================] - 10s 291ms/step - loss: 1.1839 - accuracy: 0.5212 - val_loss: 1.4770 - val_accuracy: 0.6000\n",
      "\n",
      "Epoch 00012: val_loss improved from 1.54256 to 1.47705, saving model to face_detect_VGG16_SGD.h5\n",
      "Epoch 13/50\n",
      "36/36 [==============================] - 10s 291ms/step - loss: 1.1963 - accuracy: 0.5115 - val_loss: 1.5286 - val_accuracy: 0.2000\n",
      "\n",
      "Epoch 00013: val_loss did not improve from 1.47705\n",
      "Epoch 14/50\n",
      "36/36 [==============================] - 11s 315ms/step - loss: 1.3086 - accuracy: 0.2628 - val_loss: 1.8442 - val_accuracy: 0.2000\n",
      "\n",
      "Epoch 00014: val_loss did not improve from 1.47705\n",
      "Epoch 15/50\n",
      "36/36 [==============================] - 11s 300ms/step - loss: 1.2562 - accuracy: 0.5284 - val_loss: 1.5982 - val_accuracy: 0.2000\n",
      "\n",
      "Epoch 00015: val_loss did not improve from 1.47705\n",
      "Epoch 16/50\n",
      "36/36 [==============================] - 12s 323ms/step - loss: 1.1543 - accuracy: 0.4989 - val_loss: 1.6021 - val_accuracy: 0.2000\n",
      "\n",
      "Epoch 00016: val_loss did not improve from 1.47705\n",
      "Epoch 17/50\n",
      "36/36 [==============================] - 13s 357ms/step - loss: 1.0816 - accuracy: 0.6612 - val_loss: 1.7776 - val_accuracy: 0.2000\n",
      "\n",
      "Epoch 00017: val_loss did not improve from 1.47705\n",
      "Epoch 18/50\n",
      "36/36 [==============================] - 12s 330ms/step - loss: 1.1949 - accuracy: 0.5279 - val_loss: 2.1534 - val_accuracy: 0.0000e+00\n",
      "\n",
      "Epoch 00018: val_loss did not improve from 1.47705\n",
      "Epoch 19/50\n",
      "36/36 [==============================] - 12s 318ms/step - loss: 1.1702 - accuracy: 0.5020 - val_loss: 1.3416 - val_accuracy: 0.4000\n",
      "\n",
      "Epoch 00019: val_loss improved from 1.47705 to 1.34156, saving model to face_detect_VGG16_SGD.h5\n",
      "Epoch 20/50\n",
      "36/36 [==============================] - 11s 304ms/step - loss: 1.0425 - accuracy: 0.6229 - val_loss: 2.1922 - val_accuracy: 0.2000\n",
      "\n",
      "Epoch 00020: val_loss did not improve from 1.34156\n",
      "Epoch 21/50\n",
      "36/36 [==============================] - 11s 312ms/step - loss: 1.0011 - accuracy: 0.5292 - val_loss: 1.8780 - val_accuracy: 0.0000e+00\n",
      "\n",
      "Epoch 00021: val_loss did not improve from 1.34156\n",
      "Epoch 22/50\n",
      "36/36 [==============================] - 11s 312ms/step - loss: 1.1722 - accuracy: 0.5152 - val_loss: 1.6663 - val_accuracy: 0.0000e+00\n",
      "\n",
      "Epoch 00022: val_loss did not improve from 1.34156\n",
      "Epoch 23/50\n",
      "36/36 [==============================] - 12s 348ms/step - loss: 0.8882 - accuracy: 0.7460 - val_loss: 2.4589 - val_accuracy: 0.2000\n",
      "\n",
      "Epoch 00023: val_loss did not improve from 1.34156\n",
      "Epoch 24/50\n",
      "36/36 [==============================] - 12s 337ms/step - loss: 1.0069 - accuracy: 0.6164 - val_loss: 1.6731 - val_accuracy: 0.2000\n",
      "\n",
      "Epoch 00024: val_loss did not improve from 1.34156\n",
      "Epoch 25/50\n",
      "36/36 [==============================] - 11s 314ms/step - loss: 0.7510 - accuracy: 0.8099 - val_loss: 1.5982 - val_accuracy: 0.6000\n",
      "\n",
      "Epoch 00025: val_loss did not improve from 1.34156\n",
      "Epoch 26/50\n",
      "36/36 [==============================] - 11s 301ms/step - loss: 0.9602 - accuracy: 0.6079 - val_loss: 1.7292 - val_accuracy: 0.0000e+00\n",
      "\n",
      "Epoch 00026: val_loss did not improve from 1.34156\n",
      "Epoch 27/50\n",
      "36/36 [==============================] - 11s 321ms/step - loss: 1.1924 - accuracy: 0.4488 - val_loss: 1.7259 - val_accuracy: 0.4000\n",
      "\n",
      "Epoch 00027: val_loss did not improve from 1.34156\n",
      "Epoch 28/50\n",
      "36/36 [==============================] - 13s 344ms/step - loss: 0.8989 - accuracy: 0.5628 - val_loss: 1.5134 - val_accuracy: 0.6000\n",
      "\n",
      "Epoch 00028: val_loss did not improve from 1.34156\n",
      "Epoch 29/50\n",
      "36/36 [==============================] - 11s 301ms/step - loss: 0.9723 - accuracy: 0.6449 - val_loss: 1.5034 - val_accuracy: 0.4000\n",
      "\n",
      "Epoch 00029: val_loss did not improve from 1.34156\n",
      "Epoch 30/50\n",
      "36/36 [==============================] - 12s 335ms/step - loss: 0.5853 - accuracy: 0.9123 - val_loss: 2.9223 - val_accuracy: 0.2000\n",
      "\n",
      "Epoch 00030: val_loss did not improve from 1.34156\n",
      "Epoch 31/50\n",
      "36/36 [==============================] - 11s 320ms/step - loss: 0.8064 - accuracy: 0.6174 - val_loss: 1.9188 - val_accuracy: 0.4000\n",
      "\n",
      "Epoch 00031: val_loss did not improve from 1.34156\n",
      "Epoch 32/50\n",
      "36/36 [==============================] - 13s 353ms/step - loss: 0.7259 - accuracy: 0.6673 - val_loss: 2.2588 - val_accuracy: 0.2000\n",
      "\n",
      "Epoch 00032: val_loss did not improve from 1.34156\n",
      "Epoch 33/50\n",
      "36/36 [==============================] - 11s 302ms/step - loss: 0.9606 - accuracy: 0.5899 - val_loss: 1.7547 - val_accuracy: 0.4000\n",
      "\n",
      "Epoch 00033: val_loss did not improve from 1.34156\n",
      "Epoch 34/50\n",
      "36/36 [==============================] - 11s 299ms/step - loss: 0.9119 - accuracy: 0.5499 - val_loss: 1.9888 - val_accuracy: 0.4000\n",
      "\n",
      "Epoch 00034: val_loss did not improve from 1.34156\n",
      "Epoch 35/50\n",
      "36/36 [==============================] - 10s 279ms/step - loss: 0.8957 - accuracy: 0.5988 - val_loss: 1.9684 - val_accuracy: 0.0000e+00\n",
      "\n",
      "Epoch 00035: val_loss did not improve from 1.34156\n",
      "Epoch 36/50\n",
      "36/36 [==============================] - 11s 296ms/step - loss: 0.6854 - accuracy: 0.7811 - val_loss: 2.0258 - val_accuracy: 0.0000e+00\n",
      "\n",
      "Epoch 00036: val_loss did not improve from 1.34156\n",
      "Epoch 37/50\n",
      "36/36 [==============================] - 10s 288ms/step - loss: 0.7735 - accuracy: 0.7035 - val_loss: 1.5421 - val_accuracy: 0.2000\n",
      "\n",
      "Epoch 00037: val_loss did not improve from 1.34156\n",
      "Epoch 38/50\n",
      "36/36 [==============================] - 11s 296ms/step - loss: 0.8268 - accuracy: 0.5511 - val_loss: 2.0568 - val_accuracy: 0.4000\n",
      "\n",
      "Epoch 00038: val_loss did not improve from 1.34156\n",
      "Epoch 39/50\n",
      "36/36 [==============================] - 10s 278ms/step - loss: 0.8507 - accuracy: 0.7013 - val_loss: 1.4716 - val_accuracy: 0.6000\n",
      "\n",
      "Epoch 00039: val_loss did not improve from 1.34156\n",
      "Epoch 40/50\n",
      "36/36 [==============================] - 11s 293ms/step - loss: 0.8080 - accuracy: 0.6327 - val_loss: 2.0984 - val_accuracy: 0.4000\n",
      "\n",
      "Epoch 00040: val_loss did not improve from 1.34156\n",
      "Epoch 41/50\n",
      "36/36 [==============================] - 10s 285ms/step - loss: 0.7683 - accuracy: 0.7170 - val_loss: 1.8505 - val_accuracy: 0.6000\n",
      "\n",
      "Epoch 00041: val_loss did not improve from 1.34156\n",
      "Epoch 42/50\n"
     ]
    },
    {
     "name": "stdout",
     "output_type": "stream",
     "text": [
      "36/36 [==============================] - 10s 291ms/step - loss: 0.5643 - accuracy: 0.8091 - val_loss: 1.6736 - val_accuracy: 0.4000\n",
      "\n",
      "Epoch 00042: val_loss did not improve from 1.34156\n",
      "Epoch 43/50\n",
      "36/36 [==============================] - 10s 290ms/step - loss: 0.7852 - accuracy: 0.6773 - val_loss: 3.0358 - val_accuracy: 0.2000\n",
      "\n",
      "Epoch 00043: val_loss did not improve from 1.34156\n",
      "Epoch 44/50\n",
      "36/36 [==============================] - 11s 309ms/step - loss: 0.4405 - accuracy: 0.8996 - val_loss: 1.7391 - val_accuracy: 0.2000\n",
      "\n",
      "Epoch 00044: val_loss did not improve from 1.34156\n",
      "Epoch 45/50\n",
      "36/36 [==============================] - 10s 286ms/step - loss: 0.3995 - accuracy: 0.9400 - val_loss: 2.0288 - val_accuracy: 0.0000e+00\n",
      "\n",
      "Epoch 00045: val_loss did not improve from 1.34156\n",
      "Epoch 46/50\n",
      "36/36 [==============================] - 10s 293ms/step - loss: 0.5390 - accuracy: 0.7470 - val_loss: 3.3898 - val_accuracy: 0.4000\n",
      "\n",
      "Epoch 00046: val_loss did not improve from 1.34156\n",
      "Epoch 47/50\n",
      "36/36 [==============================] - 10s 284ms/step - loss: 0.8212 - accuracy: 0.6047 - val_loss: 2.4142 - val_accuracy: 0.2000\n",
      "\n",
      "Epoch 00047: val_loss did not improve from 1.34156\n",
      "Epoch 48/50\n",
      "36/36 [==============================] - 11s 303ms/step - loss: 0.5704 - accuracy: 0.6787 - val_loss: 1.5516 - val_accuracy: 0.0000e+00\n",
      "\n",
      "Epoch 00048: val_loss did not improve from 1.34156\n",
      "Epoch 49/50\n",
      "36/36 [==============================] - 10s 279ms/step - loss: 0.4376 - accuracy: 0.9056 - val_loss: 1.5642 - val_accuracy: 0.6000\n",
      "\n",
      "Epoch 00049: val_loss did not improve from 1.34156\n",
      "Epoch 50/50\n",
      "36/36 [==============================] - 10s 271ms/step - loss: 0.3668 - accuracy: 0.9308 - val_loss: 2.6765 - val_accuracy: 0.4000\n",
      "\n",
      "Epoch 00050: val_loss did not improve from 1.34156\n"
     ]
    }
   ],
   "source": [
    "#fit the model\n",
    "history_SGD = None\n",
    "history_SGD = VGG16_SGD.fit(X_train, Y_train,\n",
    "                            batch_size = batch_size,\n",
    "                            epochs = epochs,\n",
    "                            callbacks=[VGG16_SGD_model_checkpoint],\n",
    "                            validation_data=(X_valid, Y_valid))"
   ]
  },
  {
   "cell_type": "markdown",
   "id": "norwegian-drawing",
   "metadata": {},
   "source": [
    "Adam"
   ]
  },
  {
   "cell_type": "code",
   "execution_count": 27,
   "id": "instructional-period",
   "metadata": {},
   "outputs": [
    {
     "name": "stdout",
     "output_type": "stream",
     "text": [
      "Epoch 1/50\n",
      "36/36 [==============================] - 13s 353ms/step - loss: 0.5203 - accuracy: 0.8333 - val_loss: 2.6409 - val_accuracy: 0.0000e+00\n",
      "\n",
      "Epoch 00001: val_loss improved from inf to 2.64086, saving model to face_detect_VGG16_Adam.h5\n",
      "Epoch 2/50\n",
      "36/36 [==============================] - 11s 307ms/step - loss: 0.4772 - accuracy: 0.8056 - val_loss: 2.2933 - val_accuracy: 0.4000\n",
      "\n",
      "Epoch 00002: val_loss improved from 2.64086 to 2.29332, saving model to face_detect_VGG16_Adam.h5\n",
      "Epoch 3/50\n",
      "36/36 [==============================] - 13s 376ms/step - loss: 0.6521 - accuracy: 0.7500 - val_loss: 2.0173 - val_accuracy: 0.2000\n",
      "\n",
      "Epoch 00003: val_loss improved from 2.29332 to 2.01729, saving model to face_detect_VGG16_Adam.h5\n",
      "Epoch 4/50\n",
      "36/36 [==============================] - 11s 317ms/step - loss: 0.4709 - accuracy: 0.7500 - val_loss: 1.7444 - val_accuracy: 0.0000e+00\n",
      "\n",
      "Epoch 00004: val_loss improved from 2.01729 to 1.74441, saving model to face_detect_VGG16_Adam.h5\n",
      "Epoch 5/50\n",
      "36/36 [==============================] - 10s 278ms/step - loss: 0.5147 - accuracy: 0.7778 - val_loss: 2.0585 - val_accuracy: 0.2000\n",
      "\n",
      "Epoch 00005: val_loss did not improve from 1.74441\n",
      "Epoch 6/50\n",
      "36/36 [==============================] - 10s 274ms/step - loss: 0.7071 - accuracy: 0.6111 - val_loss: 1.6044 - val_accuracy: 0.6000\n",
      "\n",
      "Epoch 00006: val_loss improved from 1.74441 to 1.60442, saving model to face_detect_VGG16_Adam.h5\n",
      "Epoch 7/50\n",
      "36/36 [==============================] - 10s 289ms/step - loss: 0.5236 - accuracy: 0.8056 - val_loss: 2.1930 - val_accuracy: 0.6000\n",
      "\n",
      "Epoch 00007: val_loss did not improve from 1.60442\n",
      "Epoch 8/50\n",
      "36/36 [==============================] - 11s 312ms/step - loss: 0.7108 - accuracy: 0.6667 - val_loss: 1.8899 - val_accuracy: 0.6000\n",
      "\n",
      "Epoch 00008: val_loss did not improve from 1.60442\n",
      "Epoch 9/50\n",
      "36/36 [==============================] - 11s 320ms/step - loss: 0.6034 - accuracy: 0.7222 - val_loss: 1.4418 - val_accuracy: 0.4000\n",
      "\n",
      "Epoch 00009: val_loss improved from 1.60442 to 1.44182, saving model to face_detect_VGG16_Adam.h5\n",
      "Epoch 10/50\n",
      "36/36 [==============================] - 12s 328ms/step - loss: 0.4278 - accuracy: 0.8889 - val_loss: 3.0081 - val_accuracy: 0.2000\n",
      "\n",
      "Epoch 00010: val_loss did not improve from 1.44182\n",
      "Epoch 11/50\n",
      "36/36 [==============================] - 13s 377ms/step - loss: 0.8379 - accuracy: 0.6389 - val_loss: 2.5157 - val_accuracy: 0.2000\n",
      "\n",
      "Epoch 00011: val_loss did not improve from 1.44182\n",
      "Epoch 12/50\n",
      "36/36 [==============================] - 12s 322ms/step - loss: 0.3712 - accuracy: 0.8333 - val_loss: 1.6091 - val_accuracy: 0.6000\n",
      "\n",
      "Epoch 00012: val_loss did not improve from 1.44182\n",
      "Epoch 13/50\n",
      "36/36 [==============================] - 11s 307ms/step - loss: 0.3709 - accuracy: 0.8889 - val_loss: 1.9400 - val_accuracy: 0.2000\n",
      "\n",
      "Epoch 00013: val_loss did not improve from 1.44182\n",
      "Epoch 14/50\n",
      "36/36 [==============================] - 11s 299ms/step - loss: 0.5380 - accuracy: 0.7222 - val_loss: 1.7411 - val_accuracy: 0.4000\n",
      "\n",
      "Epoch 00014: val_loss did not improve from 1.44182\n",
      "Epoch 15/50\n",
      "36/36 [==============================] - 11s 304ms/step - loss: 0.5987 - accuracy: 0.7778 - val_loss: 1.6559 - val_accuracy: 0.6000\n",
      "\n",
      "Epoch 00015: val_loss did not improve from 1.44182\n",
      "Epoch 16/50\n",
      "36/36 [==============================] - 10s 289ms/step - loss: 0.5331 - accuracy: 0.8056 - val_loss: 2.5034 - val_accuracy: 0.2000\n",
      "\n",
      "Epoch 00016: val_loss did not improve from 1.44182\n",
      "Epoch 17/50\n",
      "36/36 [==============================] - 11s 304ms/step - loss: 0.4174 - accuracy: 0.7778 - val_loss: 1.6235 - val_accuracy: 0.4000\n",
      "\n",
      "Epoch 00017: val_loss did not improve from 1.44182\n",
      "Epoch 18/50\n",
      "36/36 [==============================] - 10s 289ms/step - loss: 0.2773 - accuracy: 0.9167 - val_loss: 2.6591 - val_accuracy: 0.2000\n",
      "\n",
      "Epoch 00018: val_loss did not improve from 1.44182\n",
      "Epoch 19/50\n",
      "36/36 [==============================] - 11s 312ms/step - loss: 0.4886 - accuracy: 0.8056 - val_loss: 1.9095 - val_accuracy: 0.6000\n",
      "\n",
      "Epoch 00019: val_loss did not improve from 1.44182\n",
      "Epoch 20/50\n",
      "36/36 [==============================] - 10s 286ms/step - loss: 0.2716 - accuracy: 0.8611 - val_loss: 1.7520 - val_accuracy: 0.6000\n",
      "\n",
      "Epoch 00020: val_loss did not improve from 1.44182\n",
      "Epoch 21/50\n",
      "36/36 [==============================] - 10s 289ms/step - loss: 0.5240 - accuracy: 0.7778 - val_loss: 2.3332 - val_accuracy: 0.2000\n",
      "\n",
      "Epoch 00021: val_loss did not improve from 1.44182\n",
      "Epoch 22/50\n",
      "36/36 [==============================] - 10s 273ms/step - loss: 0.2906 - accuracy: 0.9167 - val_loss: 2.4815 - val_accuracy: 0.6000\n",
      "\n",
      "Epoch 00022: val_loss did not improve from 1.44182\n",
      "Epoch 23/50\n",
      "36/36 [==============================] - 10s 292ms/step - loss: 0.6152 - accuracy: 0.7500 - val_loss: 1.5672 - val_accuracy: 0.6000\n",
      "\n",
      "Epoch 00023: val_loss did not improve from 1.44182\n",
      "Epoch 24/50\n",
      "36/36 [==============================] - 10s 290ms/step - loss: 0.6243 - accuracy: 0.7778 - val_loss: 2.1114 - val_accuracy: 0.0000e+00\n",
      "\n",
      "Epoch 00024: val_loss did not improve from 1.44182\n",
      "Epoch 25/50\n",
      "36/36 [==============================] - 10s 292ms/step - loss: 0.4516 - accuracy: 0.7500 - val_loss: 2.6827 - val_accuracy: 0.4000\n",
      "\n",
      "Epoch 00025: val_loss did not improve from 1.44182\n",
      "Epoch 26/50\n",
      "36/36 [==============================] - 12s 319ms/step - loss: 0.3802 - accuracy: 0.8056 - val_loss: 2.2277 - val_accuracy: 0.2000\n",
      "\n",
      "Epoch 00026: val_loss did not improve from 1.44182\n",
      "Epoch 27/50\n",
      "36/36 [==============================] - 11s 307ms/step - loss: 0.2609 - accuracy: 0.8611 - val_loss: 2.2645 - val_accuracy: 0.4000\n",
      "\n",
      "Epoch 00027: val_loss did not improve from 1.44182\n",
      "Epoch 28/50\n",
      "36/36 [==============================] - 11s 296ms/step - loss: 0.4982 - accuracy: 0.7778 - val_loss: 2.2007 - val_accuracy: 0.6000\n",
      "\n",
      "Epoch 00028: val_loss did not improve from 1.44182\n",
      "Epoch 29/50\n",
      "36/36 [==============================] - 11s 311ms/step - loss: 0.2457 - accuracy: 0.8889 - val_loss: 3.4865 - val_accuracy: 0.0000e+00\n",
      "\n",
      "Epoch 00029: val_loss did not improve from 1.44182\n",
      "Epoch 30/50\n",
      "36/36 [==============================] - 11s 295ms/step - loss: 0.4686 - accuracy: 0.8056 - val_loss: 2.5140 - val_accuracy: 0.4000\n",
      "\n",
      "Epoch 00030: val_loss did not improve from 1.44182\n",
      "Epoch 31/50\n",
      "36/36 [==============================] - 11s 303ms/step - loss: 0.2639 - accuracy: 0.8889 - val_loss: 1.9593 - val_accuracy: 0.6000\n",
      "\n",
      "Epoch 00031: val_loss did not improve from 1.44182\n",
      "Epoch 32/50\n",
      "36/36 [==============================] - 10s 290ms/step - loss: 0.1821 - accuracy: 0.9722 - val_loss: 2.9332 - val_accuracy: 0.2000\n",
      "\n",
      "Epoch 00032: val_loss did not improve from 1.44182\n",
      "Epoch 33/50\n",
      "36/36 [==============================] - 10s 291ms/step - loss: 0.2072 - accuracy: 0.9444 - val_loss: 2.4529 - val_accuracy: 0.6000\n",
      "\n",
      "Epoch 00033: val_loss did not improve from 1.44182\n",
      "Epoch 34/50\n",
      "36/36 [==============================] - 11s 314ms/step - loss: 0.2350 - accuracy: 0.8889 - val_loss: 4.1955 - val_accuracy: 0.2000\n",
      "\n",
      "Epoch 00034: val_loss did not improve from 1.44182\n",
      "Epoch 35/50\n",
      "36/36 [==============================] - 10s 291ms/step - loss: 0.6775 - accuracy: 0.7778 - val_loss: 1.8071 - val_accuracy: 0.6000\n",
      "\n",
      "Epoch 00035: val_loss did not improve from 1.44182\n",
      "Epoch 36/50\n",
      "36/36 [==============================] - 10s 290ms/step - loss: 0.1396 - accuracy: 0.9722 - val_loss: 2.2365 - val_accuracy: 0.6000\n",
      "\n",
      "Epoch 00036: val_loss did not improve from 1.44182\n",
      "Epoch 37/50\n",
      "36/36 [==============================] - 10s 273ms/step - loss: 0.3645 - accuracy: 0.8611 - val_loss: 2.1624 - val_accuracy: 0.2000\n",
      "\n",
      "Epoch 00037: val_loss did not improve from 1.44182\n",
      "Epoch 38/50\n",
      "36/36 [==============================] - 10s 277ms/step - loss: 0.3830 - accuracy: 0.8056 - val_loss: 2.7152 - val_accuracy: 0.2000\n",
      "\n",
      "Epoch 00038: val_loss did not improve from 1.44182\n",
      "Epoch 39/50\n",
      "36/36 [==============================] - 11s 296ms/step - loss: 0.3951 - accuracy: 0.8889 - val_loss: 2.1165 - val_accuracy: 0.0000e+00\n",
      "\n",
      "Epoch 00039: val_loss did not improve from 1.44182\n",
      "Epoch 40/50\n",
      "36/36 [==============================] - 11s 303ms/step - loss: 0.1334 - accuracy: 0.9722 - val_loss: 2.5492 - val_accuracy: 0.6000\n",
      "\n",
      "Epoch 00040: val_loss did not improve from 1.44182\n",
      "Epoch 41/50\n",
      "36/36 [==============================] - 10s 280ms/step - loss: 0.1556 - accuracy: 1.0000 - val_loss: 2.7124 - val_accuracy: 0.2000\n",
      "\n",
      "Epoch 00041: val_loss did not improve from 1.44182\n",
      "Epoch 42/50\n",
      "36/36 [==============================] - 11s 306ms/step - loss: 0.3677 - accuracy: 0.8056 - val_loss: 1.8217 - val_accuracy: 0.4000\n",
      "\n",
      "Epoch 00042: val_loss did not improve from 1.44182\n",
      "Epoch 43/50\n",
      "36/36 [==============================] - 11s 309ms/step - loss: 0.1955 - accuracy: 0.9167 - val_loss: 2.2822 - val_accuracy: 0.4000\n",
      "\n",
      "Epoch 00043: val_loss did not improve from 1.44182\n",
      "Epoch 44/50\n",
      "36/36 [==============================] - 11s 298ms/step - loss: 0.0945 - accuracy: 1.0000 - val_loss: 2.0665 - val_accuracy: 0.6000\n",
      "\n",
      "Epoch 00044: val_loss did not improve from 1.44182\n",
      "Epoch 45/50\n",
      "36/36 [==============================] - 11s 301ms/step - loss: 0.2553 - accuracy: 0.8611 - val_loss: 1.8487 - val_accuracy: 0.6000\n",
      "\n",
      "Epoch 00045: val_loss did not improve from 1.44182\n",
      "Epoch 46/50\n",
      "36/36 [==============================] - 11s 297ms/step - loss: 0.1885 - accuracy: 0.9444 - val_loss: 2.5892 - val_accuracy: 0.0000e+00\n",
      "\n",
      "Epoch 00046: val_loss did not improve from 1.44182\n",
      "Epoch 47/50\n",
      "36/36 [==============================] - 13s 353ms/step - loss: 0.4100 - accuracy: 0.8333 - val_loss: 3.8807 - val_accuracy: 0.0000e+00\n",
      "\n",
      "Epoch 00047: val_loss did not improve from 1.44182\n",
      "Epoch 48/50\n",
      "36/36 [==============================] - 13s 358ms/step - loss: 0.5081 - accuracy: 0.7500 - val_loss: 2.2097 - val_accuracy: 0.6000\n",
      "\n",
      "Epoch 00048: val_loss did not improve from 1.44182\n",
      "Epoch 49/50\n",
      "36/36 [==============================] - 13s 367ms/step - loss: 0.0712 - accuracy: 1.0000 - val_loss: 2.0948 - val_accuracy: 0.6000\n",
      "\n",
      "Epoch 00049: val_loss did not improve from 1.44182\n",
      "Epoch 50/50\n",
      "36/36 [==============================] - 11s 312ms/step - loss: 0.1230 - accuracy: 0.9722 - val_loss: 2.1061 - val_accuracy: 0.4000\n",
      "\n",
      "Epoch 00050: val_loss did not improve from 1.44182\n"
     ]
    }
   ],
   "source": [
    "#fit the model\n",
    "history_Adam = None\n",
    "history_Adam = VGG16_SGD.fit(X_train, Y_train,\n",
    "                             batch_size = batch_size,\n",
    "                             epochs = epochs,\n",
    "                             callbacks=[VGG16_Adam_model_checkpoint],\n",
    "                             validation_data=(X_valid, Y_valid))"
   ]
  },
  {
   "cell_type": "markdown",
   "id": "forty-airport",
   "metadata": {},
   "source": [
    "Adagrad"
   ]
  },
  {
   "cell_type": "code",
   "execution_count": 28,
   "id": "czech-stack",
   "metadata": {},
   "outputs": [
    {
     "name": "stdout",
     "output_type": "stream",
     "text": [
      "Epoch 1/50\n",
      "36/36 [==============================] - 10s 285ms/step - loss: 0.1014 - accuracy: 0.9444 - val_loss: 2.0244 - val_accuracy: 0.4000\n",
      "\n",
      "Epoch 00001: val_loss improved from inf to 2.02435, saving model to face_detect_VGG16_Adagrad.h5\n",
      "Epoch 2/50\n",
      "36/36 [==============================] - 11s 312ms/step - loss: 0.1322 - accuracy: 0.9722 - val_loss: 3.5749 - val_accuracy: 0.6000\n",
      "\n",
      "Epoch 00002: val_loss did not improve from 2.02435\n",
      "Epoch 3/50\n",
      "36/36 [==============================] - 14s 398ms/step - loss: 0.2598 - accuracy: 0.9167 - val_loss: 2.6890 - val_accuracy: 0.6000\n",
      "\n",
      "Epoch 00003: val_loss did not improve from 2.02435\n",
      "Epoch 4/50\n",
      "36/36 [==============================] - 11s 306ms/step - loss: 0.0862 - accuracy: 1.0000 - val_loss: 2.3502 - val_accuracy: 0.6000\n",
      "\n",
      "Epoch 00004: val_loss did not improve from 2.02435\n",
      "Epoch 5/50\n",
      "36/36 [==============================] - 10s 291ms/step - loss: 0.0538 - accuracy: 1.0000 - val_loss: 2.4485 - val_accuracy: 0.2000\n",
      "\n",
      "Epoch 00005: val_loss did not improve from 2.02435\n",
      "Epoch 6/50\n",
      "36/36 [==============================] - 12s 322ms/step - loss: 0.2642 - accuracy: 0.9167 - val_loss: 2.2196 - val_accuracy: 0.4000\n",
      "\n",
      "Epoch 00006: val_loss did not improve from 2.02435\n",
      "Epoch 7/50\n",
      "36/36 [==============================] - 11s 314ms/step - loss: 0.0641 - accuracy: 1.0000 - val_loss: 2.2689 - val_accuracy: 0.6000\n",
      "\n",
      "Epoch 00007: val_loss did not improve from 2.02435\n",
      "Epoch 8/50\n",
      "36/36 [==============================] - 11s 317ms/step - loss: 0.1111 - accuracy: 0.9722 - val_loss: 2.1784 - val_accuracy: 0.6000\n",
      "\n",
      "Epoch 00008: val_loss did not improve from 2.02435\n",
      "Epoch 9/50\n",
      "36/36 [==============================] - 11s 297ms/step - loss: 0.0860 - accuracy: 0.9722 - val_loss: 2.3282 - val_accuracy: 0.6000\n",
      "\n",
      "Epoch 00009: val_loss did not improve from 2.02435\n",
      "Epoch 10/50\n",
      "36/36 [==============================] - 11s 302ms/step - loss: 0.0516 - accuracy: 1.0000 - val_loss: 2.3296 - val_accuracy: 0.4000\n",
      "\n",
      "Epoch 00010: val_loss did not improve from 2.02435\n",
      "Epoch 11/50\n",
      "36/36 [==============================] - 10s 271ms/step - loss: 0.0526 - accuracy: 1.0000 - val_loss: 1.9709 - val_accuracy: 0.6000\n",
      "\n",
      "Epoch 00011: val_loss improved from 2.02435 to 1.97095, saving model to face_detect_VGG16_Adagrad.h5\n",
      "Epoch 12/50\n",
      "36/36 [==============================] - 11s 301ms/step - loss: 0.0712 - accuracy: 1.0000 - val_loss: 3.3083 - val_accuracy: 0.0000e+00\n",
      "\n",
      "Epoch 00012: val_loss did not improve from 1.97095\n",
      "Epoch 13/50\n",
      "36/36 [==============================] - 11s 308ms/step - loss: 0.0628 - accuracy: 1.0000 - val_loss: 2.5261 - val_accuracy: 0.4000\n",
      "\n",
      "Epoch 00013: val_loss did not improve from 1.97095\n",
      "Epoch 14/50\n",
      "36/36 [==============================] - 12s 345ms/step - loss: 0.0407 - accuracy: 1.0000 - val_loss: 2.1549 - val_accuracy: 0.6000\n",
      "\n",
      "Epoch 00014: val_loss did not improve from 1.97095\n",
      "Epoch 15/50\n",
      "36/36 [==============================] - 13s 350ms/step - loss: 0.0376 - accuracy: 1.0000 - val_loss: 2.2555 - val_accuracy: 0.6000\n",
      "\n",
      "Epoch 00015: val_loss did not improve from 1.97095\n",
      "Epoch 16/50\n",
      "36/36 [==============================] - 13s 351ms/step - loss: 0.0249 - accuracy: 1.0000 - val_loss: 2.4493 - val_accuracy: 0.6000\n",
      "\n",
      "Epoch 00016: val_loss did not improve from 1.97095\n",
      "Epoch 17/50\n",
      "36/36 [==============================] - 10s 290ms/step - loss: 0.0701 - accuracy: 0.9722 - val_loss: 3.4212 - val_accuracy: 0.6000\n",
      "\n",
      "Epoch 00017: val_loss did not improve from 1.97095\n",
      "Epoch 18/50\n",
      "36/36 [==============================] - 10s 291ms/step - loss: 0.2509 - accuracy: 0.9722 - val_loss: 1.9886 - val_accuracy: 0.6000\n",
      "\n",
      "Epoch 00018: val_loss did not improve from 1.97095\n",
      "Epoch 19/50\n",
      "36/36 [==============================] - 11s 312ms/step - loss: 0.5518 - accuracy: 0.8611 - val_loss: 2.4660 - val_accuracy: 0.4000\n",
      "\n",
      "Epoch 00019: val_loss did not improve from 1.97095\n",
      "Epoch 20/50\n",
      "36/36 [==============================] - 11s 296ms/step - loss: 0.2040 - accuracy: 0.9167 - val_loss: 1.8143 - val_accuracy: 0.6000\n",
      "\n",
      "Epoch 00020: val_loss improved from 1.97095 to 1.81433, saving model to face_detect_VGG16_Adagrad.h5\n",
      "Epoch 21/50\n",
      "36/36 [==============================] - 12s 337ms/step - loss: 0.0497 - accuracy: 1.0000 - val_loss: 2.1180 - val_accuracy: 0.4000\n",
      "\n",
      "Epoch 00021: val_loss did not improve from 1.81433\n",
      "Epoch 22/50\n",
      "36/36 [==============================] - 11s 308ms/step - loss: 0.0372 - accuracy: 1.0000 - val_loss: 2.2530 - val_accuracy: 0.6000\n",
      "\n",
      "Epoch 00022: val_loss did not improve from 1.81433\n",
      "Epoch 23/50\n",
      "36/36 [==============================] - 10s 279ms/step - loss: 0.0639 - accuracy: 1.0000 - val_loss: 2.5006 - val_accuracy: 0.4000\n",
      "\n",
      "Epoch 00023: val_loss did not improve from 1.81433\n",
      "Epoch 24/50\n",
      "36/36 [==============================] - 11s 301ms/step - loss: 0.4119 - accuracy: 0.8889 - val_loss: 5.2527 - val_accuracy: 0.2000\n",
      "\n",
      "Epoch 00024: val_loss did not improve from 1.81433\n",
      "Epoch 25/50\n",
      "36/36 [==============================] - 12s 327ms/step - loss: 0.3320 - accuracy: 0.8611 - val_loss: 2.3007 - val_accuracy: 0.6000\n",
      "\n",
      "Epoch 00025: val_loss did not improve from 1.81433\n",
      "Epoch 26/50\n",
      "36/36 [==============================] - 11s 310ms/step - loss: 0.0762 - accuracy: 1.0000 - val_loss: 2.2278 - val_accuracy: 0.6000\n",
      "\n",
      "Epoch 00026: val_loss did not improve from 1.81433\n",
      "Epoch 27/50\n",
      "36/36 [==============================] - 10s 276ms/step - loss: 0.0384 - accuracy: 1.0000 - val_loss: 2.5744 - val_accuracy: 0.4000\n",
      "\n",
      "Epoch 00027: val_loss did not improve from 1.81433\n",
      "Epoch 28/50\n",
      "36/36 [==============================] - 10s 271ms/step - loss: 0.0364 - accuracy: 1.0000 - val_loss: 2.6408 - val_accuracy: 0.6000\n",
      "\n",
      "Epoch 00028: val_loss did not improve from 1.81433\n",
      "Epoch 29/50\n",
      "36/36 [==============================] - 10s 268ms/step - loss: 0.0289 - accuracy: 1.0000 - val_loss: 2.5679 - val_accuracy: 0.6000\n",
      "\n",
      "Epoch 00029: val_loss did not improve from 1.81433\n",
      "Epoch 30/50\n",
      "36/36 [==============================] - 10s 289ms/step - loss: 0.0997 - accuracy: 0.9444 - val_loss: 3.9733 - val_accuracy: 0.0000e+00\n",
      "\n",
      "Epoch 00030: val_loss did not improve from 1.81433\n",
      "Epoch 31/50\n",
      "36/36 [==============================] - 10s 269ms/step - loss: 0.5726 - accuracy: 0.8056 - val_loss: 2.2564 - val_accuracy: 0.6000\n",
      "\n",
      "Epoch 00031: val_loss did not improve from 1.81433\n",
      "Epoch 32/50\n",
      "36/36 [==============================] - 10s 268ms/step - loss: 0.1721 - accuracy: 0.9444 - val_loss: 2.1214 - val_accuracy: 0.4000\n",
      "\n",
      "Epoch 00032: val_loss did not improve from 1.81433\n",
      "Epoch 33/50\n",
      "36/36 [==============================] - 10s 273ms/step - loss: 0.0704 - accuracy: 0.9722 - val_loss: 2.1862 - val_accuracy: 0.4000\n",
      "\n",
      "Epoch 00033: val_loss did not improve from 1.81433\n",
      "Epoch 34/50\n",
      "36/36 [==============================] - 10s 271ms/step - loss: 0.5174 - accuracy: 0.7778 - val_loss: 3.0085 - val_accuracy: 0.6000\n",
      "\n",
      "Epoch 00034: val_loss did not improve from 1.81433\n",
      "Epoch 35/50\n",
      "36/36 [==============================] - 10s 270ms/step - loss: 0.0500 - accuracy: 1.0000 - val_loss: 2.5633 - val_accuracy: 0.4000\n",
      "\n",
      "Epoch 00035: val_loss did not improve from 1.81433\n",
      "Epoch 36/50\n",
      "36/36 [==============================] - 10s 281ms/step - loss: 0.0320 - accuracy: 1.0000 - val_loss: 2.3528 - val_accuracy: 0.6000\n",
      "\n",
      "Epoch 00036: val_loss did not improve from 1.81433\n",
      "Epoch 37/50\n",
      "36/36 [==============================] - 10s 272ms/step - loss: 0.0283 - accuracy: 1.0000 - val_loss: 3.4180 - val_accuracy: 0.0000e+00\n",
      "\n",
      "Epoch 00037: val_loss did not improve from 1.81433\n",
      "Epoch 38/50\n",
      "36/36 [==============================] - 10s 270ms/step - loss: 0.0341 - accuracy: 1.0000 - val_loss: 2.9462 - val_accuracy: 0.0000e+00\n",
      "\n",
      "Epoch 00038: val_loss did not improve from 1.81433\n",
      "Epoch 39/50\n",
      "36/36 [==============================] - 10s 273ms/step - loss: 0.0329 - accuracy: 1.0000 - val_loss: 2.4203 - val_accuracy: 0.6000\n",
      "\n",
      "Epoch 00039: val_loss did not improve from 1.81433\n",
      "Epoch 40/50\n",
      "36/36 [==============================] - 10s 272ms/step - loss: 0.0232 - accuracy: 1.0000 - val_loss: 3.1918 - val_accuracy: 0.0000e+00\n",
      "\n",
      "Epoch 00040: val_loss did not improve from 1.81433\n",
      "Epoch 41/50\n",
      "36/36 [==============================] - 10s 270ms/step - loss: 0.0265 - accuracy: 1.0000 - val_loss: 2.6554 - val_accuracy: 0.6000\n",
      "\n",
      "Epoch 00041: val_loss did not improve from 1.81433\n",
      "Epoch 42/50\n"
     ]
    },
    {
     "name": "stdout",
     "output_type": "stream",
     "text": [
      "36/36 [==============================] - 10s 266ms/step - loss: 0.0179 - accuracy: 1.0000 - val_loss: 2.6010 - val_accuracy: 0.6000\n",
      "\n",
      "Epoch 00042: val_loss did not improve from 1.81433\n",
      "Epoch 43/50\n",
      "36/36 [==============================] - 10s 267ms/step - loss: 0.0175 - accuracy: 1.0000 - val_loss: 2.5458 - val_accuracy: 0.6000\n",
      "\n",
      "Epoch 00043: val_loss did not improve from 1.81433\n",
      "Epoch 44/50\n",
      "36/36 [==============================] - 10s 267ms/step - loss: 0.0185 - accuracy: 1.0000 - val_loss: 2.7140 - val_accuracy: 0.6000\n",
      "\n",
      "Epoch 00044: val_loss did not improve from 1.81433\n",
      "Epoch 45/50\n",
      "36/36 [==============================] - 10s 275ms/step - loss: 0.4611 - accuracy: 0.8056 - val_loss: 2.8343 - val_accuracy: 0.4000\n",
      "\n",
      "Epoch 00045: val_loss did not improve from 1.81433\n",
      "Epoch 46/50\n",
      "36/36 [==============================] - 11s 316ms/step - loss: 0.0425 - accuracy: 1.0000 - val_loss: 2.6175 - val_accuracy: 0.4000\n",
      "\n",
      "Epoch 00046: val_loss did not improve from 1.81433\n",
      "Epoch 47/50\n",
      "36/36 [==============================] - 11s 302ms/step - loss: 0.0178 - accuracy: 1.0000 - val_loss: 2.4972 - val_accuracy: 0.4000\n",
      "\n",
      "Epoch 00047: val_loss did not improve from 1.81433\n",
      "Epoch 48/50\n",
      "36/36 [==============================] - 11s 298ms/step - loss: 0.0251 - accuracy: 1.0000 - val_loss: 2.7187 - val_accuracy: 0.4000\n",
      "\n",
      "Epoch 00048: val_loss did not improve from 1.81433\n",
      "Epoch 49/50\n",
      "36/36 [==============================] - 10s 284ms/step - loss: 0.0237 - accuracy: 1.0000 - val_loss: 2.5390 - val_accuracy: 0.6000\n",
      "\n",
      "Epoch 00049: val_loss did not improve from 1.81433\n",
      "Epoch 50/50\n",
      "36/36 [==============================] - 11s 301ms/step - loss: 0.0159 - accuracy: 1.0000 - val_loss: 2.4613 - val_accuracy: 0.6000\n",
      "\n",
      "Epoch 00050: val_loss did not improve from 1.81433\n"
     ]
    }
   ],
   "source": [
    "#fit the model\n",
    "history_Adagrad = None\n",
    "history_Adagrad = VGG16_SGD.fit(X_train, Y_train,\n",
    "                                batch_size = batch_size,\n",
    "                                epochs = epochs,\n",
    "                                callbacks=[VGG16_Adagrad_model_checkpoint],\n",
    "                                validation_data=(X_valid, Y_valid))"
   ]
  },
  {
   "cell_type": "markdown",
   "id": "lesser-arrangement",
   "metadata": {},
   "source": [
    "Adadelta"
   ]
  },
  {
   "cell_type": "code",
   "execution_count": 29,
   "id": "black-oakland",
   "metadata": {},
   "outputs": [
    {
     "name": "stdout",
     "output_type": "stream",
     "text": [
      "Epoch 1/50\n",
      "36/36 [==============================] - 11s 317ms/step - loss: 0.0148 - accuracy: 1.0000 - val_loss: 2.5469 - val_accuracy: 0.6000\n",
      "\n",
      "Epoch 00001: val_loss improved from inf to 2.54692, saving model to face_detect_VGG16_Adadelta.h5\n",
      "Epoch 2/50\n",
      "36/36 [==============================] - 11s 296ms/step - loss: 0.0155 - accuracy: 1.0000 - val_loss: 2.6720 - val_accuracy: 0.6000\n",
      "\n",
      "Epoch 00002: val_loss did not improve from 2.54692\n",
      "Epoch 3/50\n",
      "36/36 [==============================] - 10s 276ms/step - loss: 0.0129 - accuracy: 1.0000 - val_loss: 2.6788 - val_accuracy: 0.6000\n",
      "\n",
      "Epoch 00003: val_loss did not improve from 2.54692\n",
      "Epoch 4/50\n",
      "36/36 [==============================] - 10s 287ms/step - loss: 0.0142 - accuracy: 1.0000 - val_loss: 2.6662 - val_accuracy: 0.6000\n",
      "\n",
      "Epoch 00004: val_loss did not improve from 2.54692\n",
      "Epoch 5/50\n",
      "36/36 [==============================] - 11s 318ms/step - loss: 0.0134 - accuracy: 1.0000 - val_loss: 2.7426 - val_accuracy: 0.4000\n",
      "\n",
      "Epoch 00005: val_loss did not improve from 2.54692\n",
      "Epoch 6/50\n",
      "36/36 [==============================] - 11s 316ms/step - loss: 0.0125 - accuracy: 1.0000 - val_loss: 2.7265 - val_accuracy: 0.6000\n",
      "\n",
      "Epoch 00006: val_loss did not improve from 2.54692\n",
      "Epoch 7/50\n",
      "36/36 [==============================] - 11s 295ms/step - loss: 0.0120 - accuracy: 1.0000 - val_loss: 2.6045 - val_accuracy: 0.6000\n",
      "\n",
      "Epoch 00007: val_loss did not improve from 2.54692\n",
      "Epoch 8/50\n",
      "36/36 [==============================] - 11s 317ms/step - loss: 0.0126 - accuracy: 1.0000 - val_loss: 2.6329 - val_accuracy: 0.6000\n",
      "\n",
      "Epoch 00008: val_loss did not improve from 2.54692\n",
      "Epoch 9/50\n",
      "36/36 [==============================] - 13s 353ms/step - loss: 0.0120 - accuracy: 1.0000 - val_loss: 2.5812 - val_accuracy: 0.6000\n",
      "\n",
      "Epoch 00009: val_loss did not improve from 2.54692\n",
      "Epoch 10/50\n",
      "36/36 [==============================] - 13s 341ms/step - loss: 0.0103 - accuracy: 1.0000 - val_loss: 2.6563 - val_accuracy: 0.6000\n",
      "\n",
      "Epoch 00010: val_loss did not improve from 2.54692\n",
      "Epoch 11/50\n",
      "36/36 [==============================] - 11s 310ms/step - loss: 0.0114 - accuracy: 1.0000 - val_loss: 2.6666 - val_accuracy: 0.6000\n",
      "\n",
      "Epoch 00011: val_loss did not improve from 2.54692\n",
      "Epoch 12/50\n",
      "36/36 [==============================] - 11s 294ms/step - loss: 0.0108 - accuracy: 1.0000 - val_loss: 2.6812 - val_accuracy: 0.6000\n",
      "\n",
      "Epoch 00012: val_loss did not improve from 2.54692\n",
      "Epoch 13/50\n",
      "36/36 [==============================] - 10s 275ms/step - loss: 0.0086 - accuracy: 1.0000 - val_loss: 2.7092 - val_accuracy: 0.4000\n",
      "\n",
      "Epoch 00013: val_loss did not improve from 2.54692\n",
      "Epoch 14/50\n",
      "36/36 [==============================] - 11s 300ms/step - loss: 0.0089 - accuracy: 1.0000 - val_loss: 2.6991 - val_accuracy: 0.6000\n",
      "\n",
      "Epoch 00014: val_loss did not improve from 2.54692\n",
      "Epoch 15/50\n",
      "36/36 [==============================] - 11s 310ms/step - loss: 0.0104 - accuracy: 1.0000 - val_loss: 2.6639 - val_accuracy: 0.6000\n",
      "\n",
      "Epoch 00015: val_loss did not improve from 2.54692\n",
      "Epoch 16/50\n",
      "36/36 [==============================] - 12s 322ms/step - loss: 0.0101 - accuracy: 1.0000 - val_loss: 2.6637 - val_accuracy: 0.6000\n",
      "\n",
      "Epoch 00016: val_loss did not improve from 2.54692\n",
      "Epoch 17/50\n",
      "36/36 [==============================] - 11s 306ms/step - loss: 0.0090 - accuracy: 1.0000 - val_loss: 2.6782 - val_accuracy: 0.6000\n",
      "\n",
      "Epoch 00017: val_loss did not improve from 2.54692\n",
      "Epoch 18/50\n",
      "36/36 [==============================] - 12s 330ms/step - loss: 0.0083 - accuracy: 1.0000 - val_loss: 2.7274 - val_accuracy: 0.4000\n",
      "\n",
      "Epoch 00018: val_loss did not improve from 2.54692\n",
      "Epoch 19/50\n",
      "36/36 [==============================] - 12s 334ms/step - loss: 0.0090 - accuracy: 1.0000 - val_loss: 2.7712 - val_accuracy: 0.6000\n",
      "\n",
      "Epoch 00019: val_loss did not improve from 2.54692\n",
      "Epoch 20/50\n",
      "36/36 [==============================] - 11s 296ms/step - loss: 0.0086 - accuracy: 1.0000 - val_loss: 2.6121 - val_accuracy: 0.6000\n",
      "\n",
      "Epoch 00020: val_loss did not improve from 2.54692\n",
      "Epoch 21/50\n",
      "36/36 [==============================] - 10s 285ms/step - loss: 0.0084 - accuracy: 1.0000 - val_loss: 2.7385 - val_accuracy: 0.4000\n",
      "\n",
      "Epoch 00021: val_loss did not improve from 2.54692\n",
      "Epoch 22/50\n",
      "36/36 [==============================] - 10s 290ms/step - loss: 0.0085 - accuracy: 1.0000 - val_loss: 2.6753 - val_accuracy: 0.6000\n",
      "\n",
      "Epoch 00022: val_loss did not improve from 2.54692\n",
      "Epoch 23/50\n",
      "36/36 [==============================] - 11s 295ms/step - loss: 0.0084 - accuracy: 1.0000 - val_loss: 2.6380 - val_accuracy: 0.6000\n",
      "\n",
      "Epoch 00023: val_loss did not improve from 2.54692\n",
      "Epoch 24/50\n",
      "36/36 [==============================] - 11s 295ms/step - loss: 0.0085 - accuracy: 1.0000 - val_loss: 2.7392 - val_accuracy: 0.6000\n",
      "\n",
      "Epoch 00024: val_loss did not improve from 2.54692\n",
      "Epoch 25/50\n",
      "36/36 [==============================] - 11s 304ms/step - loss: 0.0077 - accuracy: 1.0000 - val_loss: 2.7788 - val_accuracy: 0.4000\n",
      "\n",
      "Epoch 00025: val_loss did not improve from 2.54692\n",
      "Epoch 26/50\n",
      "36/36 [==============================] - 12s 323ms/step - loss: 0.0082 - accuracy: 1.0000 - val_loss: 2.6997 - val_accuracy: 0.4000\n",
      "\n",
      "Epoch 00026: val_loss did not improve from 2.54692\n",
      "Epoch 27/50\n",
      "36/36 [==============================] - 13s 357ms/step - loss: 0.0077 - accuracy: 1.0000 - val_loss: 2.7134 - val_accuracy: 0.4000\n",
      "\n",
      "Epoch 00027: val_loss did not improve from 2.54692\n",
      "Epoch 28/50\n",
      "36/36 [==============================] - 13s 361ms/step - loss: 0.0080 - accuracy: 1.0000 - val_loss: 2.6994 - val_accuracy: 0.6000\n",
      "\n",
      "Epoch 00028: val_loss did not improve from 2.54692\n",
      "Epoch 29/50\n",
      "36/36 [==============================] - 11s 304ms/step - loss: 0.0072 - accuracy: 1.0000 - val_loss: 2.6927 - val_accuracy: 0.6000\n",
      "\n",
      "Epoch 00029: val_loss did not improve from 2.54692\n",
      "Epoch 30/50\n",
      "36/36 [==============================] - 11s 310ms/step - loss: 0.0063 - accuracy: 1.0000 - val_loss: 2.7208 - val_accuracy: 0.6000\n",
      "\n",
      "Epoch 00030: val_loss did not improve from 2.54692\n",
      "Epoch 31/50\n",
      "36/36 [==============================] - 12s 342ms/step - loss: 0.0068 - accuracy: 1.0000 - val_loss: 2.6817 - val_accuracy: 0.6000\n",
      "\n",
      "Epoch 00031: val_loss did not improve from 2.54692\n",
      "Epoch 32/50\n",
      "36/36 [==============================] - 12s 321ms/step - loss: 0.0067 - accuracy: 1.0000 - val_loss: 2.7446 - val_accuracy: 0.6000\n",
      "\n",
      "Epoch 00032: val_loss did not improve from 2.54692\n",
      "Epoch 33/50\n",
      "36/36 [==============================] - 11s 306ms/step - loss: 0.0060 - accuracy: 1.0000 - val_loss: 2.6900 - val_accuracy: 0.6000\n",
      "\n",
      "Epoch 00033: val_loss did not improve from 2.54692\n",
      "Epoch 34/50\n",
      "36/36 [==============================] - 10s 272ms/step - loss: 0.0066 - accuracy: 1.0000 - val_loss: 2.7529 - val_accuracy: 0.4000\n",
      "\n",
      "Epoch 00034: val_loss did not improve from 2.54692\n",
      "Epoch 35/50\n",
      "36/36 [==============================] - 10s 270ms/step - loss: 0.0062 - accuracy: 1.0000 - val_loss: 2.7427 - val_accuracy: 0.6000\n",
      "\n",
      "Epoch 00035: val_loss did not improve from 2.54692\n",
      "Epoch 36/50\n",
      "36/36 [==============================] - 10s 287ms/step - loss: 0.0062 - accuracy: 1.0000 - val_loss: 2.7061 - val_accuracy: 0.6000\n",
      "\n",
      "Epoch 00036: val_loss did not improve from 2.54692\n",
      "Epoch 37/50\n",
      "36/36 [==============================] - 10s 277ms/step - loss: 0.0064 - accuracy: 1.0000 - val_loss: 2.7394 - val_accuracy: 0.6000\n",
      "\n",
      "Epoch 00037: val_loss did not improve from 2.54692\n",
      "Epoch 38/50\n",
      "36/36 [==============================] - 10s 270ms/step - loss: 0.0060 - accuracy: 1.0000 - val_loss: 2.7763 - val_accuracy: 0.6000\n",
      "\n",
      "Epoch 00038: val_loss did not improve from 2.54692\n",
      "Epoch 39/50\n",
      "36/36 [==============================] - 10s 275ms/step - loss: 0.0059 - accuracy: 1.0000 - val_loss: 2.7657 - val_accuracy: 0.6000\n",
      "\n",
      "Epoch 00039: val_loss did not improve from 2.54692\n",
      "Epoch 40/50\n",
      "36/36 [==============================] - 11s 294ms/step - loss: 0.0058 - accuracy: 1.0000 - val_loss: 2.8281 - val_accuracy: 0.6000\n",
      "\n",
      "Epoch 00040: val_loss did not improve from 2.54692\n",
      "Epoch 41/50\n",
      "36/36 [==============================] - 10s 276ms/step - loss: 0.0057 - accuracy: 1.0000 - val_loss: 2.7499 - val_accuracy: 0.6000\n",
      "\n",
      "Epoch 00041: val_loss did not improve from 2.54692\n",
      "Epoch 42/50\n",
      "36/36 [==============================] - 11s 310ms/step - loss: 0.0055 - accuracy: 1.0000 - val_loss: 2.8288 - val_accuracy: 0.6000\n"
     ]
    },
    {
     "name": "stdout",
     "output_type": "stream",
     "text": [
      "\n",
      "Epoch 00042: val_loss did not improve from 2.54692\n",
      "Epoch 43/50\n",
      "36/36 [==============================] - 10s 289ms/step - loss: 0.0059 - accuracy: 1.0000 - val_loss: 2.7936 - val_accuracy: 0.6000\n",
      "\n",
      "Epoch 00043: val_loss did not improve from 2.54692\n",
      "Epoch 44/50\n",
      "36/36 [==============================] - 11s 305ms/step - loss: 0.0056 - accuracy: 1.0000 - val_loss: 2.7772 - val_accuracy: 0.6000\n",
      "\n",
      "Epoch 00044: val_loss did not improve from 2.54692\n",
      "Epoch 45/50\n",
      "36/36 [==============================] - 11s 296ms/step - loss: 0.0053 - accuracy: 1.0000 - val_loss: 2.7662 - val_accuracy: 0.6000\n",
      "\n",
      "Epoch 00045: val_loss did not improve from 2.54692\n",
      "Epoch 46/50\n",
      "36/36 [==============================] - 10s 288ms/step - loss: 0.0051 - accuracy: 1.0000 - val_loss: 2.7180 - val_accuracy: 0.6000\n",
      "\n",
      "Epoch 00046: val_loss did not improve from 2.54692\n",
      "Epoch 47/50\n",
      "36/36 [==============================] - 11s 305ms/step - loss: 0.0050 - accuracy: 1.0000 - val_loss: 2.7443 - val_accuracy: 0.6000\n",
      "\n",
      "Epoch 00047: val_loss did not improve from 2.54692\n",
      "Epoch 48/50\n",
      "36/36 [==============================] - 10s 288ms/step - loss: 0.0052 - accuracy: 1.0000 - val_loss: 2.8135 - val_accuracy: 0.4000\n",
      "\n",
      "Epoch 00048: val_loss did not improve from 2.54692\n",
      "Epoch 49/50\n",
      "36/36 [==============================] - 11s 312ms/step - loss: 0.0054 - accuracy: 1.0000 - val_loss: 2.8269 - val_accuracy: 0.6000\n",
      "\n",
      "Epoch 00049: val_loss did not improve from 2.54692\n",
      "Epoch 50/50\n",
      "36/36 [==============================] - 10s 277ms/step - loss: 0.0053 - accuracy: 1.0000 - val_loss: 2.7821 - val_accuracy: 0.6000\n",
      "\n",
      "Epoch 00050: val_loss did not improve from 2.54692\n"
     ]
    }
   ],
   "source": [
    "#fit the model\n",
    "history_Adadelta = None\n",
    "history_Adadelta = VGG16_SGD.fit(X_train, Y_train,\n",
    "                                 batch_size = batch_size,\n",
    "                                 epochs = epochs,\n",
    "                                 callbacks=[VGG16_Adadelta_model_checkpoint],\n",
    "                                 validation_data=(X_valid, Y_valid))"
   ]
  },
  {
   "cell_type": "markdown",
   "id": "expensive-bicycle",
   "metadata": {},
   "source": [
    "RMSProp"
   ]
  },
  {
   "cell_type": "code",
   "execution_count": 68,
   "id": "outside-situation",
   "metadata": {},
   "outputs": [
    {
     "name": "stdout",
     "output_type": "stream",
     "text": [
      "Epoch 1/50\n",
      "36/36 [==============================] - ETA: 0s - loss: 1.0707 - accuracy: 0.6389WARNING:tensorflow:7 out of the last 11 calls to <function Model.make_test_function.<locals>.test_function at 0x1a71329f28> triggered tf.function retracing. Tracing is expensive and the excessive number of tracings could be due to (1) creating @tf.function repeatedly in a loop, (2) passing tensors with different shapes, (3) passing Python objects instead of tensors. For (1), please define your @tf.function outside of the loop. For (2), @tf.function has experimental_relax_shapes=True option that relaxes argument shapes that can avoid unnecessary retracing. For (3), please refer to https://www.tensorflow.org/guide/function#controlling_retracing and https://www.tensorflow.org/api_docs/python/tf/function for  more details.\n",
      "36/36 [==============================] - 14s 373ms/step - loss: 1.0707 - accuracy: 0.6389 - val_loss: 1.8766 - val_accuracy: 0.0000e+00\n",
      "\n",
      "Epoch 00001: val_loss improved from inf to 1.87664, saving model to face_detect_VGG16_RMSProp.h5\n",
      "Epoch 2/50\n",
      "36/36 [==============================] - 12s 343ms/step - loss: 1.0958 - accuracy: 0.5278 - val_loss: 1.7625 - val_accuracy: 0.0000e+00\n",
      "\n",
      "Epoch 00002: val_loss improved from 1.87664 to 1.76247, saving model to face_detect_VGG16_RMSProp.h5\n",
      "Epoch 3/50\n",
      "36/36 [==============================] - 13s 356ms/step - loss: 1.0068 - accuracy: 0.6389 - val_loss: 1.6287 - val_accuracy: 0.4000\n",
      "\n",
      "Epoch 00003: val_loss improved from 1.76247 to 1.62872, saving model to face_detect_VGG16_RMSProp.h5\n",
      "Epoch 4/50\n",
      "36/36 [==============================] - 11s 297ms/step - loss: 0.8652 - accuracy: 0.6389 - val_loss: 1.6495 - val_accuracy: 0.6000\n",
      "\n",
      "Epoch 00004: val_loss did not improve from 1.62872\n",
      "Epoch 5/50\n",
      "36/36 [==============================] - 10s 268ms/step - loss: 0.9519 - accuracy: 0.5556 - val_loss: 1.8744 - val_accuracy: 0.4000\n",
      "\n",
      "Epoch 00005: val_loss did not improve from 1.62872\n",
      "Epoch 6/50\n",
      "36/36 [==============================] - 10s 273ms/step - loss: 0.9921 - accuracy: 0.5556 - val_loss: 2.4583 - val_accuracy: 0.2000\n",
      "\n",
      "Epoch 00006: val_loss did not improve from 1.62872\n",
      "Epoch 7/50\n",
      "36/36 [==============================] - 10s 270ms/step - loss: 0.9255 - accuracy: 0.6389 - val_loss: 1.9954 - val_accuracy: 0.0000e+00\n",
      "\n",
      "Epoch 00007: val_loss did not improve from 1.62872\n",
      "Epoch 8/50\n",
      "36/36 [==============================] - 10s 274ms/step - loss: 0.9432 - accuracy: 0.6111 - val_loss: 1.5540 - val_accuracy: 0.2000\n",
      "\n",
      "Epoch 00008: val_loss improved from 1.62872 to 1.55397, saving model to face_detect_VGG16_RMSProp.h5\n",
      "Epoch 9/50\n",
      "36/36 [==============================] - 10s 276ms/step - loss: 0.9261 - accuracy: 0.5556 - val_loss: 1.6626 - val_accuracy: 0.2000\n",
      "\n",
      "Epoch 00009: val_loss did not improve from 1.55397\n",
      "Epoch 10/50\n",
      "36/36 [==============================] - 10s 269ms/step - loss: 0.8439 - accuracy: 0.5833 - val_loss: 1.9243 - val_accuracy: 0.2000\n",
      "\n",
      "Epoch 00010: val_loss did not improve from 1.55397\n",
      "Epoch 11/50\n",
      "36/36 [==============================] - 10s 276ms/step - loss: 0.9537 - accuracy: 0.4444 - val_loss: 1.7466 - val_accuracy: 0.2000\n",
      "\n",
      "Epoch 00011: val_loss did not improve from 1.55397\n",
      "Epoch 12/50\n",
      "36/36 [==============================] - 15s 412ms/step - loss: 0.7271 - accuracy: 0.7222 - val_loss: 2.0466 - val_accuracy: 0.0000e+00\n",
      "\n",
      "Epoch 00012: val_loss did not improve from 1.55397\n",
      "Epoch 13/50\n",
      "36/36 [==============================] - 12s 343ms/step - loss: 0.8374 - accuracy: 0.6111 - val_loss: 2.1310 - val_accuracy: 0.0000e+00\n",
      "\n",
      "Epoch 00013: val_loss did not improve from 1.55397\n",
      "Epoch 14/50\n",
      "36/36 [==============================] - 12s 324ms/step - loss: 0.9188 - accuracy: 0.6111 - val_loss: 1.6144 - val_accuracy: 0.2000\n",
      "\n",
      "Epoch 00014: val_loss did not improve from 1.55397\n",
      "Epoch 15/50\n",
      "36/36 [==============================] - 11s 301ms/step - loss: 0.8547 - accuracy: 0.6389 - val_loss: 2.2852 - val_accuracy: 0.0000e+00\n",
      "\n",
      "Epoch 00015: val_loss did not improve from 1.55397\n",
      "Epoch 16/50\n",
      "36/36 [==============================] - 12s 321ms/step - loss: 0.8021 - accuracy: 0.5833 - val_loss: 2.0585 - val_accuracy: 0.0000e+00\n",
      "\n",
      "Epoch 00016: val_loss did not improve from 1.55397\n",
      "Epoch 17/50\n",
      "36/36 [==============================] - 12s 332ms/step - loss: 0.6701 - accuracy: 0.6667 - val_loss: 1.5366 - val_accuracy: 0.4000\n",
      "\n",
      "Epoch 00017: val_loss improved from 1.55397 to 1.53658, saving model to face_detect_VGG16_RMSProp.h5\n",
      "Epoch 18/50\n",
      "36/36 [==============================] - 10s 274ms/step - loss: 0.7298 - accuracy: 0.7778 - val_loss: 2.1177 - val_accuracy: 0.2000\n",
      "\n",
      "Epoch 00018: val_loss did not improve from 1.53658\n",
      "Epoch 19/50\n",
      "36/36 [==============================] - 10s 271ms/step - loss: 0.7944 - accuracy: 0.6667 - val_loss: 2.5486 - val_accuracy: 0.4000\n",
      "\n",
      "Epoch 00019: val_loss did not improve from 1.53658\n",
      "Epoch 20/50\n",
      "36/36 [==============================] - 10s 269ms/step - loss: 0.8187 - accuracy: 0.6111 - val_loss: 1.6501 - val_accuracy: 0.4000\n",
      "\n",
      "Epoch 00020: val_loss did not improve from 1.53658\n",
      "Epoch 21/50\n",
      "36/36 [==============================] - 9s 263ms/step - loss: 0.5434 - accuracy: 0.7778 - val_loss: 3.2040 - val_accuracy: 0.2000\n",
      "\n",
      "Epoch 00021: val_loss did not improve from 1.53658\n",
      "Epoch 22/50\n",
      "36/36 [==============================] - 10s 285ms/step - loss: 0.7180 - accuracy: 0.6667 - val_loss: 1.7824 - val_accuracy: 0.0000e+00\n",
      "\n",
      "Epoch 00022: val_loss did not improve from 1.53658\n",
      "Epoch 23/50\n",
      "36/36 [==============================] - 10s 272ms/step - loss: 0.6687 - accuracy: 0.6944 - val_loss: 3.2659 - val_accuracy: 0.2000\n",
      "\n",
      "Epoch 00023: val_loss did not improve from 1.53658\n",
      "Epoch 24/50\n",
      "36/36 [==============================] - 12s 344ms/step - loss: 0.7091 - accuracy: 0.6944 - val_loss: 2.4370 - val_accuracy: 0.0000e+00\n",
      "\n",
      "Epoch 00024: val_loss did not improve from 1.53658\n",
      "Epoch 25/50\n",
      "36/36 [==============================] - 10s 280ms/step - loss: 0.6816 - accuracy: 0.8056 - val_loss: 2.0086 - val_accuracy: 0.2000\n",
      "\n",
      "Epoch 00025: val_loss did not improve from 1.53658\n",
      "Epoch 26/50\n",
      "36/36 [==============================] - 10s 282ms/step - loss: 0.6952 - accuracy: 0.6667 - val_loss: 1.9422 - val_accuracy: 0.6000\n",
      "\n",
      "Epoch 00026: val_loss did not improve from 1.53658\n",
      "Epoch 27/50\n",
      "36/36 [==============================] - 10s 277ms/step - loss: 0.5462 - accuracy: 0.7778 - val_loss: 2.7255 - val_accuracy: 0.0000e+00\n",
      "\n",
      "Epoch 00027: val_loss did not improve from 1.53658\n",
      "Epoch 28/50\n",
      "36/36 [==============================] - 10s 273ms/step - loss: 0.6867 - accuracy: 0.6667 - val_loss: 2.3360 - val_accuracy: 0.0000e+00\n",
      "\n",
      "Epoch 00028: val_loss did not improve from 1.53658\n",
      "Epoch 29/50\n",
      "36/36 [==============================] - 10s 269ms/step - loss: 0.5717 - accuracy: 0.8056 - val_loss: 2.4282 - val_accuracy: 0.0000e+00\n",
      "\n",
      "Epoch 00029: val_loss did not improve from 1.53658\n",
      "Epoch 30/50\n",
      "36/36 [==============================] - 11s 319ms/step - loss: 0.7217 - accuracy: 0.6111 - val_loss: 1.5770 - val_accuracy: 0.6000\n",
      "\n",
      "Epoch 00030: val_loss did not improve from 1.53658\n",
      "Epoch 31/50\n",
      "36/36 [==============================] - 11s 315ms/step - loss: 0.5905 - accuracy: 0.8056 - val_loss: 1.3271 - val_accuracy: 0.6000\n",
      "\n",
      "Epoch 00031: val_loss improved from 1.53658 to 1.32706, saving model to face_detect_VGG16_RMSProp.h5\n",
      "Epoch 32/50\n",
      "36/36 [==============================] - 13s 359ms/step - loss: 0.6757 - accuracy: 0.7222 - val_loss: 2.1996 - val_accuracy: 0.2000\n",
      "\n",
      "Epoch 00032: val_loss did not improve from 1.32706\n",
      "Epoch 33/50\n",
      "36/36 [==============================] - 12s 330ms/step - loss: 0.7825 - accuracy: 0.6667 - val_loss: 1.5855 - val_accuracy: 0.2000\n",
      "\n",
      "Epoch 00033: val_loss did not improve from 1.32706\n",
      "Epoch 34/50\n",
      "36/36 [==============================] - 10s 281ms/step - loss: 0.4542 - accuracy: 0.7778 - val_loss: 1.9764 - val_accuracy: 0.4000\n",
      "\n",
      "Epoch 00034: val_loss did not improve from 1.32706\n",
      "Epoch 35/50\n",
      "36/36 [==============================] - 11s 305ms/step - loss: 0.5322 - accuracy: 0.7222 - val_loss: 1.7872 - val_accuracy: 0.6000\n",
      "\n",
      "Epoch 00035: val_loss did not improve from 1.32706\n",
      "Epoch 36/50\n",
      "36/36 [==============================] - 10s 284ms/step - loss: 0.7690 - accuracy: 0.6389 - val_loss: 2.1660 - val_accuracy: 0.0000e+00\n",
      "\n",
      "Epoch 00036: val_loss did not improve from 1.32706\n",
      "Epoch 37/50\n"
     ]
    },
    {
     "name": "stdout",
     "output_type": "stream",
     "text": [
      "36/36 [==============================] - 10s 273ms/step - loss: 0.5657 - accuracy: 0.7222 - val_loss: 1.5627 - val_accuracy: 0.6000\n",
      "\n",
      "Epoch 00037: val_loss did not improve from 1.32706\n",
      "Epoch 38/50\n",
      "36/36 [==============================] - 10s 270ms/step - loss: 0.4300 - accuracy: 0.8333 - val_loss: 2.0727 - val_accuracy: 0.2000\n",
      "\n",
      "Epoch 00038: val_loss did not improve from 1.32706\n",
      "Epoch 39/50\n",
      "36/36 [==============================] - 10s 270ms/step - loss: 0.4998 - accuracy: 0.7778 - val_loss: 1.6264 - val_accuracy: 0.4000\n",
      "\n",
      "Epoch 00039: val_loss did not improve from 1.32706\n",
      "Epoch 40/50\n",
      "36/36 [==============================] - 10s 271ms/step - loss: 0.4030 - accuracy: 0.8333 - val_loss: 1.4754 - val_accuracy: 0.2000\n",
      "\n",
      "Epoch 00040: val_loss did not improve from 1.32706\n",
      "Epoch 41/50\n",
      "36/36 [==============================] - 10s 270ms/step - loss: 0.6207 - accuracy: 0.6944 - val_loss: 1.4749 - val_accuracy: 0.4000\n",
      "\n",
      "Epoch 00041: val_loss did not improve from 1.32706\n",
      "Epoch 42/50\n",
      "36/36 [==============================] - 10s 275ms/step - loss: 0.3789 - accuracy: 0.8611 - val_loss: 2.1130 - val_accuracy: 0.6000\n",
      "\n",
      "Epoch 00042: val_loss did not improve from 1.32706\n",
      "Epoch 43/50\n",
      "36/36 [==============================] - 10s 274ms/step - loss: 0.5620 - accuracy: 0.7500 - val_loss: 2.2076 - val_accuracy: 0.6000\n",
      "\n",
      "Epoch 00043: val_loss did not improve from 1.32706\n",
      "Epoch 44/50\n",
      "36/36 [==============================] - 10s 271ms/step - loss: 0.5450 - accuracy: 0.7500 - val_loss: 2.7189 - val_accuracy: 0.2000\n",
      "\n",
      "Epoch 00044: val_loss did not improve from 1.32706\n",
      "Epoch 45/50\n",
      "36/36 [==============================] - 10s 278ms/step - loss: 0.5514 - accuracy: 0.7778 - val_loss: 2.2537 - val_accuracy: 0.0000e+00\n",
      "\n",
      "Epoch 00045: val_loss did not improve from 1.32706\n",
      "Epoch 46/50\n",
      "36/36 [==============================] - 11s 301ms/step - loss: 0.3949 - accuracy: 0.8889 - val_loss: 2.4374 - val_accuracy: 0.2000\n",
      "\n",
      "Epoch 00046: val_loss did not improve from 1.32706\n",
      "Epoch 47/50\n",
      "36/36 [==============================] - 10s 271ms/step - loss: 0.5432 - accuracy: 0.7222 - val_loss: 2.1517 - val_accuracy: 0.6000\n",
      "\n",
      "Epoch 00047: val_loss did not improve from 1.32706\n",
      "Epoch 48/50\n",
      "36/36 [==============================] - 10s 276ms/step - loss: 0.4934 - accuracy: 0.8333 - val_loss: 1.3975 - val_accuracy: 0.4000\n",
      "\n",
      "Epoch 00048: val_loss did not improve from 1.32706\n",
      "Epoch 49/50\n",
      "36/36 [==============================] - 10s 274ms/step - loss: 0.5776 - accuracy: 0.7500 - val_loss: 2.7898 - val_accuracy: 0.2000\n",
      "\n",
      "Epoch 00049: val_loss did not improve from 1.32706\n",
      "Epoch 50/50\n",
      "36/36 [==============================] - 10s 271ms/step - loss: 0.3813 - accuracy: 0.8889 - val_loss: 0.9849 - val_accuracy: 0.8000\n",
      "\n",
      "Epoch 00050: val_loss improved from 1.32706 to 0.98493, saving model to face_detect_VGG16_RMSProp.h5\n"
     ]
    }
   ],
   "source": [
    "#fit the model\n",
    "history_RMSProp = None\n",
    "history_RMSProp = VGG16_SGD.fit(X_train, Y_train,\n",
    "                                batch_size = batch_size,\n",
    "                                epochs = epochs,\n",
    "                                callbacks=[VGG16_RMSProp_model_checkpoint],\n",
    "                                validation_data=(X_valid, Y_valid))"
   ]
  },
  {
   "cell_type": "markdown",
   "id": "activated-brunei",
   "metadata": {},
   "source": [
    "## Model Evaluation"
   ]
  },
  {
   "cell_type": "markdown",
   "id": "related-notion",
   "metadata": {},
   "source": [
    "Stochastic Gradient Descent"
   ]
  },
  {
   "cell_type": "code",
   "execution_count": 49,
   "id": "arranged-correlation",
   "metadata": {},
   "outputs": [],
   "source": [
    "VGG16_SGD = load_model('face_detect_VGG16_SGD.h5')"
   ]
  },
  {
   "cell_type": "code",
   "execution_count": 50,
   "id": "metropolitan-novelty",
   "metadata": {},
   "outputs": [
    {
     "name": "stdout",
     "output_type": "stream",
     "text": [
      "WARNING:tensorflow:7 out of the last 1256 calls to <function Model.make_test_function.<locals>.test_function at 0x1a71329f28> triggered tf.function retracing. Tracing is expensive and the excessive number of tracings could be due to (1) creating @tf.function repeatedly in a loop, (2) passing tensors with different shapes, (3) passing Python objects instead of tensors. For (1), please define your @tf.function outside of the loop. For (2), @tf.function has experimental_relax_shapes=True option that relaxes argument shapes that can avoid unnecessary retracing. For (3), please refer to https://www.tensorflow.org/guide/function#controlling_retracing and https://www.tensorflow.org/api_docs/python/tf/function for  more details.\n",
      "1/1 [==============================] - 2s 2s/step - loss: 1.3180 - accuracy: 0.6667\n"
     ]
    },
    {
     "data": {
      "text/plain": [
       "[1.3179986476898193, 0.6666666865348816]"
      ]
     },
     "execution_count": 50,
     "metadata": {},
     "output_type": "execute_result"
    }
   ],
   "source": [
    "# Score trained model.\n",
    "VGG16_SGD.evaluate(X_test, Y_test)"
   ]
  },
  {
   "cell_type": "code",
   "execution_count": 62,
   "id": "equivalent-telephone",
   "metadata": {},
   "outputs": [
    {
     "name": "stdout",
     "output_type": "stream",
     "text": [
      "1/1 [==============================] - 1s 1s/step - loss: 1.3416 - accuracy: 0.4000\n"
     ]
    },
    {
     "data": {
      "text/plain": [
       "[1.341557502746582, 0.4000000059604645]"
      ]
     },
     "execution_count": 62,
     "metadata": {},
     "output_type": "execute_result"
    }
   ],
   "source": [
    "# Score trained model.\n",
    "VGG16_SGD.evaluate(X_valid, Y_valid)"
   ]
  },
  {
   "cell_type": "code",
   "execution_count": 51,
   "id": "hired-encyclopedia",
   "metadata": {},
   "outputs": [
    {
     "name": "stdout",
     "output_type": "stream",
     "text": [
      "WARNING:tensorflow:6 out of the last 6 calls to <function Model.make_predict_function.<locals>.predict_function at 0x1a6ea481e0> triggered tf.function retracing. Tracing is expensive and the excessive number of tracings could be due to (1) creating @tf.function repeatedly in a loop, (2) passing tensors with different shapes, (3) passing Python objects instead of tensors. For (1), please define your @tf.function outside of the loop. For (2), @tf.function has experimental_relax_shapes=True option that relaxes argument shapes that can avoid unnecessary retracing. For (3), please refer to https://www.tensorflow.org/guide/function#controlling_retracing and https://www.tensorflow.org/api_docs/python/tf/function for  more details.\n"
     ]
    }
   ],
   "source": [
    "# make predictions.\n",
    "pred_SGD = VGG16_SGD.predict(X_test)"
   ]
  },
  {
   "cell_type": "markdown",
   "id": "rising-newspaper",
   "metadata": {},
   "source": [
    "Adam"
   ]
  },
  {
   "cell_type": "code",
   "execution_count": 52,
   "id": "liquid-forward",
   "metadata": {},
   "outputs": [],
   "source": [
    "VGG16_Adam = load_model('face_detect_VGG16_Adam.h5')"
   ]
  },
  {
   "cell_type": "code",
   "execution_count": 53,
   "id": "small-clerk",
   "metadata": {},
   "outputs": [
    {
     "name": "stdout",
     "output_type": "stream",
     "text": [
      "WARNING:tensorflow:8 out of the last 1257 calls to <function Model.make_test_function.<locals>.test_function at 0x1a6e5d2268> triggered tf.function retracing. Tracing is expensive and the excessive number of tracings could be due to (1) creating @tf.function repeatedly in a loop, (2) passing tensors with different shapes, (3) passing Python objects instead of tensors. For (1), please define your @tf.function outside of the loop. For (2), @tf.function has experimental_relax_shapes=True option that relaxes argument shapes that can avoid unnecessary retracing. For (3), please refer to https://www.tensorflow.org/guide/function#controlling_retracing and https://www.tensorflow.org/api_docs/python/tf/function for  more details.\n",
      "1/1 [==============================] - 3s 3s/step - loss: 1.4872 - accuracy: 0.3333\n"
     ]
    },
    {
     "data": {
      "text/plain": [
       "[1.4871716499328613, 0.3333333432674408]"
      ]
     },
     "execution_count": 53,
     "metadata": {},
     "output_type": "execute_result"
    }
   ],
   "source": [
    "# Score trained model.\n",
    "VGG16_Adam.evaluate(X_test, Y_test)"
   ]
  },
  {
   "cell_type": "code",
   "execution_count": 64,
   "id": "stable-hospital",
   "metadata": {},
   "outputs": [
    {
     "name": "stdout",
     "output_type": "stream",
     "text": [
      "1/1 [==============================] - 1s 1s/step - loss: 1.4418 - accuracy: 0.4000\n"
     ]
    },
    {
     "data": {
      "text/plain": [
       "[1.4418236017227173, 0.4000000059604645]"
      ]
     },
     "execution_count": 64,
     "metadata": {},
     "output_type": "execute_result"
    }
   ],
   "source": [
    "# Score trained model.\n",
    "VGG16_Adam.evaluate(X_valid, Y_valid)"
   ]
  },
  {
   "cell_type": "code",
   "execution_count": 54,
   "id": "technical-tractor",
   "metadata": {},
   "outputs": [
    {
     "name": "stdout",
     "output_type": "stream",
     "text": [
      "WARNING:tensorflow:7 out of the last 7 calls to <function Model.make_predict_function.<locals>.predict_function at 0x1a6d7766a8> triggered tf.function retracing. Tracing is expensive and the excessive number of tracings could be due to (1) creating @tf.function repeatedly in a loop, (2) passing tensors with different shapes, (3) passing Python objects instead of tensors. For (1), please define your @tf.function outside of the loop. For (2), @tf.function has experimental_relax_shapes=True option that relaxes argument shapes that can avoid unnecessary retracing. For (3), please refer to https://www.tensorflow.org/guide/function#controlling_retracing and https://www.tensorflow.org/api_docs/python/tf/function for  more details.\n"
     ]
    }
   ],
   "source": [
    "# make predictions.\n",
    "pred_Adam = VGG16_Adam.predict(X_test)"
   ]
  },
  {
   "cell_type": "markdown",
   "id": "scheduled-sleeping",
   "metadata": {},
   "source": [
    "Adagrad"
   ]
  },
  {
   "cell_type": "code",
   "execution_count": 55,
   "id": "amazing-marriage",
   "metadata": {},
   "outputs": [],
   "source": [
    "VGG16_Adagrad = load_model('face_detect_VGG16_Adagrad.h5')"
   ]
  },
  {
   "cell_type": "code",
   "execution_count": 56,
   "id": "several-accused",
   "metadata": {},
   "outputs": [
    {
     "name": "stdout",
     "output_type": "stream",
     "text": [
      "WARNING:tensorflow:9 out of the last 1258 calls to <function Model.make_test_function.<locals>.test_function at 0x1a6e836048> triggered tf.function retracing. Tracing is expensive and the excessive number of tracings could be due to (1) creating @tf.function repeatedly in a loop, (2) passing tensors with different shapes, (3) passing Python objects instead of tensors. For (1), please define your @tf.function outside of the loop. For (2), @tf.function has experimental_relax_shapes=True option that relaxes argument shapes that can avoid unnecessary retracing. For (3), please refer to https://www.tensorflow.org/guide/function#controlling_retracing and https://www.tensorflow.org/api_docs/python/tf/function for  more details.\n",
      "1/1 [==============================] - 3s 3s/step - loss: 1.7762 - accuracy: 0.6667\n"
     ]
    },
    {
     "data": {
      "text/plain": [
       "[1.7762025594711304, 0.6666666865348816]"
      ]
     },
     "execution_count": 56,
     "metadata": {},
     "output_type": "execute_result"
    }
   ],
   "source": [
    "# Score trained model.\n",
    "VGG16_Adagrad.evaluate(X_test, Y_test)"
   ]
  },
  {
   "cell_type": "code",
   "execution_count": 65,
   "id": "specialized-implementation",
   "metadata": {},
   "outputs": [
    {
     "name": "stdout",
     "output_type": "stream",
     "text": [
      "1/1 [==============================] - 2s 2s/step - loss: 1.8143 - accuracy: 0.6000\n"
     ]
    },
    {
     "data": {
      "text/plain": [
       "[1.814327597618103, 0.6000000238418579]"
      ]
     },
     "execution_count": 65,
     "metadata": {},
     "output_type": "execute_result"
    }
   ],
   "source": [
    "# Score trained model.\n",
    "VGG16_Adagrad.evaluate(X_valid, Y_valid)"
   ]
  },
  {
   "cell_type": "code",
   "execution_count": 57,
   "id": "satellite-burning",
   "metadata": {},
   "outputs": [
    {
     "name": "stdout",
     "output_type": "stream",
     "text": [
      "WARNING:tensorflow:8 out of the last 8 calls to <function Model.make_predict_function.<locals>.predict_function at 0x1a6d4ab510> triggered tf.function retracing. Tracing is expensive and the excessive number of tracings could be due to (1) creating @tf.function repeatedly in a loop, (2) passing tensors with different shapes, (3) passing Python objects instead of tensors. For (1), please define your @tf.function outside of the loop. For (2), @tf.function has experimental_relax_shapes=True option that relaxes argument shapes that can avoid unnecessary retracing. For (3), please refer to https://www.tensorflow.org/guide/function#controlling_retracing and https://www.tensorflow.org/api_docs/python/tf/function for  more details.\n"
     ]
    }
   ],
   "source": [
    "# make predictions.\n",
    "pred_Adagrad = VGG16_Adagrad.predict(X_test)"
   ]
  },
  {
   "cell_type": "markdown",
   "id": "severe-least",
   "metadata": {},
   "source": [
    "Adadelta"
   ]
  },
  {
   "cell_type": "code",
   "execution_count": 58,
   "id": "accompanied-native",
   "metadata": {},
   "outputs": [],
   "source": [
    "VGG16_Adadelta = load_model('face_detect_VGG16_Adadelta.h5')"
   ]
  },
  {
   "cell_type": "code",
   "execution_count": 59,
   "id": "loved-legend",
   "metadata": {},
   "outputs": [
    {
     "name": "stdout",
     "output_type": "stream",
     "text": [
      "WARNING:tensorflow:10 out of the last 1259 calls to <function Model.make_test_function.<locals>.test_function at 0x1a6d426f28> triggered tf.function retracing. Tracing is expensive and the excessive number of tracings could be due to (1) creating @tf.function repeatedly in a loop, (2) passing tensors with different shapes, (3) passing Python objects instead of tensors. For (1), please define your @tf.function outside of the loop. For (2), @tf.function has experimental_relax_shapes=True option that relaxes argument shapes that can avoid unnecessary retracing. For (3), please refer to https://www.tensorflow.org/guide/function#controlling_retracing and https://www.tensorflow.org/api_docs/python/tf/function for  more details.\n",
      "1/1 [==============================] - 3s 3s/step - loss: 2.0885 - accuracy: 0.6667\n"
     ]
    },
    {
     "data": {
      "text/plain": [
       "[2.088503837585449, 0.6666666865348816]"
      ]
     },
     "execution_count": 59,
     "metadata": {},
     "output_type": "execute_result"
    }
   ],
   "source": [
    "# Score trained model.\n",
    "VGG16_Adadelta.evaluate(X_test, Y_test)"
   ]
  },
  {
   "cell_type": "code",
   "execution_count": 66,
   "id": "shared-starter",
   "metadata": {},
   "outputs": [
    {
     "name": "stdout",
     "output_type": "stream",
     "text": [
      "1/1 [==============================] - 1s 1s/step - loss: 2.5469 - accuracy: 0.6000\n"
     ]
    },
    {
     "data": {
      "text/plain": [
       "[2.546923875808716, 0.6000000238418579]"
      ]
     },
     "execution_count": 66,
     "metadata": {},
     "output_type": "execute_result"
    }
   ],
   "source": [
    "# Score trained model.\n",
    "VGG16_Adadelta.evaluate(X_valid, Y_valid)"
   ]
  },
  {
   "cell_type": "code",
   "execution_count": 60,
   "id": "headed-aberdeen",
   "metadata": {},
   "outputs": [
    {
     "name": "stdout",
     "output_type": "stream",
     "text": [
      "WARNING:tensorflow:9 out of the last 9 calls to <function Model.make_predict_function.<locals>.predict_function at 0x1a6cd62ea0> triggered tf.function retracing. Tracing is expensive and the excessive number of tracings could be due to (1) creating @tf.function repeatedly in a loop, (2) passing tensors with different shapes, (3) passing Python objects instead of tensors. For (1), please define your @tf.function outside of the loop. For (2), @tf.function has experimental_relax_shapes=True option that relaxes argument shapes that can avoid unnecessary retracing. For (3), please refer to https://www.tensorflow.org/guide/function#controlling_retracing and https://www.tensorflow.org/api_docs/python/tf/function for  more details.\n"
     ]
    }
   ],
   "source": [
    "# make predictions.\n",
    "pred_Adadelta = VGG16_Adadelta.predict(X_test)"
   ]
  },
  {
   "cell_type": "markdown",
   "id": "weighted-transaction",
   "metadata": {},
   "source": [
    "RMSProp"
   ]
  },
  {
   "cell_type": "code",
   "execution_count": 78,
   "id": "broke-audit",
   "metadata": {},
   "outputs": [],
   "source": [
    "VGG16_RMSProp = load_model('face_detect_VGG16_RMSProp.h5')"
   ]
  },
  {
   "cell_type": "code",
   "execution_count": 79,
   "id": "talented-profession",
   "metadata": {},
   "outputs": [
    {
     "name": "stdout",
     "output_type": "stream",
     "text": [
      "1/1 [==============================] - 2s 2s/step - loss: 0.8650 - accuracy: 0.5556\n"
     ]
    },
    {
     "data": {
      "text/plain": [
       "[0.865013837814331, 0.5555555820465088]"
      ]
     },
     "execution_count": 79,
     "metadata": {},
     "output_type": "execute_result"
    }
   ],
   "source": [
    "# Score trained model.\n",
    "VGG16_RMSProp.evaluate(X_test, Y_test)"
   ]
  },
  {
   "cell_type": "code",
   "execution_count": 80,
   "id": "eastern-anchor",
   "metadata": {},
   "outputs": [
    {
     "name": "stdout",
     "output_type": "stream",
     "text": [
      "1/1 [==============================] - 1s 1s/step - loss: 0.9849 - accuracy: 0.8000\n"
     ]
    },
    {
     "data": {
      "text/plain": [
       "[0.9849337339401245, 0.800000011920929]"
      ]
     },
     "execution_count": 80,
     "metadata": {},
     "output_type": "execute_result"
    }
   ],
   "source": [
    "# Score trained model.\n",
    "VGG16_RMSProp.evaluate(X_valid, Y_valid)"
   ]
  },
  {
   "cell_type": "code",
   "execution_count": 81,
   "id": "armed-destiny",
   "metadata": {},
   "outputs": [
    {
     "name": "stdout",
     "output_type": "stream",
     "text": [
      "WARNING:tensorflow:11 out of the last 11 calls to <function Model.make_predict_function.<locals>.predict_function at 0x1a712b6268> triggered tf.function retracing. Tracing is expensive and the excessive number of tracings could be due to (1) creating @tf.function repeatedly in a loop, (2) passing tensors with different shapes, (3) passing Python objects instead of tensors. For (1), please define your @tf.function outside of the loop. For (2), @tf.function has experimental_relax_shapes=True option that relaxes argument shapes that can avoid unnecessary retracing. For (3), please refer to https://www.tensorflow.org/guide/function#controlling_retracing and https://www.tensorflow.org/api_docs/python/tf/function for  more details.\n"
     ]
    }
   ],
   "source": [
    "# make predictions.\n",
    "pred_RMSProp = VGG16_RMSProp.predict(X_test)"
   ]
  },
  {
   "cell_type": "markdown",
   "id": "decreased-spirit",
   "metadata": {},
   "source": [
    "## Model Evaluation - model accuracy/loss curves"
   ]
  },
  {
   "cell_type": "code",
   "execution_count": 73,
   "id": "dressed-hormone",
   "metadata": {},
   "outputs": [
    {
     "data": {
      "image/png": "[encoded data removed]",
      "text/plain": [
       "<Figure size 1080x360 with 2 Axes>"
      ]
     },
     "metadata": {
      "needs_background": "light"
     },
     "output_type": "display_data"
    }
   ],
   "source": [
    "def plotmodelhistory(history): \n",
    "    fig, axs = plt.subplots(1,2,figsize=(15,5)) \n",
    "    # summarize history for accuracy\n",
    "    axs[0].plot(history.history['accuracy'], color=\"orange\")\n",
    "    axs[0].plot(history.history['val_accuracy'], color=\"yellow\") \n",
    "    axs[0].set_title('Model Accuracy(VGG16+Adagrad)')\n",
    "    axs[0].set_ylabel('Accuracy') \n",
    "    axs[0].set_xlabel('Epoch')\n",
    "    axs[0].set_facecolor('xkcd:black')\n",
    "    axs[0].legend(['train', 'validate'], loc='upper left')\n",
    "    # summarize history for loss\n",
    "    axs[1].plot(history.history['loss'], color=\"orange\") \n",
    "    axs[1].plot(history.history['val_accuracy'], color=\"yellow\") \n",
    "    axs[1].set_title('Model Loss(VGG16+Adagrad)')\n",
    "    axs[1].set_ylabel('Loss') \n",
    "    axs[1].set_xlabel('Epoch')\n",
    "    axs[1].set_facecolor('xkcd:black')\n",
    "    axs[1].legend(['train', 'validate'], loc='upper left')\n",
    "    plt.show()\n",
    "\n",
    "plotmodelhistory(history_RMSProp)"
   ]
  },
  {
   "cell_type": "markdown",
   "id": "little-america",
   "metadata": {},
   "source": [
    "## Model Evaluation - confusion matrix"
   ]
  },
  {
   "cell_type": "code",
   "execution_count": 43,
   "id": "aerial-lover",
   "metadata": {},
   "outputs": [],
   "source": [
    "def heatmap(data, row_labels, col_labels, ax=None, cbar_kw={}, cbarlabel=\"\", **kwargs):\n",
    "    \"\"\"\n",
    "    Create a heatmap from a numpy array and two lists of labels.\n",
    "    \"\"\"\n",
    "    # Plot the heatmap\n",
    "    im = ax.imshow(data, **kwargs)\n",
    "\n",
    "    # Create colorbar\n",
    "    cbar = ax.figure.colorbar(im, ax=ax, **cbar_kw)\n",
    "    cbar.ax.set_ylabel(cbarlabel, rotation=-90, va=\"bottom\")\n",
    "\n",
    "    # Let the horizontal axes labeling appear on top.\n",
    "    ax.tick_params(top=True, bottom=False, labeltop=True, labelbottom=False)\n",
    "    # Show all ticks\n",
    "    ax.set_xticks(np.arange(data.shape[1]))\n",
    "    ax.set_yticks(np.arange(data.shape[0]))\n",
    "    # Label ticks with the respective list entries.\n",
    "    ax.set_xticklabels(col_labels)\n",
    "    ax.set_yticklabels(row_labels)\n",
    "    \n",
    "    ax.set_xlabel('Predicted Label') \n",
    "    ax.set_ylabel('True Label')\n",
    "    \n",
    "    return im, cbar\n",
    "\n",
    "def annotate_heatmap(im, data=None, fmt=\"d\", threshold=None):\n",
    "    \"\"\"\n",
    "    A function to annotate a heatmap.\n",
    "    \"\"\"\n",
    "    # Change the text's color depending on the data.\n",
    "    texts = []\n",
    "    for i in range(data.shape[0]):\n",
    "        for j in range(data.shape[1]):\n",
    "            text = im.axes.text(j, i, format(data[i, j], fmt), horizontalalignment=\"center\",\n",
    "                                 color=\"white\" if data[i, j] > thresh else \"black\")\n",
    "            texts.append(text)\n",
    "\n",
    "    return texts"
   ]
  },
  {
   "cell_type": "code",
   "execution_count": 82,
   "id": "innovative-amino",
   "metadata": {},
   "outputs": [
    {
     "data": {
      "image/png": "[encoded data removed]",
      "text/plain": [
       "<Figure size 864x864 with 2 Axes>"
      ]
     },
     "metadata": {
      "needs_background": "light"
     },
     "output_type": "display_data"
    }
   ],
   "source": [
    "labels = ['Ennie','Jimmy','Biden','Elizabeth II','Teresa']\n",
    "\n",
    "# Convert predictions classes to one hot vectors \n",
    "Y_pred_classes = np.argmax(pred_RMSProp, axis=1) \n",
    "# Convert validation observations to one hot vectors\n",
    "Y_true = np.argmax(Y_test, axis=1)\n",
    "# Errors are difference between predicted labels and true labels\n",
    "errors = (Y_pred_classes - Y_true != 0)\n",
    "\n",
    "Y_pred_classes_errors = Y_pred_classes[errors]\n",
    "Y_pred_errors = pred_RMSProp[errors]\n",
    "Y_true_errors = Y_true[errors]\n",
    "X_valid_errors = X_test[errors]\n",
    "\n",
    "cm = confusion_matrix(Y_true, Y_pred_classes) \n",
    "thresh = cm.max() / 2.\n",
    "\n",
    "fig, ax = plt.subplots(figsize=(12,12))\n",
    "im, cbar = heatmap(cm, labels, labels, ax=ax, cmap=plt.cm.Oranges, cbarlabel=\"count of predictions\")\n",
    "texts = annotate_heatmap(im, data=cm, threshold=thresh)\n",
    "\n",
    "fig.tight_layout()\n",
    "plt.show()"
   ]
  },
  {
   "cell_type": "code",
   "execution_count": null,
   "id": "complicated-lebanon",
   "metadata": {},
   "outputs": [],
   "source": []
  },
  {
   "cell_type": "code",
   "execution_count": null,
   "id": "rough-floating",
   "metadata": {},
   "outputs": [],
   "source": []
  },
  {
   "cell_type": "code",
   "execution_count": null,
   "id": "naked-trinity",
   "metadata": {},
   "outputs": [],
   "source": []
  },
  {
   "cell_type": "code",
   "execution_count": null,
   "id": "threaded-malpractice",
   "metadata": {},
   "outputs": [],
   "source": []
  }
 ],
 "metadata": {
  "kernelspec": {
   "display_name": "Python 3",
   "language": "python",
   "name": "python3"
  },
  "language_info": {
   "codemirror_mode": {
    "name": "ipython",
    "version": 3
   },
   "file_extension": ".py",
   "mimetype": "text/x-python",
   "name": "python",
   "nbconvert_exporter": "python",
   "pygments_lexer": "ipython3",
   "version": "3.6.4"
  }
 },
 "nbformat": 4,
 "nbformat_minor": 5
}
