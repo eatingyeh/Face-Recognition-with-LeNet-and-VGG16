{
 "cells": [
  {
   "cell_type": "markdown",
   "id": "antique-delta",
   "metadata": {},
   "source": [
    "## Description\n",
    "This code is used to generate dataframe to store information of the dataset"
   ]
  },
  {
   "cell_type": "code",
   "execution_count": 1,
   "id": "suburban-horizon",
   "metadata": {},
   "outputs": [],
   "source": [
    "#import used libraries\n",
    "import os\n",
    "import numpy as np\n",
    "import pandas as pd\n",
    "import dlib\n",
    "from skimage import io\n",
    "from PIL import Image\n",
    "import pathlib\n",
    "import glob\n",
    "import cv2\n",
    "from tqdm import tqdm, tqdm_notebook\n",
    "from sklearn.model_selection import train_test_split\n",
    "import ntpath\n",
    "from sklearn.preprocessing import OneHotEncoder"
   ]
  },
  {
   "cell_type": "markdown",
   "id": "cooperative-tumor",
   "metadata": {},
   "source": [
    "## Data Preprocessing"
   ]
  },
  {
   "cell_type": "markdown",
   "id": "alive-design",
   "metadata": {},
   "source": [
    "### Loading - Ennie"
   ]
  },
  {
   "cell_type": "code",
   "execution_count": 2,
   "id": "olympic-washington",
   "metadata": {},
   "outputs": [],
   "source": [
    "ennie = glob.glob(\"./People/Ennie/*\")"
   ]
  },
  {
   "cell_type": "code",
   "execution_count": 3,
   "id": "whole-demonstration",
   "metadata": {},
   "outputs": [],
   "source": [
    "ennie_folderName = [os.path.dirname(i) for i in ennie]\n",
    "ennie_imageName = [ntpath.split(i)[1] for i in ennie]\n",
    "ennie_personName = [[\"Ennie\"]*len(ennie)][0]\n",
    "ennie_label = [1]*len(ennie)\n",
    "\n",
    "ennie_id = []\n",
    "ennie_old_id = []\n",
    "for item in ennie_imageName:\n",
    "    ennie_id.append('./People_after1/Ennie/' + item)\n",
    "for item in ennie_imageName:\n",
    "    ennie_old_id.append('./People/Ennie/' + item)"
   ]
  },
  {
   "cell_type": "code",
   "execution_count": 4,
   "id": "classified-exclusive",
   "metadata": {},
   "outputs": [
    {
     "data": {
      "text/html": [
       "<div>\n",
       "<style scoped>\n",
       "    .dataframe tbody tr th:only-of-type {\n",
       "        vertical-align: middle;\n",
       "    }\n",
       "\n",
       "    .dataframe tbody tr th {\n",
       "        vertical-align: top;\n",
       "    }\n",
       "\n",
       "    .dataframe thead th {\n",
       "        text-align: right;\n",
       "    }\n",
       "</style>\n",
       "<table border=\"1\" class=\"dataframe\">\n",
       "  <thead>\n",
       "    <tr style=\"text-align: right;\">\n",
       "      <th></th>\n",
       "      <th>Id</th>\n",
       "      <th>Old_Id</th>\n",
       "      <th>Folder_Name</th>\n",
       "      <th>Image_Name</th>\n",
       "      <th>Person_Name</th>\n",
       "      <th>Labels</th>\n",
       "    </tr>\n",
       "  </thead>\n",
       "  <tbody>\n",
       "    <tr>\n",
       "      <th>0</th>\n",
       "      <td>./People_after1/Ennie/Ennie07.JPG</td>\n",
       "      <td>./People/Ennie/Ennie07.JPG</td>\n",
       "      <td>./People/Ennie</td>\n",
       "      <td>Ennie07.JPG</td>\n",
       "      <td>Ennie</td>\n",
       "      <td>1</td>\n",
       "    </tr>\n",
       "    <tr>\n",
       "      <th>1</th>\n",
       "      <td>./People_after1/Ennie/Ennie06.JPG</td>\n",
       "      <td>./People/Ennie/Ennie06.JPG</td>\n",
       "      <td>./People/Ennie</td>\n",
       "      <td>Ennie06.JPG</td>\n",
       "      <td>Ennie</td>\n",
       "      <td>1</td>\n",
       "    </tr>\n",
       "    <tr>\n",
       "      <th>2</th>\n",
       "      <td>./People_after1/Ennie/Ennie10.JPG</td>\n",
       "      <td>./People/Ennie/Ennie10.JPG</td>\n",
       "      <td>./People/Ennie</td>\n",
       "      <td>Ennie10.JPG</td>\n",
       "      <td>Ennie</td>\n",
       "      <td>1</td>\n",
       "    </tr>\n",
       "    <tr>\n",
       "      <th>3</th>\n",
       "      <td>./People_after1/Ennie/Ennie04.JPG</td>\n",
       "      <td>./People/Ennie/Ennie04.JPG</td>\n",
       "      <td>./People/Ennie</td>\n",
       "      <td>Ennie04.JPG</td>\n",
       "      <td>Ennie</td>\n",
       "      <td>1</td>\n",
       "    </tr>\n",
       "    <tr>\n",
       "      <th>4</th>\n",
       "      <td>./People_after1/Ennie/Ennie05.JPG</td>\n",
       "      <td>./People/Ennie/Ennie05.JPG</td>\n",
       "      <td>./People/Ennie</td>\n",
       "      <td>Ennie05.JPG</td>\n",
       "      <td>Ennie</td>\n",
       "      <td>1</td>\n",
       "    </tr>\n",
       "  </tbody>\n",
       "</table>\n",
       "</div>"
      ],
      "text/plain": [
       "                                  Id                      Old_Id  \\\n",
       "0  ./People_after1/Ennie/Ennie07.JPG  ./People/Ennie/Ennie07.JPG   \n",
       "1  ./People_after1/Ennie/Ennie06.JPG  ./People/Ennie/Ennie06.JPG   \n",
       "2  ./People_after1/Ennie/Ennie10.JPG  ./People/Ennie/Ennie10.JPG   \n",
       "3  ./People_after1/Ennie/Ennie04.JPG  ./People/Ennie/Ennie04.JPG   \n",
       "4  ./People_after1/Ennie/Ennie05.JPG  ./People/Ennie/Ennie05.JPG   \n",
       "\n",
       "      Folder_Name   Image_Name Person_Name  Labels  \n",
       "0  ./People/Ennie  Ennie07.JPG       Ennie       1  \n",
       "1  ./People/Ennie  Ennie06.JPG       Ennie       1  \n",
       "2  ./People/Ennie  Ennie10.JPG       Ennie       1  \n",
       "3  ./People/Ennie  Ennie04.JPG       Ennie       1  \n",
       "4  ./People/Ennie  Ennie05.JPG       Ennie       1  "
      ]
     },
     "execution_count": 4,
     "metadata": {},
     "output_type": "execute_result"
    }
   ],
   "source": [
    "ennie_df = pd.DataFrame()\n",
    "ennie_df[\"Id\"] = ennie_id\n",
    "ennie_df[\"Old_Id\"] = ennie_old_id\n",
    "ennie_df[\"Folder_Name\"] = ennie_folderName\n",
    "ennie_df[\"Image_Name\"] = ennie_imageName\n",
    "ennie_df[\"Person_Name\"] = ennie_personName\n",
    "ennie_df[\"Labels\"] = ennie_label\n",
    "ennie_df.head()"
   ]
  },
  {
   "cell_type": "markdown",
   "id": "velvet-gamma",
   "metadata": {},
   "source": [
    "### Loading - Jimmy"
   ]
  },
  {
   "cell_type": "code",
   "execution_count": 5,
   "id": "super-welding",
   "metadata": {},
   "outputs": [],
   "source": [
    "jimmy = glob.glob(\"./People/Jimmy/*\")"
   ]
  },
  {
   "cell_type": "code",
   "execution_count": 6,
   "id": "medieval-upper",
   "metadata": {},
   "outputs": [],
   "source": [
    "jimmy_folderName = [os.path.dirname(i) for i in jimmy]\n",
    "jimmy_imageName = [ntpath.split(i)[1] for i in jimmy]\n",
    "jimmy_personName = [[\"Jimmy\"]*len(jimmy)][0]\n",
    "jimmy_label = [2]*len(jimmy)\n",
    "\n",
    "jimmy_id = []\n",
    "jimmy_old_id = []\n",
    "for item in jimmy_imageName:\n",
    "    jimmy_id.append('./People_after1/Jimmy/' + item)\n",
    "for item in jimmy_imageName:\n",
    "    jimmy_old_id.append('./People/Jimmy/' + item)"
   ]
  },
  {
   "cell_type": "code",
   "execution_count": 7,
   "id": "muslim-greeting",
   "metadata": {},
   "outputs": [
    {
     "data": {
      "text/html": [
       "<div>\n",
       "<style scoped>\n",
       "    .dataframe tbody tr th:only-of-type {\n",
       "        vertical-align: middle;\n",
       "    }\n",
       "\n",
       "    .dataframe tbody tr th {\n",
       "        vertical-align: top;\n",
       "    }\n",
       "\n",
       "    .dataframe thead th {\n",
       "        text-align: right;\n",
       "    }\n",
       "</style>\n",
       "<table border=\"1\" class=\"dataframe\">\n",
       "  <thead>\n",
       "    <tr style=\"text-align: right;\">\n",
       "      <th></th>\n",
       "      <th>Id</th>\n",
       "      <th>Old_Id</th>\n",
       "      <th>Folder_Name</th>\n",
       "      <th>Image_Name</th>\n",
       "      <th>Person_Name</th>\n",
       "      <th>Labels</th>\n",
       "    </tr>\n",
       "  </thead>\n",
       "  <tbody>\n",
       "    <tr>\n",
       "      <th>0</th>\n",
       "      <td>./People_after1/Jimmy/Jimmy08.JPG</td>\n",
       "      <td>./People/Jimmy/Jimmy08.JPG</td>\n",
       "      <td>./People/Jimmy</td>\n",
       "      <td>Jimmy08.JPG</td>\n",
       "      <td>Jimmy</td>\n",
       "      <td>2</td>\n",
       "    </tr>\n",
       "    <tr>\n",
       "      <th>1</th>\n",
       "      <td>./People_after1/Jimmy/Jimmy09.JPG</td>\n",
       "      <td>./People/Jimmy/Jimmy09.JPG</td>\n",
       "      <td>./People/Jimmy</td>\n",
       "      <td>Jimmy09.JPG</td>\n",
       "      <td>Jimmy</td>\n",
       "      <td>2</td>\n",
       "    </tr>\n",
       "    <tr>\n",
       "      <th>2</th>\n",
       "      <td>./People_after1/Jimmy/Jimmy02.JPG</td>\n",
       "      <td>./People/Jimmy/Jimmy02.JPG</td>\n",
       "      <td>./People/Jimmy</td>\n",
       "      <td>Jimmy02.JPG</td>\n",
       "      <td>Jimmy</td>\n",
       "      <td>2</td>\n",
       "    </tr>\n",
       "    <tr>\n",
       "      <th>3</th>\n",
       "      <td>./People_after1/Jimmy/Jimmy03.JPG</td>\n",
       "      <td>./People/Jimmy/Jimmy03.JPG</td>\n",
       "      <td>./People/Jimmy</td>\n",
       "      <td>Jimmy03.JPG</td>\n",
       "      <td>Jimmy</td>\n",
       "      <td>2</td>\n",
       "    </tr>\n",
       "    <tr>\n",
       "      <th>4</th>\n",
       "      <td>./People_after1/Jimmy/Jimmy01.JPG</td>\n",
       "      <td>./People/Jimmy/Jimmy01.JPG</td>\n",
       "      <td>./People/Jimmy</td>\n",
       "      <td>Jimmy01.JPG</td>\n",
       "      <td>Jimmy</td>\n",
       "      <td>2</td>\n",
       "    </tr>\n",
       "  </tbody>\n",
       "</table>\n",
       "</div>"
      ],
      "text/plain": [
       "                                  Id                      Old_Id  \\\n",
       "0  ./People_after1/Jimmy/Jimmy08.JPG  ./People/Jimmy/Jimmy08.JPG   \n",
       "1  ./People_after1/Jimmy/Jimmy09.JPG  ./People/Jimmy/Jimmy09.JPG   \n",
       "2  ./People_after1/Jimmy/Jimmy02.JPG  ./People/Jimmy/Jimmy02.JPG   \n",
       "3  ./People_after1/Jimmy/Jimmy03.JPG  ./People/Jimmy/Jimmy03.JPG   \n",
       "4  ./People_after1/Jimmy/Jimmy01.JPG  ./People/Jimmy/Jimmy01.JPG   \n",
       "\n",
       "      Folder_Name   Image_Name Person_Name  Labels  \n",
       "0  ./People/Jimmy  Jimmy08.JPG       Jimmy       2  \n",
       "1  ./People/Jimmy  Jimmy09.JPG       Jimmy       2  \n",
       "2  ./People/Jimmy  Jimmy02.JPG       Jimmy       2  \n",
       "3  ./People/Jimmy  Jimmy03.JPG       Jimmy       2  \n",
       "4  ./People/Jimmy  Jimmy01.JPG       Jimmy       2  "
      ]
     },
     "execution_count": 7,
     "metadata": {},
     "output_type": "execute_result"
    }
   ],
   "source": [
    "jimmy_df = pd.DataFrame()\n",
    "jimmy_df[\"Id\"] = jimmy_id\n",
    "jimmy_df[\"Old_Id\"] = jimmy_old_id\n",
    "jimmy_df[\"Folder_Name\"] = jimmy_folderName\n",
    "jimmy_df[\"Image_Name\"] = jimmy_imageName\n",
    "jimmy_df[\"Person_Name\"] = jimmy_personName\n",
    "jimmy_df[\"Labels\"] = jimmy_label\n",
    "jimmy_df.head()"
   ]
  },
  {
   "cell_type": "markdown",
   "id": "developing-egyptian",
   "metadata": {},
   "source": [
    "### Loading - Biden"
   ]
  },
  {
   "cell_type": "code",
   "execution_count": 8,
   "id": "quality-species",
   "metadata": {},
   "outputs": [],
   "source": [
    "biden = glob.glob(\"./People/Biden/*\")"
   ]
  },
  {
   "cell_type": "code",
   "execution_count": 9,
   "id": "balanced-shelter",
   "metadata": {},
   "outputs": [],
   "source": [
    "biden_folderName = [os.path.dirname(i) for i in biden]\n",
    "biden_imageName = [ntpath.split(i)[1] for i in biden]\n",
    "biden_personName = [[\"Biden\"]*len(biden)][0]\n",
    "biden_label = [3]*len(biden)\n",
    "\n",
    "biden_id = []\n",
    "biden_old_id = []\n",
    "for item in biden_imageName:\n",
    "    biden_id.append('./People_after1/Biden/' + item)\n",
    "for item in biden_imageName:\n",
    "    biden_old_id.append('./People/Biden/' + item)"
   ]
  },
  {
   "cell_type": "code",
   "execution_count": 10,
   "id": "crazy-silence",
   "metadata": {},
   "outputs": [
    {
     "data": {
      "text/html": [
       "<div>\n",
       "<style scoped>\n",
       "    .dataframe tbody tr th:only-of-type {\n",
       "        vertical-align: middle;\n",
       "    }\n",
       "\n",
       "    .dataframe tbody tr th {\n",
       "        vertical-align: top;\n",
       "    }\n",
       "\n",
       "    .dataframe thead th {\n",
       "        text-align: right;\n",
       "    }\n",
       "</style>\n",
       "<table border=\"1\" class=\"dataframe\">\n",
       "  <thead>\n",
       "    <tr style=\"text-align: right;\">\n",
       "      <th></th>\n",
       "      <th>Id</th>\n",
       "      <th>Old_Id</th>\n",
       "      <th>Folder_Name</th>\n",
       "      <th>Image_Name</th>\n",
       "      <th>Person_Name</th>\n",
       "      <th>Labels</th>\n",
       "    </tr>\n",
       "  </thead>\n",
       "  <tbody>\n",
       "    <tr>\n",
       "      <th>0</th>\n",
       "      <td>./People_after1/Biden/Biden02.jpeg</td>\n",
       "      <td>./People/Biden/Biden02.jpeg</td>\n",
       "      <td>./People/Biden</td>\n",
       "      <td>Biden02.jpeg</td>\n",
       "      <td>Biden</td>\n",
       "      <td>3</td>\n",
       "    </tr>\n",
       "    <tr>\n",
       "      <th>1</th>\n",
       "      <td>./People_after1/Biden/Biden03.jpeg</td>\n",
       "      <td>./People/Biden/Biden03.jpeg</td>\n",
       "      <td>./People/Biden</td>\n",
       "      <td>Biden03.jpeg</td>\n",
       "      <td>Biden</td>\n",
       "      <td>3</td>\n",
       "    </tr>\n",
       "    <tr>\n",
       "      <th>2</th>\n",
       "      <td>./People_after1/Biden/Biden08.jpeg</td>\n",
       "      <td>./People/Biden/Biden08.jpeg</td>\n",
       "      <td>./People/Biden</td>\n",
       "      <td>Biden08.jpeg</td>\n",
       "      <td>Biden</td>\n",
       "      <td>3</td>\n",
       "    </tr>\n",
       "    <tr>\n",
       "      <th>3</th>\n",
       "      <td>./People_after1/Biden/Biden04.jpeg</td>\n",
       "      <td>./People/Biden/Biden04.jpeg</td>\n",
       "      <td>./People/Biden</td>\n",
       "      <td>Biden04.jpeg</td>\n",
       "      <td>Biden</td>\n",
       "      <td>3</td>\n",
       "    </tr>\n",
       "    <tr>\n",
       "      <th>4</th>\n",
       "      <td>./People_after1/Biden/Biden05.jpeg</td>\n",
       "      <td>./People/Biden/Biden05.jpeg</td>\n",
       "      <td>./People/Biden</td>\n",
       "      <td>Biden05.jpeg</td>\n",
       "      <td>Biden</td>\n",
       "      <td>3</td>\n",
       "    </tr>\n",
       "    <tr>\n",
       "      <th>5</th>\n",
       "      <td>./People_after1/Biden/Biden09.jpeg</td>\n",
       "      <td>./People/Biden/Biden09.jpeg</td>\n",
       "      <td>./People/Biden</td>\n",
       "      <td>Biden09.jpeg</td>\n",
       "      <td>Biden</td>\n",
       "      <td>3</td>\n",
       "    </tr>\n",
       "    <tr>\n",
       "      <th>6</th>\n",
       "      <td>./People_after1/Biden/Biden10.jpeg</td>\n",
       "      <td>./People/Biden/Biden10.jpeg</td>\n",
       "      <td>./People/Biden</td>\n",
       "      <td>Biden10.jpeg</td>\n",
       "      <td>Biden</td>\n",
       "      <td>3</td>\n",
       "    </tr>\n",
       "    <tr>\n",
       "      <th>7</th>\n",
       "      <td>./People_after1/Biden/Biden07.jpg</td>\n",
       "      <td>./People/Biden/Biden07.jpg</td>\n",
       "      <td>./People/Biden</td>\n",
       "      <td>Biden07.jpg</td>\n",
       "      <td>Biden</td>\n",
       "      <td>3</td>\n",
       "    </tr>\n",
       "    <tr>\n",
       "      <th>8</th>\n",
       "      <td>./People_after1/Biden/Biden06.jpg</td>\n",
       "      <td>./People/Biden/Biden06.jpg</td>\n",
       "      <td>./People/Biden</td>\n",
       "      <td>Biden06.jpg</td>\n",
       "      <td>Biden</td>\n",
       "      <td>3</td>\n",
       "    </tr>\n",
       "    <tr>\n",
       "      <th>9</th>\n",
       "      <td>./People_after1/Biden/Biden01.jpeg</td>\n",
       "      <td>./People/Biden/Biden01.jpeg</td>\n",
       "      <td>./People/Biden</td>\n",
       "      <td>Biden01.jpeg</td>\n",
       "      <td>Biden</td>\n",
       "      <td>3</td>\n",
       "    </tr>\n",
       "  </tbody>\n",
       "</table>\n",
       "</div>"
      ],
      "text/plain": [
       "                                   Id                       Old_Id  \\\n",
       "0  ./People_after1/Biden/Biden02.jpeg  ./People/Biden/Biden02.jpeg   \n",
       "1  ./People_after1/Biden/Biden03.jpeg  ./People/Biden/Biden03.jpeg   \n",
       "2  ./People_after1/Biden/Biden08.jpeg  ./People/Biden/Biden08.jpeg   \n",
       "3  ./People_after1/Biden/Biden04.jpeg  ./People/Biden/Biden04.jpeg   \n",
       "4  ./People_after1/Biden/Biden05.jpeg  ./People/Biden/Biden05.jpeg   \n",
       "5  ./People_after1/Biden/Biden09.jpeg  ./People/Biden/Biden09.jpeg   \n",
       "6  ./People_after1/Biden/Biden10.jpeg  ./People/Biden/Biden10.jpeg   \n",
       "7   ./People_after1/Biden/Biden07.jpg   ./People/Biden/Biden07.jpg   \n",
       "8   ./People_after1/Biden/Biden06.jpg   ./People/Biden/Biden06.jpg   \n",
       "9  ./People_after1/Biden/Biden01.jpeg  ./People/Biden/Biden01.jpeg   \n",
       "\n",
       "      Folder_Name    Image_Name Person_Name  Labels  \n",
       "0  ./People/Biden  Biden02.jpeg       Biden       3  \n",
       "1  ./People/Biden  Biden03.jpeg       Biden       3  \n",
       "2  ./People/Biden  Biden08.jpeg       Biden       3  \n",
       "3  ./People/Biden  Biden04.jpeg       Biden       3  \n",
       "4  ./People/Biden  Biden05.jpeg       Biden       3  \n",
       "5  ./People/Biden  Biden09.jpeg       Biden       3  \n",
       "6  ./People/Biden  Biden10.jpeg       Biden       3  \n",
       "7  ./People/Biden   Biden07.jpg       Biden       3  \n",
       "8  ./People/Biden   Biden06.jpg       Biden       3  \n",
       "9  ./People/Biden  Biden01.jpeg       Biden       3  "
      ]
     },
     "execution_count": 10,
     "metadata": {},
     "output_type": "execute_result"
    }
   ],
   "source": [
    "biden_df = pd.DataFrame()\n",
    "biden_df[\"Id\"] = biden_id\n",
    "biden_df[\"Old_Id\"] = biden_old_id\n",
    "biden_df[\"Folder_Name\"] = biden_folderName\n",
    "biden_df[\"Image_Name\"] = biden_imageName\n",
    "biden_df[\"Person_Name\"] = biden_personName\n",
    "biden_df[\"Labels\"] = biden_label\n",
    "biden_df.head(10)"
   ]
  },
  {
   "cell_type": "markdown",
   "id": "outstanding-techno",
   "metadata": {},
   "source": [
    "### Loading - Elizabeth II"
   ]
  },
  {
   "cell_type": "code",
   "execution_count": 11,
   "id": "proud-token",
   "metadata": {},
   "outputs": [],
   "source": [
    "elizabeth = glob.glob(\"./People/Elizabeth II/*\")"
   ]
  },
  {
   "cell_type": "code",
   "execution_count": 12,
   "id": "prompt-supervisor",
   "metadata": {},
   "outputs": [],
   "source": [
    "elizabeth_folderName = [os.path.dirname(i) for i in elizabeth]\n",
    "elizabeth_imageName = [ntpath.split(i)[1] for i in elizabeth]\n",
    "elizabeth_personName = [[\"Elizabeth II\"]*len(elizabeth)][0]\n",
    "elizabeth_label = [4]*len(elizabeth)\n",
    "\n",
    "elizabeth_id = []\n",
    "elizabeth_old_id = []\n",
    "for item in elizabeth_imageName:\n",
    "    elizabeth_id.append('./People_after1/Elizabeth II/' + item)\n",
    "for item in elizabeth_imageName:\n",
    "    elizabeth_old_id.append('./People/Elizabeth II/' + item)"
   ]
  },
  {
   "cell_type": "code",
   "execution_count": 13,
   "id": "acoustic-anniversary",
   "metadata": {},
   "outputs": [
    {
     "data": {
      "text/html": [
       "<div>\n",
       "<style scoped>\n",
       "    .dataframe tbody tr th:only-of-type {\n",
       "        vertical-align: middle;\n",
       "    }\n",
       "\n",
       "    .dataframe tbody tr th {\n",
       "        vertical-align: top;\n",
       "    }\n",
       "\n",
       "    .dataframe thead th {\n",
       "        text-align: right;\n",
       "    }\n",
       "</style>\n",
       "<table border=\"1\" class=\"dataframe\">\n",
       "  <thead>\n",
       "    <tr style=\"text-align: right;\">\n",
       "      <th></th>\n",
       "      <th>Id</th>\n",
       "      <th>Old_Id</th>\n",
       "      <th>Folder_Name</th>\n",
       "      <th>Image_Name</th>\n",
       "      <th>Person_Name</th>\n",
       "      <th>Labels</th>\n",
       "    </tr>\n",
       "  </thead>\n",
       "  <tbody>\n",
       "    <tr>\n",
       "      <th>0</th>\n",
       "      <td>./People_after1/Elizabeth II/Elizabeth01.jpeg</td>\n",
       "      <td>./People/Elizabeth II/Elizabeth01.jpeg</td>\n",
       "      <td>./People/Elizabeth II</td>\n",
       "      <td>Elizabeth01.jpeg</td>\n",
       "      <td>Elizabeth II</td>\n",
       "      <td>4</td>\n",
       "    </tr>\n",
       "    <tr>\n",
       "      <th>1</th>\n",
       "      <td>./People_after1/Elizabeth II/Elizabeth07.jpeg</td>\n",
       "      <td>./People/Elizabeth II/Elizabeth07.jpeg</td>\n",
       "      <td>./People/Elizabeth II</td>\n",
       "      <td>Elizabeth07.jpeg</td>\n",
       "      <td>Elizabeth II</td>\n",
       "      <td>4</td>\n",
       "    </tr>\n",
       "    <tr>\n",
       "      <th>2</th>\n",
       "      <td>./People_after1/Elizabeth II/Elizabeth10.jpeg</td>\n",
       "      <td>./People/Elizabeth II/Elizabeth10.jpeg</td>\n",
       "      <td>./People/Elizabeth II</td>\n",
       "      <td>Elizabeth10.jpeg</td>\n",
       "      <td>Elizabeth II</td>\n",
       "      <td>4</td>\n",
       "    </tr>\n",
       "    <tr>\n",
       "      <th>3</th>\n",
       "      <td>./People_after1/Elizabeth II/Elizabeth06.jpeg</td>\n",
       "      <td>./People/Elizabeth II/Elizabeth06.jpeg</td>\n",
       "      <td>./People/Elizabeth II</td>\n",
       "      <td>Elizabeth06.jpeg</td>\n",
       "      <td>Elizabeth II</td>\n",
       "      <td>4</td>\n",
       "    </tr>\n",
       "    <tr>\n",
       "      <th>4</th>\n",
       "      <td>./People_after1/Elizabeth II/Elizabeth09.jpeg</td>\n",
       "      <td>./People/Elizabeth II/Elizabeth09.jpeg</td>\n",
       "      <td>./People/Elizabeth II</td>\n",
       "      <td>Elizabeth09.jpeg</td>\n",
       "      <td>Elizabeth II</td>\n",
       "      <td>4</td>\n",
       "    </tr>\n",
       "  </tbody>\n",
       "</table>\n",
       "</div>"
      ],
      "text/plain": [
       "                                              Id  \\\n",
       "0  ./People_after1/Elizabeth II/Elizabeth01.jpeg   \n",
       "1  ./People_after1/Elizabeth II/Elizabeth07.jpeg   \n",
       "2  ./People_after1/Elizabeth II/Elizabeth10.jpeg   \n",
       "3  ./People_after1/Elizabeth II/Elizabeth06.jpeg   \n",
       "4  ./People_after1/Elizabeth II/Elizabeth09.jpeg   \n",
       "\n",
       "                                   Old_Id            Folder_Name  \\\n",
       "0  ./People/Elizabeth II/Elizabeth01.jpeg  ./People/Elizabeth II   \n",
       "1  ./People/Elizabeth II/Elizabeth07.jpeg  ./People/Elizabeth II   \n",
       "2  ./People/Elizabeth II/Elizabeth10.jpeg  ./People/Elizabeth II   \n",
       "3  ./People/Elizabeth II/Elizabeth06.jpeg  ./People/Elizabeth II   \n",
       "4  ./People/Elizabeth II/Elizabeth09.jpeg  ./People/Elizabeth II   \n",
       "\n",
       "         Image_Name   Person_Name  Labels  \n",
       "0  Elizabeth01.jpeg  Elizabeth II       4  \n",
       "1  Elizabeth07.jpeg  Elizabeth II       4  \n",
       "2  Elizabeth10.jpeg  Elizabeth II       4  \n",
       "3  Elizabeth06.jpeg  Elizabeth II       4  \n",
       "4  Elizabeth09.jpeg  Elizabeth II       4  "
      ]
     },
     "execution_count": 13,
     "metadata": {},
     "output_type": "execute_result"
    }
   ],
   "source": [
    "elizabeth_df = pd.DataFrame()\n",
    "elizabeth_df[\"Id\"] = elizabeth_id\n",
    "elizabeth_df[\"Old_Id\"] = elizabeth_old_id\n",
    "elizabeth_df[\"Folder_Name\"] = elizabeth_folderName\n",
    "elizabeth_df[\"Image_Name\"] = elizabeth_imageName\n",
    "elizabeth_df[\"Person_Name\"] = elizabeth_personName\n",
    "elizabeth_df[\"Labels\"] = elizabeth_label\n",
    "elizabeth_df.head()"
   ]
  },
  {
   "cell_type": "markdown",
   "id": "smoking-gather",
   "metadata": {},
   "source": [
    "### Loading - Teresa"
   ]
  },
  {
   "cell_type": "code",
   "execution_count": 14,
   "id": "wireless-boston",
   "metadata": {},
   "outputs": [],
   "source": [
    "teresa = glob.glob(\"./People/Teresa/*\")"
   ]
  },
  {
   "cell_type": "code",
   "execution_count": 15,
   "id": "inclusive-cameroon",
   "metadata": {},
   "outputs": [],
   "source": [
    "teresa_folderName = [os.path.dirname(i) for i in teresa]\n",
    "teresa_imageName = [ntpath.split(i)[1] for i in teresa]\n",
    "teresa_personName = [[\"Teresa\"]*len(teresa)][0]\n",
    "teresa_label = [5]*len(teresa)\n",
    "\n",
    "teresa_id = []\n",
    "teresa_old_id = []\n",
    "for item in teresa_imageName:\n",
    "    teresa_id.append('./People_after1/Teresa/' + item)\n",
    "for item in teresa_imageName:\n",
    "    teresa_old_id.append('./People/Teresa/' + item)"
   ]
  },
  {
   "cell_type": "code",
   "execution_count": 16,
   "id": "answering-smooth",
   "metadata": {},
   "outputs": [
    {
     "data": {
      "text/html": [
       "<div>\n",
       "<style scoped>\n",
       "    .dataframe tbody tr th:only-of-type {\n",
       "        vertical-align: middle;\n",
       "    }\n",
       "\n",
       "    .dataframe tbody tr th {\n",
       "        vertical-align: top;\n",
       "    }\n",
       "\n",
       "    .dataframe thead th {\n",
       "        text-align: right;\n",
       "    }\n",
       "</style>\n",
       "<table border=\"1\" class=\"dataframe\">\n",
       "  <thead>\n",
       "    <tr style=\"text-align: right;\">\n",
       "      <th></th>\n",
       "      <th>Id</th>\n",
       "      <th>Old_Id</th>\n",
       "      <th>Folder_Name</th>\n",
       "      <th>Image_Name</th>\n",
       "      <th>Person_Name</th>\n",
       "      <th>Labels</th>\n",
       "    </tr>\n",
       "  </thead>\n",
       "  <tbody>\n",
       "    <tr>\n",
       "      <th>0</th>\n",
       "      <td>./People_after1/Teresa/Teresa04.JPG</td>\n",
       "      <td>./People/Teresa/Teresa04.JPG</td>\n",
       "      <td>./People/Teresa</td>\n",
       "      <td>Teresa04.JPG</td>\n",
       "      <td>Teresa</td>\n",
       "      <td>5</td>\n",
       "    </tr>\n",
       "    <tr>\n",
       "      <th>1</th>\n",
       "      <td>./People_after1/Teresa/Teresa10.jpg</td>\n",
       "      <td>./People/Teresa/Teresa10.jpg</td>\n",
       "      <td>./People/Teresa</td>\n",
       "      <td>Teresa10.jpg</td>\n",
       "      <td>Teresa</td>\n",
       "      <td>5</td>\n",
       "    </tr>\n",
       "    <tr>\n",
       "      <th>2</th>\n",
       "      <td>./People_after1/Teresa/Teresa05.JPG</td>\n",
       "      <td>./People/Teresa/Teresa05.JPG</td>\n",
       "      <td>./People/Teresa</td>\n",
       "      <td>Teresa05.JPG</td>\n",
       "      <td>Teresa</td>\n",
       "      <td>5</td>\n",
       "    </tr>\n",
       "    <tr>\n",
       "      <th>3</th>\n",
       "      <td>./People_after1/Teresa/Teresa07.JPG</td>\n",
       "      <td>./People/Teresa/Teresa07.JPG</td>\n",
       "      <td>./People/Teresa</td>\n",
       "      <td>Teresa07.JPG</td>\n",
       "      <td>Teresa</td>\n",
       "      <td>5</td>\n",
       "    </tr>\n",
       "    <tr>\n",
       "      <th>4</th>\n",
       "      <td>./People_after1/Teresa/Teresa06.JPG</td>\n",
       "      <td>./People/Teresa/Teresa06.JPG</td>\n",
       "      <td>./People/Teresa</td>\n",
       "      <td>Teresa06.JPG</td>\n",
       "      <td>Teresa</td>\n",
       "      <td>5</td>\n",
       "    </tr>\n",
       "  </tbody>\n",
       "</table>\n",
       "</div>"
      ],
      "text/plain": [
       "                                    Id                        Old_Id  \\\n",
       "0  ./People_after1/Teresa/Teresa04.JPG  ./People/Teresa/Teresa04.JPG   \n",
       "1  ./People_after1/Teresa/Teresa10.jpg  ./People/Teresa/Teresa10.jpg   \n",
       "2  ./People_after1/Teresa/Teresa05.JPG  ./People/Teresa/Teresa05.JPG   \n",
       "3  ./People_after1/Teresa/Teresa07.JPG  ./People/Teresa/Teresa07.JPG   \n",
       "4  ./People_after1/Teresa/Teresa06.JPG  ./People/Teresa/Teresa06.JPG   \n",
       "\n",
       "       Folder_Name    Image_Name Person_Name  Labels  \n",
       "0  ./People/Teresa  Teresa04.JPG      Teresa       5  \n",
       "1  ./People/Teresa  Teresa10.jpg      Teresa       5  \n",
       "2  ./People/Teresa  Teresa05.JPG      Teresa       5  \n",
       "3  ./People/Teresa  Teresa07.JPG      Teresa       5  \n",
       "4  ./People/Teresa  Teresa06.JPG      Teresa       5  "
      ]
     },
     "execution_count": 16,
     "metadata": {},
     "output_type": "execute_result"
    }
   ],
   "source": [
    "teresa_df = pd.DataFrame()\n",
    "teresa_df[\"Id\"] = teresa_id\n",
    "teresa_df[\"Old_Id\"] = teresa_old_id\n",
    "teresa_df[\"Folder_Name\"] = teresa_folderName\n",
    "teresa_df[\"Image_Name\"] = teresa_imageName\n",
    "teresa_df[\"Person_Name\"] = teresa_personName\n",
    "teresa_df[\"Labels\"] = teresa_label\n",
    "teresa_df.head()"
   ]
  },
  {
   "cell_type": "markdown",
   "id": "early-cookie",
   "metadata": {},
   "source": [
    "### Combine all dataframes"
   ]
  },
  {
   "cell_type": "code",
   "execution_count": 17,
   "id": "alternative-camel",
   "metadata": {},
   "outputs": [
    {
     "data": {
      "text/plain": [
       "(50, 6)"
      ]
     },
     "execution_count": 17,
     "metadata": {},
     "output_type": "execute_result"
    }
   ],
   "source": [
    "frames = [ennie_df, jimmy_df, biden_df, elizabeth_df, teresa_df]\n",
    "people_df = pd.concat(frames)\n",
    "people_df.shape"
   ]
  },
  {
   "cell_type": "code",
   "execution_count": 18,
   "id": "varying-serve",
   "metadata": {
    "scrolled": true
   },
   "outputs": [
    {
     "name": "stdout",
     "output_type": "stream",
     "text": [
      "                                  Id                      Old_Id  \\\n",
      "0  ./People_after1/Ennie/Ennie07.JPG  ./People/Ennie/Ennie07.JPG   \n",
      "1  ./People_after1/Ennie/Ennie06.JPG  ./People/Ennie/Ennie06.JPG   \n",
      "2  ./People_after1/Ennie/Ennie10.JPG  ./People/Ennie/Ennie10.JPG   \n",
      "3  ./People_after1/Ennie/Ennie04.JPG  ./People/Ennie/Ennie04.JPG   \n",
      "4  ./People_after1/Ennie/Ennie05.JPG  ./People/Ennie/Ennie05.JPG   \n",
      "\n",
      "      Folder_Name   Image_Name Person_Name  Labels  \n",
      "0  ./People/Ennie  Ennie07.JPG       Ennie       1  \n",
      "1  ./People/Ennie  Ennie06.JPG       Ennie       1  \n",
      "2  ./People/Ennie  Ennie10.JPG       Ennie       1  \n",
      "3  ./People/Ennie  Ennie04.JPG       Ennie       1  \n",
      "4  ./People/Ennie  Ennie05.JPG       Ennie       1   \n",
      "\n",
      "                                     Id                        Old_Id  \\\n",
      "45  ./People_after1/Teresa/Teresa02.JPG  ./People/Teresa/Teresa02.JPG   \n",
      "46  ./People_after1/Teresa/Teresa03.JPG  ./People/Teresa/Teresa03.JPG   \n",
      "47  ./People_after1/Teresa/Teresa01.JPG  ./People/Teresa/Teresa01.JPG   \n",
      "48  ./People_after1/Teresa/Teresa08.JPG  ./People/Teresa/Teresa08.JPG   \n",
      "49  ./People_after1/Teresa/Teresa09.JPG  ./People/Teresa/Teresa09.JPG   \n",
      "\n",
      "        Folder_Name    Image_Name Person_Name  Labels  \n",
      "45  ./People/Teresa  Teresa02.JPG      Teresa       5  \n",
      "46  ./People/Teresa  Teresa03.JPG      Teresa       5  \n",
      "47  ./People/Teresa  Teresa01.JPG      Teresa       5  \n",
      "48  ./People/Teresa  Teresa08.JPG      Teresa       5  \n",
      "49  ./People/Teresa  Teresa09.JPG      Teresa       5  \n"
     ]
    }
   ],
   "source": [
    "people_df.reset_index(inplace = True, drop = True)\n",
    "print(people_df.head(), '\\n')\n",
    "print(people_df.tail())"
   ]
  },
  {
   "cell_type": "markdown",
   "id": "bizarre-lafayette",
   "metadata": {},
   "source": [
    "### Cropping and Resizing images"
   ]
  },
  {
   "cell_type": "code",
   "execution_count": 19,
   "id": "voluntary-macintosh",
   "metadata": {},
   "outputs": [],
   "source": [
    "def facecrop(df):\n",
    "    \"\"\"crop and keep only the face part in images\"\"\"\n",
    "    # face images file\n",
    "    cascade = cv2.CascadeClassifier(cv2.data.haarcascades + 'haarcascade_frontalface_default.xml')\n",
    "    \n",
    "    # crop the image to face size\n",
    "    for i, temp_df in df.iterrows():\n",
    "        img = cv2.imread(temp_df[\"Old_Id\"])\n",
    "        minisize = (img.shape[1],img.shape[0])\n",
    "        miniframe = cv2.resize(img, minisize)\n",
    "        faces = cascade.detectMultiScale(miniframe)\n",
    "\n",
    "        for f in faces:\n",
    "            x, y, w, h = [ v for v in f ]\n",
    "            cv2.rectangle(img, (x,y), (x+w,y+h), (255,255,255))\n",
    "            sub_face = img[y:y+h, x:x+w]\n",
    "            \n",
    "            fname, ext = os.path.splitext(temp_df[\"Id\"])\n",
    "            cv2.imwrite(temp_df[\"Id\"], sub_face)\n",
    "    return"
   ]
  },
  {
   "cell_type": "code",
   "execution_count": 20,
   "id": "reported-handbook",
   "metadata": {},
   "outputs": [],
   "source": [
    "facecrop(people_df)"
   ]
  },
  {
   "cell_type": "markdown",
   "id": "transparent-weekly",
   "metadata": {},
   "source": [
    "### Converting images to grayscale and resize to 224x224"
   ]
  },
  {
   "cell_type": "code",
   "execution_count": 21,
   "id": "integrated-natural",
   "metadata": {},
   "outputs": [],
   "source": [
    "def convert_to_grayscale(df):\n",
    "    \"\"\"convert images from colorful to grayscale\"\"\"\n",
    "    for i, temp_df in df.iterrows():\n",
    "        img = cv2.imread(temp_df[\"Id\"])\n",
    "        gray = cv2.cvtColor(img, cv2.COLOR_RGB2GRAY)\n",
    "        face_resized = cv2.resize(gray, (224, 224))\n",
    "        cv2.imwrite(temp_df[\"Id\"], face_resized)"
   ]
  },
  {
   "cell_type": "code",
   "execution_count": 22,
   "id": "separate-router",
   "metadata": {},
   "outputs": [],
   "source": [
    "convert_to_grayscale(people_df)"
   ]
  },
  {
   "cell_type": "markdown",
   "id": "powered-heater",
   "metadata": {},
   "source": [
    "### Splitting dataset to X, Y"
   ]
  },
  {
   "cell_type": "code",
   "execution_count": 23,
   "id": "duplicate-yield",
   "metadata": {
    "scrolled": false
   },
   "outputs": [
    {
     "name": "stderr",
     "output_type": "stream",
     "text": [
      "/anaconda3/lib/python3.6/site-packages/ipykernel_launcher.py:4: TqdmDeprecationWarning: This function will be removed in tqdm==5.0.0\n",
      "Please use `tqdm.notebook.tqdm` instead of `tqdm.tqdm_notebook`\n",
      "  after removing the cwd from sys.path.\n"
     ]
    },
    {
     "data": {
      "application/vnd.jupyter.widget-view+json": {
       "model_id": "ca10fb8e74174d87bcd86b200a35b953",
       "version_major": 2,
       "version_minor": 0
      },
      "text/plain": [
       "HBox(children=(FloatProgress(value=0.0, max=50.0), HTML(value='')))"
      ]
     },
     "metadata": {},
     "output_type": "display_data"
    },
    {
     "name": "stdout",
     "output_type": "stream",
     "text": [
      "\n"
     ]
    }
   ],
   "source": [
    "X = []\n",
    "Y = []\n",
    "\n",
    "for img_id in tqdm_notebook(people_df['Id'].values):\n",
    "    temp = cv2.imread(img_id)\n",
    "    temp = temp.astype('float32')\n",
    "    temp = np.expand_dims(temp, axis=2)\n",
    "    X.append(temp)\n",
    "    Y.append(people_df[people_df['Id'] == img_id]['Labels'].values[0]) \n",
    "\n",
    "#normalize\n",
    "X = np.asarray(X)\n",
    "X = X.astype('float32')\n",
    "X /= 255\n",
    "Y = [[el] for el in Y]\n",
    "Y = np.asarray(Y)"
   ]
  },
  {
   "cell_type": "code",
   "execution_count": 24,
   "id": "thorough-genius",
   "metadata": {},
   "outputs": [],
   "source": [
    "# squeeze the dimensions\n",
    "X = np.squeeze(X, 3)"
   ]
  },
  {
   "cell_type": "code",
   "execution_count": 25,
   "id": "express-worker",
   "metadata": {},
   "outputs": [],
   "source": [
    "# convert labels to dummy variables\n",
    "enc = OneHotEncoder(handle_unknown='ignore')\n",
    "enc.fit(Y)\n",
    "\n",
    "Y = enc.transform(Y).toarray()"
   ]
  },
  {
   "cell_type": "code",
   "execution_count": 26,
   "id": "bigger-double",
   "metadata": {},
   "outputs": [
    {
     "data": {
      "text/plain": [
       "(50, 224, 224, 3)"
      ]
     },
     "execution_count": 26,
     "metadata": {},
     "output_type": "execute_result"
    }
   ],
   "source": [
    "X.shape"
   ]
  },
  {
   "cell_type": "code",
   "execution_count": 27,
   "id": "binding-blind",
   "metadata": {},
   "outputs": [
    {
     "data": {
      "text/plain": [
       "(50, 5)"
      ]
     },
     "execution_count": 27,
     "metadata": {},
     "output_type": "execute_result"
    }
   ],
   "source": [
    "Y.shape"
   ]
  },
  {
   "cell_type": "markdown",
   "id": "tropical-fence",
   "metadata": {},
   "source": [
    "## Allow other file to access X, Y of dataset"
   ]
  },
  {
   "cell_type": "code",
   "execution_count": 28,
   "id": "regulation-kernel",
   "metadata": {},
   "outputs": [],
   "source": [
    "def load_data():\n",
    "    return X, Y"
   ]
  },
  {
   "cell_type": "code",
   "execution_count": null,
   "id": "democratic-plumbing",
   "metadata": {},
   "outputs": [],
   "source": []
  }
 ],
 "metadata": {
  "kernelspec": {
   "display_name": "Python 3",
   "language": "python",
   "name": "python3"
  },
  "language_info": {
   "codemirror_mode": {
    "name": "ipython",
    "version": 3
   },
   "file_extension": ".py",
   "mimetype": "text/x-python",
   "name": "python",
   "nbconvert_exporter": "python",
   "pygments_lexer": "ipython3",
   "version": "3.6.4"
  }
 },
 "nbformat": 4,
 "nbformat_minor": 5
}
